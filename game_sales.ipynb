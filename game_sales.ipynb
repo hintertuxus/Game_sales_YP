{
 "cells": [
  {
   "cell_type": "markdown",
   "metadata": {},
   "source": [
    "# Исследование данных о продаже игр\n",
    "\n",
    ">  Исследование для интернет-магазина, который продаёт по всему миру компьютерные игры. Из открытых источников доступны исторические данные о продажах игр, оценки пользователей и экспертов, жанры и платформы (например, Xbox или PlayStation). Необходимо выявить определяющие успешность игры закономерности. Это позволит сделать ставку на потенциально популярный продукт и спланировать рекламные кампании."
   ]
  },
  {
   "cell_type": "markdown",
   "metadata": {},
   "source": [
    "__Цель исследования__\n",
    "\n",
    "Выявить факторы, определяющие успешность той или иной игры:\n",
    "1. Зависимость продаж от региона.\n",
    "2. Зависимость продаж от платформы.\n",
    "3. Зависимость продаж от жанра.\n",
    "4. Зависимость продаж от установленного рейтинга ESRB.\n"
   ]
  },
  {
   "cell_type": "markdown",
   "metadata": {},
   "source": [
    "__Ход исследования__\n",
    "\n",
    "Данные для исследования представлены в файле\n",
    "`/datasets/games.csv`\n",
    ". О качестве данных ничего не известно, в начале потребуется обзор данных.\n",
    "\n",
    "Следом необходимо будет проверить данные на ошибки и их влияние на исследование. После - предпринять попытку исправить наибольшее возможное количество ошибок на этапе Предобработки данных, убедившись, что эти исправления не приведут к искажению результата. Затем создать необходимые столбцы с обработанными данными и приступить к проведению исследовательского анализа. \n",
    "\n",
    "В конечном итоге, необходимо будет сформулировать и проверить гипотезу. \n",
    "\n",
    "Таким образом исследование пройдет в шесть этапов:\n",
    "\n",
    "* Обзор данных\n",
    "* Предобработка данных\n",
    "* Проведение анализа данных\n",
    "* Составление портретов региональных пользователей (NA, EU, JP)\n",
    "* Формулировка и проверка гипотезы\n",
    "* Общие вывыды\n"
   ]
  },
  {
   "cell_type": "markdown",
   "metadata": {},
   "source": [
    "_Перед началом работы загрузим необходимые библиотеки_"
   ]
  },
  {
   "cell_type": "code",
   "execution_count": 1,
   "metadata": {},
   "outputs": [],
   "source": [
    "import pandas as pd\n",
    "import matplotlib.pyplot as plt\n",
    "import seaborn as sns\n",
    "from scipy import stats as st\n"
   ]
  },
  {
   "cell_type": "markdown",
   "metadata": {},
   "source": [
    "## Обзор данных"
   ]
  },
  {
   "cell_type": "markdown",
   "metadata": {},
   "source": [
    "Для знакомства с данными откроем файл и выведем:\n",
    "    \n",
    "1. Первые 20 строк таблицы\n",
    "\n",
    "2. Общую информацию по таблице\n",
    "\n",
    "3. Гистограммы для всех числовых столбцов таблицы"
   ]
  },
  {
   "cell_type": "code",
   "execution_count": 2,
   "metadata": {},
   "outputs": [],
   "source": [
    "try:\n",
    "    df = pd.read_csv('/datasets/games.csv')\n",
    "except:\n",
    "    df = pd.read_csv('https://code.s3.yandex.net/datasets/real_estate_data.csv')"
   ]
  },
  {
   "cell_type": "code",
   "execution_count": 3,
   "metadata": {},
   "outputs": [
    {
     "data": {
      "text/html": [
       "<div>\n",
       "<style scoped>\n",
       "    .dataframe tbody tr th:only-of-type {\n",
       "        vertical-align: middle;\n",
       "    }\n",
       "\n",
       "    .dataframe tbody tr th {\n",
       "        vertical-align: top;\n",
       "    }\n",
       "\n",
       "    .dataframe thead th {\n",
       "        text-align: right;\n",
       "    }\n",
       "</style>\n",
       "<table border=\"1\" class=\"dataframe\">\n",
       "  <thead>\n",
       "    <tr style=\"text-align: right;\">\n",
       "      <th></th>\n",
       "      <th>Name</th>\n",
       "      <th>Platform</th>\n",
       "      <th>Year_of_Release</th>\n",
       "      <th>Genre</th>\n",
       "      <th>NA_sales</th>\n",
       "      <th>EU_sales</th>\n",
       "      <th>JP_sales</th>\n",
       "      <th>Other_sales</th>\n",
       "      <th>Critic_Score</th>\n",
       "      <th>User_Score</th>\n",
       "      <th>Rating</th>\n",
       "    </tr>\n",
       "  </thead>\n",
       "  <tbody>\n",
       "    <tr>\n",
       "      <th>0</th>\n",
       "      <td>Wii Sports</td>\n",
       "      <td>Wii</td>\n",
       "      <td>2006.0</td>\n",
       "      <td>Sports</td>\n",
       "      <td>41.36</td>\n",
       "      <td>28.96</td>\n",
       "      <td>3.77</td>\n",
       "      <td>8.45</td>\n",
       "      <td>76.0</td>\n",
       "      <td>8</td>\n",
       "      <td>E</td>\n",
       "    </tr>\n",
       "    <tr>\n",
       "      <th>1</th>\n",
       "      <td>Super Mario Bros.</td>\n",
       "      <td>NES</td>\n",
       "      <td>1985.0</td>\n",
       "      <td>Platform</td>\n",
       "      <td>29.08</td>\n",
       "      <td>3.58</td>\n",
       "      <td>6.81</td>\n",
       "      <td>0.77</td>\n",
       "      <td>NaN</td>\n",
       "      <td>NaN</td>\n",
       "      <td>NaN</td>\n",
       "    </tr>\n",
       "    <tr>\n",
       "      <th>2</th>\n",
       "      <td>Mario Kart Wii</td>\n",
       "      <td>Wii</td>\n",
       "      <td>2008.0</td>\n",
       "      <td>Racing</td>\n",
       "      <td>15.68</td>\n",
       "      <td>12.76</td>\n",
       "      <td>3.79</td>\n",
       "      <td>3.29</td>\n",
       "      <td>82.0</td>\n",
       "      <td>8.3</td>\n",
       "      <td>E</td>\n",
       "    </tr>\n",
       "    <tr>\n",
       "      <th>3</th>\n",
       "      <td>Wii Sports Resort</td>\n",
       "      <td>Wii</td>\n",
       "      <td>2009.0</td>\n",
       "      <td>Sports</td>\n",
       "      <td>15.61</td>\n",
       "      <td>10.93</td>\n",
       "      <td>3.28</td>\n",
       "      <td>2.95</td>\n",
       "      <td>80.0</td>\n",
       "      <td>8</td>\n",
       "      <td>E</td>\n",
       "    </tr>\n",
       "    <tr>\n",
       "      <th>4</th>\n",
       "      <td>Pokemon Red/Pokemon Blue</td>\n",
       "      <td>GB</td>\n",
       "      <td>1996.0</td>\n",
       "      <td>Role-Playing</td>\n",
       "      <td>11.27</td>\n",
       "      <td>8.89</td>\n",
       "      <td>10.22</td>\n",
       "      <td>1.00</td>\n",
       "      <td>NaN</td>\n",
       "      <td>NaN</td>\n",
       "      <td>NaN</td>\n",
       "    </tr>\n",
       "    <tr>\n",
       "      <th>5</th>\n",
       "      <td>Tetris</td>\n",
       "      <td>GB</td>\n",
       "      <td>1989.0</td>\n",
       "      <td>Puzzle</td>\n",
       "      <td>23.20</td>\n",
       "      <td>2.26</td>\n",
       "      <td>4.22</td>\n",
       "      <td>0.58</td>\n",
       "      <td>NaN</td>\n",
       "      <td>NaN</td>\n",
       "      <td>NaN</td>\n",
       "    </tr>\n",
       "    <tr>\n",
       "      <th>6</th>\n",
       "      <td>New Super Mario Bros.</td>\n",
       "      <td>DS</td>\n",
       "      <td>2006.0</td>\n",
       "      <td>Platform</td>\n",
       "      <td>11.28</td>\n",
       "      <td>9.14</td>\n",
       "      <td>6.50</td>\n",
       "      <td>2.88</td>\n",
       "      <td>89.0</td>\n",
       "      <td>8.5</td>\n",
       "      <td>E</td>\n",
       "    </tr>\n",
       "    <tr>\n",
       "      <th>7</th>\n",
       "      <td>Wii Play</td>\n",
       "      <td>Wii</td>\n",
       "      <td>2006.0</td>\n",
       "      <td>Misc</td>\n",
       "      <td>13.96</td>\n",
       "      <td>9.18</td>\n",
       "      <td>2.93</td>\n",
       "      <td>2.84</td>\n",
       "      <td>58.0</td>\n",
       "      <td>6.6</td>\n",
       "      <td>E</td>\n",
       "    </tr>\n",
       "    <tr>\n",
       "      <th>8</th>\n",
       "      <td>New Super Mario Bros. Wii</td>\n",
       "      <td>Wii</td>\n",
       "      <td>2009.0</td>\n",
       "      <td>Platform</td>\n",
       "      <td>14.44</td>\n",
       "      <td>6.94</td>\n",
       "      <td>4.70</td>\n",
       "      <td>2.24</td>\n",
       "      <td>87.0</td>\n",
       "      <td>8.4</td>\n",
       "      <td>E</td>\n",
       "    </tr>\n",
       "    <tr>\n",
       "      <th>9</th>\n",
       "      <td>Duck Hunt</td>\n",
       "      <td>NES</td>\n",
       "      <td>1984.0</td>\n",
       "      <td>Shooter</td>\n",
       "      <td>26.93</td>\n",
       "      <td>0.63</td>\n",
       "      <td>0.28</td>\n",
       "      <td>0.47</td>\n",
       "      <td>NaN</td>\n",
       "      <td>NaN</td>\n",
       "      <td>NaN</td>\n",
       "    </tr>\n",
       "    <tr>\n",
       "      <th>10</th>\n",
       "      <td>Nintendogs</td>\n",
       "      <td>DS</td>\n",
       "      <td>2005.0</td>\n",
       "      <td>Simulation</td>\n",
       "      <td>9.05</td>\n",
       "      <td>10.95</td>\n",
       "      <td>1.93</td>\n",
       "      <td>2.74</td>\n",
       "      <td>NaN</td>\n",
       "      <td>NaN</td>\n",
       "      <td>NaN</td>\n",
       "    </tr>\n",
       "    <tr>\n",
       "      <th>11</th>\n",
       "      <td>Mario Kart DS</td>\n",
       "      <td>DS</td>\n",
       "      <td>2005.0</td>\n",
       "      <td>Racing</td>\n",
       "      <td>9.71</td>\n",
       "      <td>7.47</td>\n",
       "      <td>4.13</td>\n",
       "      <td>1.90</td>\n",
       "      <td>91.0</td>\n",
       "      <td>8.6</td>\n",
       "      <td>E</td>\n",
       "    </tr>\n",
       "    <tr>\n",
       "      <th>12</th>\n",
       "      <td>Pokemon Gold/Pokemon Silver</td>\n",
       "      <td>GB</td>\n",
       "      <td>1999.0</td>\n",
       "      <td>Role-Playing</td>\n",
       "      <td>9.00</td>\n",
       "      <td>6.18</td>\n",
       "      <td>7.20</td>\n",
       "      <td>0.71</td>\n",
       "      <td>NaN</td>\n",
       "      <td>NaN</td>\n",
       "      <td>NaN</td>\n",
       "    </tr>\n",
       "    <tr>\n",
       "      <th>13</th>\n",
       "      <td>Wii Fit</td>\n",
       "      <td>Wii</td>\n",
       "      <td>2007.0</td>\n",
       "      <td>Sports</td>\n",
       "      <td>8.92</td>\n",
       "      <td>8.03</td>\n",
       "      <td>3.60</td>\n",
       "      <td>2.15</td>\n",
       "      <td>80.0</td>\n",
       "      <td>7.7</td>\n",
       "      <td>E</td>\n",
       "    </tr>\n",
       "    <tr>\n",
       "      <th>14</th>\n",
       "      <td>Kinect Adventures!</td>\n",
       "      <td>X360</td>\n",
       "      <td>2010.0</td>\n",
       "      <td>Misc</td>\n",
       "      <td>15.00</td>\n",
       "      <td>4.89</td>\n",
       "      <td>0.24</td>\n",
       "      <td>1.69</td>\n",
       "      <td>61.0</td>\n",
       "      <td>6.3</td>\n",
       "      <td>E</td>\n",
       "    </tr>\n",
       "    <tr>\n",
       "      <th>15</th>\n",
       "      <td>Wii Fit Plus</td>\n",
       "      <td>Wii</td>\n",
       "      <td>2009.0</td>\n",
       "      <td>Sports</td>\n",
       "      <td>9.01</td>\n",
       "      <td>8.49</td>\n",
       "      <td>2.53</td>\n",
       "      <td>1.77</td>\n",
       "      <td>80.0</td>\n",
       "      <td>7.4</td>\n",
       "      <td>E</td>\n",
       "    </tr>\n",
       "    <tr>\n",
       "      <th>16</th>\n",
       "      <td>Grand Theft Auto V</td>\n",
       "      <td>PS3</td>\n",
       "      <td>2013.0</td>\n",
       "      <td>Action</td>\n",
       "      <td>7.02</td>\n",
       "      <td>9.09</td>\n",
       "      <td>0.98</td>\n",
       "      <td>3.96</td>\n",
       "      <td>97.0</td>\n",
       "      <td>8.2</td>\n",
       "      <td>M</td>\n",
       "    </tr>\n",
       "    <tr>\n",
       "      <th>17</th>\n",
       "      <td>Grand Theft Auto: San Andreas</td>\n",
       "      <td>PS2</td>\n",
       "      <td>2004.0</td>\n",
       "      <td>Action</td>\n",
       "      <td>9.43</td>\n",
       "      <td>0.40</td>\n",
       "      <td>0.41</td>\n",
       "      <td>10.57</td>\n",
       "      <td>95.0</td>\n",
       "      <td>9</td>\n",
       "      <td>M</td>\n",
       "    </tr>\n",
       "    <tr>\n",
       "      <th>18</th>\n",
       "      <td>Super Mario World</td>\n",
       "      <td>SNES</td>\n",
       "      <td>1990.0</td>\n",
       "      <td>Platform</td>\n",
       "      <td>12.78</td>\n",
       "      <td>3.75</td>\n",
       "      <td>3.54</td>\n",
       "      <td>0.55</td>\n",
       "      <td>NaN</td>\n",
       "      <td>NaN</td>\n",
       "      <td>NaN</td>\n",
       "    </tr>\n",
       "    <tr>\n",
       "      <th>19</th>\n",
       "      <td>Brain Age: Train Your Brain in Minutes a Day</td>\n",
       "      <td>DS</td>\n",
       "      <td>2005.0</td>\n",
       "      <td>Misc</td>\n",
       "      <td>4.74</td>\n",
       "      <td>9.20</td>\n",
       "      <td>4.16</td>\n",
       "      <td>2.04</td>\n",
       "      <td>77.0</td>\n",
       "      <td>7.9</td>\n",
       "      <td>E</td>\n",
       "    </tr>\n",
       "  </tbody>\n",
       "</table>\n",
       "</div>"
      ],
      "text/plain": [
       "                                            Name Platform  Year_of_Release  \\\n",
       "0                                     Wii Sports      Wii           2006.0   \n",
       "1                              Super Mario Bros.      NES           1985.0   \n",
       "2                                 Mario Kart Wii      Wii           2008.0   \n",
       "3                              Wii Sports Resort      Wii           2009.0   \n",
       "4                       Pokemon Red/Pokemon Blue       GB           1996.0   \n",
       "5                                         Tetris       GB           1989.0   \n",
       "6                          New Super Mario Bros.       DS           2006.0   \n",
       "7                                       Wii Play      Wii           2006.0   \n",
       "8                      New Super Mario Bros. Wii      Wii           2009.0   \n",
       "9                                      Duck Hunt      NES           1984.0   \n",
       "10                                    Nintendogs       DS           2005.0   \n",
       "11                                 Mario Kart DS       DS           2005.0   \n",
       "12                   Pokemon Gold/Pokemon Silver       GB           1999.0   \n",
       "13                                       Wii Fit      Wii           2007.0   \n",
       "14                            Kinect Adventures!     X360           2010.0   \n",
       "15                                  Wii Fit Plus      Wii           2009.0   \n",
       "16                            Grand Theft Auto V      PS3           2013.0   \n",
       "17                 Grand Theft Auto: San Andreas      PS2           2004.0   \n",
       "18                             Super Mario World     SNES           1990.0   \n",
       "19  Brain Age: Train Your Brain in Minutes a Day       DS           2005.0   \n",
       "\n",
       "           Genre  NA_sales  EU_sales  JP_sales  Other_sales  Critic_Score  \\\n",
       "0         Sports     41.36     28.96      3.77         8.45          76.0   \n",
       "1       Platform     29.08      3.58      6.81         0.77           NaN   \n",
       "2         Racing     15.68     12.76      3.79         3.29          82.0   \n",
       "3         Sports     15.61     10.93      3.28         2.95          80.0   \n",
       "4   Role-Playing     11.27      8.89     10.22         1.00           NaN   \n",
       "5         Puzzle     23.20      2.26      4.22         0.58           NaN   \n",
       "6       Platform     11.28      9.14      6.50         2.88          89.0   \n",
       "7           Misc     13.96      9.18      2.93         2.84          58.0   \n",
       "8       Platform     14.44      6.94      4.70         2.24          87.0   \n",
       "9        Shooter     26.93      0.63      0.28         0.47           NaN   \n",
       "10    Simulation      9.05     10.95      1.93         2.74           NaN   \n",
       "11        Racing      9.71      7.47      4.13         1.90          91.0   \n",
       "12  Role-Playing      9.00      6.18      7.20         0.71           NaN   \n",
       "13        Sports      8.92      8.03      3.60         2.15          80.0   \n",
       "14          Misc     15.00      4.89      0.24         1.69          61.0   \n",
       "15        Sports      9.01      8.49      2.53         1.77          80.0   \n",
       "16        Action      7.02      9.09      0.98         3.96          97.0   \n",
       "17        Action      9.43      0.40      0.41        10.57          95.0   \n",
       "18      Platform     12.78      3.75      3.54         0.55           NaN   \n",
       "19          Misc      4.74      9.20      4.16         2.04          77.0   \n",
       "\n",
       "   User_Score Rating  \n",
       "0           8      E  \n",
       "1         NaN    NaN  \n",
       "2         8.3      E  \n",
       "3           8      E  \n",
       "4         NaN    NaN  \n",
       "5         NaN    NaN  \n",
       "6         8.5      E  \n",
       "7         6.6      E  \n",
       "8         8.4      E  \n",
       "9         NaN    NaN  \n",
       "10        NaN    NaN  \n",
       "11        8.6      E  \n",
       "12        NaN    NaN  \n",
       "13        7.7      E  \n",
       "14        6.3      E  \n",
       "15        7.4      E  \n",
       "16        8.2      M  \n",
       "17          9      M  \n",
       "18        NaN    NaN  \n",
       "19        7.9      E  "
      ]
     },
     "execution_count": 3,
     "metadata": {},
     "output_type": "execute_result"
    }
   ],
   "source": [
    "df.head(20)"
   ]
  },
  {
   "cell_type": "markdown",
   "metadata": {},
   "source": [
    "В файле представлены данные по продажам игр для различных платформ с указанием названия, платформы, года выпуска, жанра, продаж по регионам, оценками критиков и пользователей и рейтингом ESRB."
   ]
  },
  {
   "cell_type": "code",
   "execution_count": 4,
   "metadata": {
    "scrolled": true
   },
   "outputs": [
    {
     "name": "stdout",
     "output_type": "stream",
     "text": [
      "<class 'pandas.core.frame.DataFrame'>\n",
      "RangeIndex: 16715 entries, 0 to 16714\n",
      "Data columns (total 11 columns):\n",
      " #   Column           Non-Null Count  Dtype  \n",
      "---  ------           --------------  -----  \n",
      " 0   Name             16713 non-null  object \n",
      " 1   Platform         16715 non-null  object \n",
      " 2   Year_of_Release  16446 non-null  float64\n",
      " 3   Genre            16713 non-null  object \n",
      " 4   NA_sales         16715 non-null  float64\n",
      " 5   EU_sales         16715 non-null  float64\n",
      " 6   JP_sales         16715 non-null  float64\n",
      " 7   Other_sales      16715 non-null  float64\n",
      " 8   Critic_Score     8137 non-null   float64\n",
      " 9   User_Score       10014 non-null  object \n",
      " 10  Rating           9949 non-null   object \n",
      "dtypes: float64(6), object(5)\n",
      "memory usage: 1.4+ MB\n"
     ]
    }
   ],
   "source": [
    "df.info()"
   ]
  },
  {
   "cell_type": "markdown",
   "metadata": {},
   "source": [
    "Из общей информации видно, что в файле находится 16715 строк, разбитых на 10 столбцов. Ряд столбцов требуют изменения типов данных отображения (год релиза, оценка пользователей). Также названия столбцов представлены в неудобном для работы формате."
   ]
  },
  {
   "cell_type": "code",
   "execution_count": 5,
   "metadata": {
    "scrolled": true
   },
   "outputs": [
    {
     "data": {
      "image/png": "[encoded data removed]",
      "text/plain": [
       "<Figure size 576x720 with 6 Axes>"
      ]
     },
     "metadata": {
      "needs_background": "light"
     },
     "output_type": "display_data"
    }
   ],
   "source": [
    "df.hist(figsize=(8, 10));"
   ]
  },
  {
   "cell_type": "markdown",
   "metadata": {},
   "source": [
    "Из-за неверно заданных данных в таблице гистограммы сторятся не для всех столбцов, для которых ожидается. Отсутствуют гистограммы для столбцов с годом релиза и оценкой пользователей.\n",
    "\n",
    "Также неинформативно отображаются данные по продажам. Выведем их с другими параметрами."
   ]
  },
  {
   "cell_type": "code",
   "execution_count": 6,
   "metadata": {},
   "outputs": [
    {
     "data": {
      "image/png": "[encoded data removed]",
      "text/plain": [
       "<Figure size 432x288 with 1 Axes>"
      ]
     },
     "metadata": {
      "needs_background": "light"
     },
     "output_type": "display_data"
    }
   ],
   "source": [
    "df['NA_sales'].hist(bins=50, range=(0,3));"
   ]
  },
  {
   "cell_type": "code",
   "execution_count": 7,
   "metadata": {},
   "outputs": [
    {
     "data": {
      "image/png": "[encoded data removed]",
      "text/plain": [
       "<Figure size 432x288 with 1 Axes>"
      ]
     },
     "metadata": {
      "needs_background": "light"
     },
     "output_type": "display_data"
    }
   ],
   "source": [
    "df['EU_sales'].hist(bins=50, range=(0,3));"
   ]
  },
  {
   "cell_type": "code",
   "execution_count": 8,
   "metadata": {},
   "outputs": [
    {
     "data": {
      "image/png": "[encoded data removed]",
      "text/plain": [
       "<Figure size 432x288 with 1 Axes>"
      ]
     },
     "metadata": {
      "needs_background": "light"
     },
     "output_type": "display_data"
    }
   ],
   "source": [
    "df['JP_sales'].hist(bins=50, range=(0,3));"
   ]
  },
  {
   "cell_type": "code",
   "execution_count": 9,
   "metadata": {},
   "outputs": [
    {
     "data": {
      "image/png": "[encoded data removed]",
      "text/plain": [
       "<Figure size 432x288 with 1 Axes>"
      ]
     },
     "metadata": {
      "needs_background": "light"
     },
     "output_type": "display_data"
    }
   ],
   "source": [
    "df['Other_sales'].hist(bins=50, range=(0,3));"
   ]
  },
  {
   "cell_type": "markdown",
   "metadata": {},
   "source": [
    "__Вывод:__ Предствлены табличные данные с 16779 записями по продажам игр по регионам. Данные включают в себя инфомацию по названию, жанрам, году выпуска, данные по региональным продажам, рейтинги пользователей, критиков и рейтинг ESRB.\n",
    "Данные представлены неравномерно и требуют предобработки."
   ]
  },
  {
   "cell_type": "markdown",
   "metadata": {},
   "source": [
    "## Предобработка данных"
   ]
  },
  {
   "cell_type": "markdown",
   "metadata": {},
   "source": [
    "### Обработка заголовков столбцов"
   ]
  },
  {
   "cell_type": "markdown",
   "metadata": {},
   "source": [
    "Первым шагом приведем все названия столбцов к единому формату (уберем заглавные буквы)"
   ]
  },
  {
   "cell_type": "code",
   "execution_count": 10,
   "metadata": {},
   "outputs": [],
   "source": [
    "df.columns = df.columns.str.lower()"
   ]
  },
  {
   "cell_type": "code",
   "execution_count": 11,
   "metadata": {},
   "outputs": [
    {
     "data": {
      "text/plain": [
       "Index(['name', 'platform', 'year_of_release', 'genre', 'na_sales', 'eu_sales',\n",
       "       'jp_sales', 'other_sales', 'critic_score', 'user_score', 'rating'],\n",
       "      dtype='object')"
      ]
     },
     "execution_count": 11,
     "metadata": {},
     "output_type": "execute_result"
    }
   ],
   "source": [
    "df.columns"
   ]
  },
  {
   "cell_type": "markdown",
   "metadata": {},
   "source": [
    "Проверка показала, что названия столбцов приведены к единому формату."
   ]
  },
  {
   "cell_type": "markdown",
   "metadata": {},
   "source": [
    "### Преобразование типов данных"
   ]
  },
  {
   "cell_type": "markdown",
   "metadata": {},
   "source": [
    "Теперь преобразуем несоответствующие типы данных"
   ]
  },
  {
   "cell_type": "code",
   "execution_count": 12,
   "metadata": {},
   "outputs": [
    {
     "data": {
      "text/plain": [
       "name                object\n",
       "platform            object\n",
       "year_of_release    float64\n",
       "genre               object\n",
       "na_sales           float64\n",
       "eu_sales           float64\n",
       "jp_sales           float64\n",
       "other_sales        float64\n",
       "critic_score       float64\n",
       "user_score          object\n",
       "rating              object\n",
       "dtype: object"
      ]
     },
     "execution_count": 12,
     "metadata": {},
     "output_type": "execute_result"
    }
   ],
   "source": [
    "df.dtypes"
   ]
  },
  {
   "cell_type": "markdown",
   "metadata": {},
   "source": [
    "Изменим тип данных в столбце __year_of_release__ на целые числа."
   ]
  },
  {
   "cell_type": "code",
   "execution_count": 13,
   "metadata": {},
   "outputs": [],
   "source": [
    "df['year_of_release'] = df['year_of_release'].astype('Int64')"
   ]
  },
  {
   "cell_type": "markdown",
   "metadata": {},
   "source": [
    "Также необходимо изменить тип данных в столбце __user_score__ на тип данных с плавающей точкой. Однако в столбце помимо пропусков есть еще значения:"
   ]
  },
  {
   "cell_type": "code",
   "execution_count": 14,
   "metadata": {},
   "outputs": [
    {
     "data": {
      "text/plain": [
       "array(['8', nan, '8.3', '8.5', '6.6', '8.4', '8.6', '7.7', '6.3', '7.4',\n",
       "       '8.2', '9', '7.9', '8.1', '8.7', '7.1', '3.4', '5.3', '4.8', '3.2',\n",
       "       '8.9', '6.4', '7.8', '7.5', '2.6', '7.2', '9.2', '7', '7.3', '4.3',\n",
       "       '7.6', '5.7', '5', '9.1', '6.5', 'tbd', '8.8', '6.9', '9.4', '6.8',\n",
       "       '6.1', '6.7', '5.4', '4', '4.9', '4.5', '9.3', '6.2', '4.2', '6',\n",
       "       '3.7', '4.1', '5.8', '5.6', '5.5', '4.4', '4.6', '5.9', '3.9',\n",
       "       '3.1', '2.9', '5.2', '3.3', '4.7', '5.1', '3.5', '2.5', '1.9', '3',\n",
       "       '2.7', '2.2', '2', '9.5', '2.1', '3.6', '2.8', '1.8', '3.8', '0',\n",
       "       '1.6', '9.6', '2.4', '1.7', '1.1', '0.3', '1.5', '0.7', '1.2',\n",
       "       '2.3', '0.5', '1.3', '0.2', '0.6', '1.4', '0.9', '1', '9.7'],\n",
       "      dtype=object)"
      ]
     },
     "execution_count": 14,
     "metadata": {},
     "output_type": "execute_result"
    }
   ],
   "source": [
    "df['user_score'].unique()"
   ]
  },
  {
   "cell_type": "markdown",
   "metadata": {},
   "source": [
    "Среди значений столбца есть строка __tbd__. Значение __tbd - to be determined__ обозначает ситуацию, когда показатель (в данном случае - пользовательская оценка) пока еще не определен. В рамках данного исследования это равнозначно тому, что данные отсутствуют (в текущем датасете данные не обновятся, в случае появления более свежего датасета мы можем просто подгрузить его вместо текущего, также мы не можем идентифицировать, как составлялся текущий датасет, и в каких случаях могли возникать потери значений - сколько из отсутствующих занчений должны отображаться действительной пользовательской оценкой, а сколько - абревиатурой __tbd__, в дополнение, мы не знаем критериев, по которым выставлялась эта абревиатура - значит ли это, что голосов за данную игру не было вообще, или что не было определенного количества голосов - например, 100 или 1000).\n",
    "\n",
    "Поэтому используем изменение данных, которое поменяет тип на данные с плавающей точкой и заменит все несоответствия на отсутствующие занчения."
   ]
  },
  {
   "cell_type": "code",
   "execution_count": 15,
   "metadata": {},
   "outputs": [],
   "source": [
    "df['user_score'] = pd.to_numeric(df['user_score'], errors='coerce')"
   ]
  },
  {
   "cell_type": "markdown",
   "metadata": {},
   "source": [
    "Проверяем изменения типов данных:"
   ]
  },
  {
   "cell_type": "code",
   "execution_count": 16,
   "metadata": {},
   "outputs": [
    {
     "data": {
      "text/plain": [
       "name                object\n",
       "platform            object\n",
       "year_of_release      Int64\n",
       "genre               object\n",
       "na_sales           float64\n",
       "eu_sales           float64\n",
       "jp_sales           float64\n",
       "other_sales        float64\n",
       "critic_score       float64\n",
       "user_score         float64\n",
       "rating              object\n",
       "dtype: object"
      ]
     },
     "execution_count": 16,
     "metadata": {},
     "output_type": "execute_result"
    }
   ],
   "source": [
    "df.dtypes"
   ]
  },
  {
   "cell_type": "markdown",
   "metadata": {},
   "source": [
    "Данные были преобразованы в двух столбцах: столбец __year_of_release__ (год отображается целым числом) и стобец __user_score__ (оценку пользователей удобнее отображать типом данных с плавающей точкой."
   ]
  },
  {
   "cell_type": "markdown",
   "metadata": {},
   "source": [
    "### Обработка пропусков"
   ]
  },
  {
   "cell_type": "markdown",
   "metadata": {},
   "source": [
    "Определим количество и процент пропусков в датасете:"
   ]
  },
  {
   "cell_type": "code",
   "execution_count": 17,
   "metadata": {},
   "outputs": [
    {
     "data": {
      "text/plain": [
       "name                  2\n",
       "platform              0\n",
       "year_of_release     269\n",
       "genre                 2\n",
       "na_sales              0\n",
       "eu_sales              0\n",
       "jp_sales              0\n",
       "other_sales           0\n",
       "critic_score       8578\n",
       "user_score         9125\n",
       "rating             6766\n",
       "dtype: int64"
      ]
     },
     "execution_count": 17,
     "metadata": {},
     "output_type": "execute_result"
    }
   ],
   "source": [
    "df.isna().sum()"
   ]
  },
  {
   "cell_type": "code",
   "execution_count": 18,
   "metadata": {
    "scrolled": true
   },
   "outputs": [
    {
     "data": {
      "text/html": [
       "<style  type=\"text/css\" >\n",
       "#T_90a3e_row0_col0,#T_90a3e_row1_col0,#T_90a3e_row3_col0,#T_90a3e_row4_col0,#T_90a3e_row5_col0,#T_90a3e_row6_col0,#T_90a3e_row7_col0{\n",
       "            background-color:  #3b4cc0;\n",
       "            color:  #f1f1f1;\n",
       "        }#T_90a3e_row2_col0{\n",
       "            background-color:  #455cce;\n",
       "            color:  #f1f1f1;\n",
       "        }#T_90a3e_row8_col0{\n",
       "            background-color:  #cd423b;\n",
       "            color:  #f1f1f1;\n",
       "        }#T_90a3e_row9_col0{\n",
       "            background-color:  #b40426;\n",
       "            color:  #f1f1f1;\n",
       "        }#T_90a3e_row10_col0{\n",
       "            background-color:  #f6a283;\n",
       "            color:  #000000;\n",
       "        }</style><table id=\"T_90a3e_\" ><thead>    <tr>        <th class=\"blank level0\" ></th>        <th class=\"col_heading level0 col0\" >0</th>    </tr></thead><tbody>\n",
       "                <tr>\n",
       "                        <th id=\"T_90a3e_level0_row0\" class=\"row_heading level0 row0\" >name</th>\n",
       "                        <td id=\"T_90a3e_row0_col0\" class=\"data row0 col0\" >0.000000</td>\n",
       "            </tr>\n",
       "            <tr>\n",
       "                        <th id=\"T_90a3e_level0_row1\" class=\"row_heading level0 row1\" >platform</th>\n",
       "                        <td id=\"T_90a3e_row1_col0\" class=\"data row1 col0\" >0.000000</td>\n",
       "            </tr>\n",
       "            <tr>\n",
       "                        <th id=\"T_90a3e_level0_row2\" class=\"row_heading level0 row2\" >year_of_release</th>\n",
       "                        <td id=\"T_90a3e_row2_col0\" class=\"data row2 col0\" >2.000000</td>\n",
       "            </tr>\n",
       "            <tr>\n",
       "                        <th id=\"T_90a3e_level0_row3\" class=\"row_heading level0 row3\" >genre</th>\n",
       "                        <td id=\"T_90a3e_row3_col0\" class=\"data row3 col0\" >0.000000</td>\n",
       "            </tr>\n",
       "            <tr>\n",
       "                        <th id=\"T_90a3e_level0_row4\" class=\"row_heading level0 row4\" >na_sales</th>\n",
       "                        <td id=\"T_90a3e_row4_col0\" class=\"data row4 col0\" >0.000000</td>\n",
       "            </tr>\n",
       "            <tr>\n",
       "                        <th id=\"T_90a3e_level0_row5\" class=\"row_heading level0 row5\" >eu_sales</th>\n",
       "                        <td id=\"T_90a3e_row5_col0\" class=\"data row5 col0\" >0.000000</td>\n",
       "            </tr>\n",
       "            <tr>\n",
       "                        <th id=\"T_90a3e_level0_row6\" class=\"row_heading level0 row6\" >jp_sales</th>\n",
       "                        <td id=\"T_90a3e_row6_col0\" class=\"data row6 col0\" >0.000000</td>\n",
       "            </tr>\n",
       "            <tr>\n",
       "                        <th id=\"T_90a3e_level0_row7\" class=\"row_heading level0 row7\" >other_sales</th>\n",
       "                        <td id=\"T_90a3e_row7_col0\" class=\"data row7 col0\" >0.000000</td>\n",
       "            </tr>\n",
       "            <tr>\n",
       "                        <th id=\"T_90a3e_level0_row8\" class=\"row_heading level0 row8\" >critic_score</th>\n",
       "                        <td id=\"T_90a3e_row8_col0\" class=\"data row8 col0\" >51.000000</td>\n",
       "            </tr>\n",
       "            <tr>\n",
       "                        <th id=\"T_90a3e_level0_row9\" class=\"row_heading level0 row9\" >user_score</th>\n",
       "                        <td id=\"T_90a3e_row9_col0\" class=\"data row9 col0\" >55.000000</td>\n",
       "            </tr>\n",
       "            <tr>\n",
       "                        <th id=\"T_90a3e_level0_row10\" class=\"row_heading level0 row10\" >rating</th>\n",
       "                        <td id=\"T_90a3e_row10_col0\" class=\"data row10 col0\" >40.000000</td>\n",
       "            </tr>\n",
       "    </tbody></table>"
      ],
      "text/plain": [
       "<pandas.io.formats.style.Styler at 0x7f1b1f5c1e20>"
      ]
     },
     "execution_count": 18,
     "metadata": {},
     "output_type": "execute_result"
    }
   ],
   "source": [
    "pd.DataFrame(round(df.isna().mean()*100,)).style.background_gradient('coolwarm')"
   ]
  },
  {
   "cell_type": "markdown",
   "metadata": {},
   "source": [
    "1) Сначала проверим пропуски по названиям и жанрам (по две строки) и по годам выпуска игр (2%)."
   ]
  },
  {
   "cell_type": "code",
   "execution_count": 19,
   "metadata": {},
   "outputs": [
    {
     "data": {
      "text/html": [
       "<div>\n",
       "<style scoped>\n",
       "    .dataframe tbody tr th:only-of-type {\n",
       "        vertical-align: middle;\n",
       "    }\n",
       "\n",
       "    .dataframe tbody tr th {\n",
       "        vertical-align: top;\n",
       "    }\n",
       "\n",
       "    .dataframe thead th {\n",
       "        text-align: right;\n",
       "    }\n",
       "</style>\n",
       "<table border=\"1\" class=\"dataframe\">\n",
       "  <thead>\n",
       "    <tr style=\"text-align: right;\">\n",
       "      <th></th>\n",
       "      <th>name</th>\n",
       "      <th>platform</th>\n",
       "      <th>year_of_release</th>\n",
       "      <th>genre</th>\n",
       "      <th>na_sales</th>\n",
       "      <th>eu_sales</th>\n",
       "      <th>jp_sales</th>\n",
       "      <th>other_sales</th>\n",
       "      <th>critic_score</th>\n",
       "      <th>user_score</th>\n",
       "      <th>rating</th>\n",
       "    </tr>\n",
       "  </thead>\n",
       "  <tbody>\n",
       "    <tr>\n",
       "      <th>659</th>\n",
       "      <td>NaN</td>\n",
       "      <td>GEN</td>\n",
       "      <td>1993</td>\n",
       "      <td>NaN</td>\n",
       "      <td>1.78</td>\n",
       "      <td>0.53</td>\n",
       "      <td>0.00</td>\n",
       "      <td>0.08</td>\n",
       "      <td>NaN</td>\n",
       "      <td>NaN</td>\n",
       "      <td>NaN</td>\n",
       "    </tr>\n",
       "    <tr>\n",
       "      <th>14244</th>\n",
       "      <td>NaN</td>\n",
       "      <td>GEN</td>\n",
       "      <td>1993</td>\n",
       "      <td>NaN</td>\n",
       "      <td>0.00</td>\n",
       "      <td>0.00</td>\n",
       "      <td>0.03</td>\n",
       "      <td>0.00</td>\n",
       "      <td>NaN</td>\n",
       "      <td>NaN</td>\n",
       "      <td>NaN</td>\n",
       "    </tr>\n",
       "  </tbody>\n",
       "</table>\n",
       "</div>"
      ],
      "text/plain": [
       "      name platform  year_of_release genre  na_sales  eu_sales  jp_sales  \\\n",
       "659    NaN      GEN             1993   NaN      1.78      0.53      0.00   \n",
       "14244  NaN      GEN             1993   NaN      0.00      0.00      0.03   \n",
       "\n",
       "       other_sales  critic_score  user_score rating  \n",
       "659           0.08           NaN         NaN    NaN  \n",
       "14244         0.00           NaN         NaN    NaN  "
      ]
     },
     "execution_count": 19,
     "metadata": {},
     "output_type": "execute_result"
    }
   ],
   "source": [
    "df.loc[df['name'].isna()]"
   ]
  },
  {
   "cell_type": "markdown",
   "metadata": {},
   "source": [
    "Строки с пропусками по названиям и жанрам совпадают. В обеих строках отсутствуют как жанр, так и название игры. Они не восстановимы. Удалим их из датасета.\n",
    "\n",
    "Пропуски по годам выпуска игр возникают всего в 2% представленных данных. Их также можно убрать без потери для качества данных."
   ]
  },
  {
   "cell_type": "code",
   "execution_count": 20,
   "metadata": {},
   "outputs": [],
   "source": [
    "df = df.dropna(subset=['name','year_of_release'])"
   ]
  },
  {
   "cell_type": "markdown",
   "metadata": {},
   "source": [
    "2) __critic_score__ и __user_score__ - это данные по оценкам критиков и пользователей. Отсутствие данных может быть связано как с техническими сбоями, так и непосредственно с отсутствием рейтинга (по различным причинам: непопулярность игры, выход игры в ту эпоху, когда еще не были распространены рейтинги, недавний выход игры, которую еще не успели оценить).\n",
    "\n",
    "Так как часто представлены одинаковые игры на разных платформах, можно предположить, что рейтинг одной игры на разных платформах будет схожим, и заполнить пропуски медианным значением."
   ]
  },
  {
   "cell_type": "code",
   "execution_count": 21,
   "metadata": {},
   "outputs": [
    {
     "data": {
      "text/plain": [
       "8461"
      ]
     },
     "execution_count": 21,
     "metadata": {},
     "output_type": "execute_result"
    }
   ],
   "source": [
    "df['critic_score'].isna().sum()"
   ]
  },
  {
   "cell_type": "code",
   "execution_count": 22,
   "metadata": {},
   "outputs": [],
   "source": [
    "df['critic_score'] = df['critic_score'].fillna(df.groupby('name')['critic_score'].transform('median'))"
   ]
  },
  {
   "cell_type": "code",
   "execution_count": 23,
   "metadata": {},
   "outputs": [
    {
     "data": {
      "text/plain": [
       "7522"
      ]
     },
     "execution_count": 23,
     "metadata": {},
     "output_type": "execute_result"
    }
   ],
   "source": [
    "df['critic_score'].isna().sum()"
   ]
  },
  {
   "cell_type": "code",
   "execution_count": 24,
   "metadata": {},
   "outputs": [
    {
     "data": {
      "text/plain": [
       "8981"
      ]
     },
     "execution_count": 24,
     "metadata": {},
     "output_type": "execute_result"
    }
   ],
   "source": [
    "df['user_score'].isna().sum()"
   ]
  },
  {
   "cell_type": "code",
   "execution_count": 25,
   "metadata": {},
   "outputs": [],
   "source": [
    "df['user_score'] = df['user_score'].fillna(df.groupby('name')['user_score'].transform('median'))"
   ]
  },
  {
   "cell_type": "code",
   "execution_count": 26,
   "metadata": {},
   "outputs": [
    {
     "data": {
      "text/plain": [
       "7920"
      ]
     },
     "execution_count": 26,
     "metadata": {},
     "output_type": "execute_result"
    }
   ],
   "source": [
    "df['user_score'].isna().sum()"
   ]
  },
  {
   "cell_type": "markdown",
   "metadata": {},
   "source": [
    "Удалось восстановить в районе 1000 пропусков в обоих столбцах. При этом осатвшиевся пропуски удалять нельзя. Оставляем как есть."
   ]
  },
  {
   "cell_type": "markdown",
   "metadata": {},
   "source": [
    "3) Пропуски в столбце __rating__ составляют 40%. Их тоже необходимо оставить, потому что здесь могут быть как технические ошибки (не указан рейтинг, который есть в наличии, так и те игры, которые не получали рейтинг (получение рейтинга - добровольная процедура).\n",
    "\n",
    "Неободимо заметить, что датасет содержит данные по одинаковым играм, вышедшим на различных платформах. Оценка пользователей и критиков от платформы к платформе может быть различен, однако рейтинг присваивается игре независимо от платформы, поэтому часть пропусков можно заполнить:"
   ]
  },
  {
   "cell_type": "code",
   "execution_count": 27,
   "metadata": {},
   "outputs": [
    {
     "data": {
      "text/plain": [
       "6676"
      ]
     },
     "execution_count": 27,
     "metadata": {},
     "output_type": "execute_result"
    }
   ],
   "source": [
    "df['rating'].isna().sum()"
   ]
  },
  {
   "cell_type": "code",
   "execution_count": 28,
   "metadata": {},
   "outputs": [],
   "source": [
    "df['rating'] = df.groupby('name').rating.transform('first')"
   ]
  },
  {
   "cell_type": "code",
   "execution_count": 29,
   "metadata": {},
   "outputs": [
    {
     "data": {
      "text/plain": [
       "6259"
      ]
     },
     "execution_count": 29,
     "metadata": {},
     "output_type": "execute_result"
    }
   ],
   "source": [
    "df['rating'].isna().sum()"
   ]
  },
  {
   "cell_type": "markdown",
   "metadata": {},
   "source": [
    "К серьезному сокращению пропусков в столбце __rating__ это не привело, но тем не менее около 500 строк было восстановлено. Тем неменее рейтинг - важный показатель, где нельзя оставлять пустые значения. Вставим заглушку __unknown__"
   ]
  },
  {
   "cell_type": "code",
   "execution_count": 30,
   "metadata": {},
   "outputs": [],
   "source": [
    "df['rating'] = df['rating'].fillna('Unknown')"
   ]
  },
  {
   "cell_type": "code",
   "execution_count": 31,
   "metadata": {},
   "outputs": [
    {
     "data": {
      "text/html": [
       "<style  type=\"text/css\" >\n",
       "#T_34492_row0_col0,#T_34492_row1_col0,#T_34492_row2_col0,#T_34492_row3_col0,#T_34492_row4_col0,#T_34492_row5_col0,#T_34492_row6_col0,#T_34492_row7_col0,#T_34492_row10_col0{\n",
       "            background-color:  #3b4cc0;\n",
       "            color:  #f1f1f1;\n",
       "        }#T_34492_row8_col0{\n",
       "            background-color:  #c32e31;\n",
       "            color:  #f1f1f1;\n",
       "        }#T_34492_row9_col0{\n",
       "            background-color:  #b40426;\n",
       "            color:  #f1f1f1;\n",
       "        }</style><table id=\"T_34492_\" ><thead>    <tr>        <th class=\"blank level0\" ></th>        <th class=\"col_heading level0 col0\" >0</th>    </tr></thead><tbody>\n",
       "                <tr>\n",
       "                        <th id=\"T_34492_level0_row0\" class=\"row_heading level0 row0\" >name</th>\n",
       "                        <td id=\"T_34492_row0_col0\" class=\"data row0 col0\" >0.000000</td>\n",
       "            </tr>\n",
       "            <tr>\n",
       "                        <th id=\"T_34492_level0_row1\" class=\"row_heading level0 row1\" >platform</th>\n",
       "                        <td id=\"T_34492_row1_col0\" class=\"data row1 col0\" >0.000000</td>\n",
       "            </tr>\n",
       "            <tr>\n",
       "                        <th id=\"T_34492_level0_row2\" class=\"row_heading level0 row2\" >year_of_release</th>\n",
       "                        <td id=\"T_34492_row2_col0\" class=\"data row2 col0\" >0.000000</td>\n",
       "            </tr>\n",
       "            <tr>\n",
       "                        <th id=\"T_34492_level0_row3\" class=\"row_heading level0 row3\" >genre</th>\n",
       "                        <td id=\"T_34492_row3_col0\" class=\"data row3 col0\" >0.000000</td>\n",
       "            </tr>\n",
       "            <tr>\n",
       "                        <th id=\"T_34492_level0_row4\" class=\"row_heading level0 row4\" >na_sales</th>\n",
       "                        <td id=\"T_34492_row4_col0\" class=\"data row4 col0\" >0.000000</td>\n",
       "            </tr>\n",
       "            <tr>\n",
       "                        <th id=\"T_34492_level0_row5\" class=\"row_heading level0 row5\" >eu_sales</th>\n",
       "                        <td id=\"T_34492_row5_col0\" class=\"data row5 col0\" >0.000000</td>\n",
       "            </tr>\n",
       "            <tr>\n",
       "                        <th id=\"T_34492_level0_row6\" class=\"row_heading level0 row6\" >jp_sales</th>\n",
       "                        <td id=\"T_34492_row6_col0\" class=\"data row6 col0\" >0.000000</td>\n",
       "            </tr>\n",
       "            <tr>\n",
       "                        <th id=\"T_34492_level0_row7\" class=\"row_heading level0 row7\" >other_sales</th>\n",
       "                        <td id=\"T_34492_row7_col0\" class=\"data row7 col0\" >0.000000</td>\n",
       "            </tr>\n",
       "            <tr>\n",
       "                        <th id=\"T_34492_level0_row8\" class=\"row_heading level0 row8\" >critic_score</th>\n",
       "                        <td id=\"T_34492_row8_col0\" class=\"data row8 col0\" >46.000000</td>\n",
       "            </tr>\n",
       "            <tr>\n",
       "                        <th id=\"T_34492_level0_row9\" class=\"row_heading level0 row9\" >user_score</th>\n",
       "                        <td id=\"T_34492_row9_col0\" class=\"data row9 col0\" >48.000000</td>\n",
       "            </tr>\n",
       "            <tr>\n",
       "                        <th id=\"T_34492_level0_row10\" class=\"row_heading level0 row10\" >rating</th>\n",
       "                        <td id=\"T_34492_row10_col0\" class=\"data row10 col0\" >0.000000</td>\n",
       "            </tr>\n",
       "    </tbody></table>"
      ],
      "text/plain": [
       "<pandas.io.formats.style.Styler at 0x7f1b1f444610>"
      ]
     },
     "execution_count": 31,
     "metadata": {},
     "output_type": "execute_result"
    }
   ],
   "source": [
    "pd.DataFrame(round(df.isna().mean()*100,)).style.background_gradient('coolwarm')"
   ]
  },
  {
   "cell_type": "markdown",
   "metadata": {},
   "source": [
    "В результате обработки пропусков были исключены пустые значения в столбцах __name__, __genre__ и __year_of_release__ как не оказывающие критического влияния на датасет. Также была проведена попытка восстановить пропуски в столбцах __critic_score__, __user_score__ (восстановлено в районе 1000 строк в каждом столбце) и столбце __rating__ (восстановлено около 500 строк). Оставшиеся пропуски восстановлению не подлежат, при этом их необходимо оставить в датасете."
   ]
  },
  {
   "cell_type": "markdown",
   "metadata": {},
   "source": [
    "### Обработка дубликатов"
   ]
  },
  {
   "cell_type": "markdown",
   "metadata": {},
   "source": [
    "Проверим данные на наличие явных и неявных дубликатов."
   ]
  },
  {
   "cell_type": "code",
   "execution_count": 32,
   "metadata": {},
   "outputs": [
    {
     "data": {
      "text/plain": [
       "0"
      ]
     },
     "execution_count": 32,
     "metadata": {},
     "output_type": "execute_result"
    }
   ],
   "source": [
    "df.duplicated().sum()"
   ]
  },
  {
   "cell_type": "markdown",
   "metadata": {},
   "source": [
    "Явных дубликатов нет.\n",
    "\n",
    "Осуществим проверку неявных дубликатов. Они могут находиться в столбцах __genre__, __platform__, __rating__ и __name__"
   ]
  },
  {
   "cell_type": "code",
   "execution_count": 33,
   "metadata": {},
   "outputs": [
    {
     "data": {
      "text/plain": [
       "array(['Action', 'Adventure', 'Fighting', 'Misc', 'Platform', 'Puzzle',\n",
       "       'Racing', 'Role-Playing', 'Shooter', 'Simulation', 'Sports',\n",
       "       'Strategy'], dtype=object)"
      ]
     },
     "execution_count": 33,
     "metadata": {},
     "output_type": "execute_result"
    }
   ],
   "source": [
    "df['genre'].sort_values().unique()"
   ]
  },
  {
   "cell_type": "code",
   "execution_count": 34,
   "metadata": {},
   "outputs": [
    {
     "data": {
      "text/plain": [
       "array(['2600', '3DO', '3DS', 'DC', 'DS', 'GB', 'GBA', 'GC', 'GEN', 'GG',\n",
       "       'N64', 'NES', 'NG', 'PC', 'PCFX', 'PS', 'PS2', 'PS3', 'PS4', 'PSP',\n",
       "       'PSV', 'SAT', 'SCD', 'SNES', 'TG16', 'WS', 'Wii', 'WiiU', 'X360',\n",
       "       'XB', 'XOne'], dtype=object)"
      ]
     },
     "execution_count": 34,
     "metadata": {},
     "output_type": "execute_result"
    }
   ],
   "source": [
    "df['platform'].sort_values().unique()"
   ]
  },
  {
   "cell_type": "code",
   "execution_count": 35,
   "metadata": {},
   "outputs": [
    {
     "data": {
      "text/plain": [
       "array(['E', 'E10+', 'EC', 'K-A', 'M', 'RP', 'T', 'Unknown'], dtype=object)"
      ]
     },
     "execution_count": 35,
     "metadata": {},
     "output_type": "execute_result"
    }
   ],
   "source": [
    "df['rating'].sort_values().unique()"
   ]
  },
  {
   "cell_type": "markdown",
   "metadata": {},
   "source": [
    "В трех столбцах дубликатов не обнаружено.\n",
    "\n",
    "Однако поиск неявных дубликатов позволил выявить несоответствие в данных в столбце __rating__:\n",
    "1. рейтинг 'K-A' был отменен в 1994 году и заменен на рейтинг 'E' (исправим это в таблице)\n",
    "2. рейтинг 'RP' выставляется при ожидании полноценного рейтинга (требуется проверить количество таких рейтингов и либо заменить их на пропуски, либо на действительный рейтинг, если это возможно)"
   ]
  },
  {
   "cell_type": "code",
   "execution_count": 36,
   "metadata": {},
   "outputs": [],
   "source": [
    "df.loc[df['rating']  == 'K-A', 'rating'] = 'E'"
   ]
  },
  {
   "cell_type": "code",
   "execution_count": 37,
   "metadata": {},
   "outputs": [
    {
     "data": {
      "text/plain": [
       "array(['Supreme Ruler: Cold War'], dtype=object)"
      ]
     },
     "execution_count": 37,
     "metadata": {},
     "output_type": "execute_result"
    }
   ],
   "source": [
    "df.query('rating == \"RP\"')['name'].unique()"
   ]
  },
  {
   "cell_type": "markdown",
   "metadata": {},
   "source": [
    "Так как рейтинг 'RP' у нас в единичном случае, то можно проверить действительно присвоенный рейтинг (https://www.esrb.org/ratings/31253/supreme-ruler-cold-war/) и внести изменения в датасет:"
   ]
  },
  {
   "cell_type": "code",
   "execution_count": 38,
   "metadata": {},
   "outputs": [],
   "source": [
    "df.loc[df['rating']  == 'RP', 'rating'] = 'E10+'"
   ]
  },
  {
   "cell_type": "code",
   "execution_count": 39,
   "metadata": {},
   "outputs": [
    {
     "data": {
      "text/plain": [
       "array(['E', 'E10+', 'EC', 'M', 'T', 'Unknown'], dtype=object)"
      ]
     },
     "execution_count": 39,
     "metadata": {},
     "output_type": "execute_result"
    }
   ],
   "source": [
    "df['rating'].sort_values().unique()"
   ]
  },
  {
   "cell_type": "markdown",
   "metadata": {},
   "source": [
    "Исправления в столбец __rating__ внесены.\n",
    "\n",
    "Осталось проверить наличие неявных дубликатов в столбце __name__. Основной ошибкой может быть дублирование при неправильной записи заглавных и строчных букв. В случае, если при изменении строк в нижний регистр число уникальных наименований игр для каждой платформы останется равным оригинальному, можно считать, что неявных дубликатов в столбце нет."
   ]
  },
  {
   "cell_type": "code",
   "execution_count": 40,
   "metadata": {},
   "outputs": [
    {
     "data": {
      "text/plain": [
       "platform\n",
       "2600    True\n",
       "3DO     True\n",
       "3DS     True\n",
       "DC      True\n",
       "DS      True\n",
       "GB      True\n",
       "GBA     True\n",
       "GC      True\n",
       "GEN     True\n",
       "GG      True\n",
       "N64     True\n",
       "NES     True\n",
       "NG      True\n",
       "PC      True\n",
       "PCFX    True\n",
       "PS      True\n",
       "PS2     True\n",
       "PS3     True\n",
       "PS4     True\n",
       "PSP     True\n",
       "PSV     True\n",
       "SAT     True\n",
       "SCD     True\n",
       "SNES    True\n",
       "TG16    True\n",
       "WS      True\n",
       "Wii     True\n",
       "WiiU    True\n",
       "X360    True\n",
       "XB      True\n",
       "XOne    True\n",
       "Name: name, dtype: bool"
      ]
     },
     "execution_count": 40,
     "metadata": {},
     "output_type": "execute_result"
    }
   ],
   "source": [
    "d1 = df['name'].groupby(df['platform']).nunique()\n",
    "d2 = df['name'].str.lower().groupby(df['platform']).nunique()\n",
    "d1 == d2"
   ]
  },
  {
   "cell_type": "markdown",
   "metadata": {},
   "source": [
    "Проверка подтвердила отсутствие неявных дубликатов в датасете.\n",
    "\n",
    "При обработке дубликатов были внесены изменения в столбец __rating__ для исправления несоответсвия текущему рейтингу в нескольких строках. При этом ни явных ни неявных дубликатов обнаружено не было."
   ]
  },
  {
   "cell_type": "markdown",
   "metadata": {},
   "source": [
    "### Суммарные продажи"
   ]
  },
  {
   "cell_type": "markdown",
   "metadata": {},
   "source": [
    "Для дальнейшего исследования нам пригодятся данные по суммарным продажам.\n",
    "Подсчитаем суммарные продажи во всех регионах и внесем их в отдельный столбец."
   ]
  },
  {
   "cell_type": "code",
   "execution_count": 41,
   "metadata": {},
   "outputs": [],
   "source": [
    "df['total_sales'] = df['na_sales'] + df['eu_sales'] + df['jp_sales'] + df['other_sales']"
   ]
  },
  {
   "cell_type": "code",
   "execution_count": 42,
   "metadata": {},
   "outputs": [
    {
     "data": {
      "text/html": [
       "<div>\n",
       "<style scoped>\n",
       "    .dataframe tbody tr th:only-of-type {\n",
       "        vertical-align: middle;\n",
       "    }\n",
       "\n",
       "    .dataframe tbody tr th {\n",
       "        vertical-align: top;\n",
       "    }\n",
       "\n",
       "    .dataframe thead th {\n",
       "        text-align: right;\n",
       "    }\n",
       "</style>\n",
       "<table border=\"1\" class=\"dataframe\">\n",
       "  <thead>\n",
       "    <tr style=\"text-align: right;\">\n",
       "      <th></th>\n",
       "      <th>name</th>\n",
       "      <th>platform</th>\n",
       "      <th>year_of_release</th>\n",
       "      <th>genre</th>\n",
       "      <th>na_sales</th>\n",
       "      <th>eu_sales</th>\n",
       "      <th>jp_sales</th>\n",
       "      <th>other_sales</th>\n",
       "      <th>critic_score</th>\n",
       "      <th>user_score</th>\n",
       "      <th>rating</th>\n",
       "      <th>total_sales</th>\n",
       "    </tr>\n",
       "  </thead>\n",
       "  <tbody>\n",
       "    <tr>\n",
       "      <th>0</th>\n",
       "      <td>Wii Sports</td>\n",
       "      <td>Wii</td>\n",
       "      <td>2006</td>\n",
       "      <td>Sports</td>\n",
       "      <td>41.36</td>\n",
       "      <td>28.96</td>\n",
       "      <td>3.77</td>\n",
       "      <td>8.45</td>\n",
       "      <td>76.0</td>\n",
       "      <td>8.0</td>\n",
       "      <td>E</td>\n",
       "      <td>82.54</td>\n",
       "    </tr>\n",
       "    <tr>\n",
       "      <th>1</th>\n",
       "      <td>Super Mario Bros.</td>\n",
       "      <td>NES</td>\n",
       "      <td>1985</td>\n",
       "      <td>Platform</td>\n",
       "      <td>29.08</td>\n",
       "      <td>3.58</td>\n",
       "      <td>6.81</td>\n",
       "      <td>0.77</td>\n",
       "      <td>NaN</td>\n",
       "      <td>NaN</td>\n",
       "      <td>Unknown</td>\n",
       "      <td>40.24</td>\n",
       "    </tr>\n",
       "    <tr>\n",
       "      <th>2</th>\n",
       "      <td>Mario Kart Wii</td>\n",
       "      <td>Wii</td>\n",
       "      <td>2008</td>\n",
       "      <td>Racing</td>\n",
       "      <td>15.68</td>\n",
       "      <td>12.76</td>\n",
       "      <td>3.79</td>\n",
       "      <td>3.29</td>\n",
       "      <td>82.0</td>\n",
       "      <td>8.3</td>\n",
       "      <td>E</td>\n",
       "      <td>35.52</td>\n",
       "    </tr>\n",
       "    <tr>\n",
       "      <th>3</th>\n",
       "      <td>Wii Sports Resort</td>\n",
       "      <td>Wii</td>\n",
       "      <td>2009</td>\n",
       "      <td>Sports</td>\n",
       "      <td>15.61</td>\n",
       "      <td>10.93</td>\n",
       "      <td>3.28</td>\n",
       "      <td>2.95</td>\n",
       "      <td>80.0</td>\n",
       "      <td>8.0</td>\n",
       "      <td>E</td>\n",
       "      <td>32.77</td>\n",
       "    </tr>\n",
       "    <tr>\n",
       "      <th>4</th>\n",
       "      <td>Pokemon Red/Pokemon Blue</td>\n",
       "      <td>GB</td>\n",
       "      <td>1996</td>\n",
       "      <td>Role-Playing</td>\n",
       "      <td>11.27</td>\n",
       "      <td>8.89</td>\n",
       "      <td>10.22</td>\n",
       "      <td>1.00</td>\n",
       "      <td>NaN</td>\n",
       "      <td>NaN</td>\n",
       "      <td>Unknown</td>\n",
       "      <td>31.38</td>\n",
       "    </tr>\n",
       "  </tbody>\n",
       "</table>\n",
       "</div>"
      ],
      "text/plain": [
       "                       name platform  year_of_release         genre  na_sales  \\\n",
       "0                Wii Sports      Wii             2006        Sports     41.36   \n",
       "1         Super Mario Bros.      NES             1985      Platform     29.08   \n",
       "2            Mario Kart Wii      Wii             2008        Racing     15.68   \n",
       "3         Wii Sports Resort      Wii             2009        Sports     15.61   \n",
       "4  Pokemon Red/Pokemon Blue       GB             1996  Role-Playing     11.27   \n",
       "\n",
       "   eu_sales  jp_sales  other_sales  critic_score  user_score   rating  \\\n",
       "0     28.96      3.77         8.45          76.0         8.0        E   \n",
       "1      3.58      6.81         0.77           NaN         NaN  Unknown   \n",
       "2     12.76      3.79         3.29          82.0         8.3        E   \n",
       "3     10.93      3.28         2.95          80.0         8.0        E   \n",
       "4      8.89     10.22         1.00           NaN         NaN  Unknown   \n",
       "\n",
       "   total_sales  \n",
       "0        82.54  \n",
       "1        40.24  \n",
       "2        35.52  \n",
       "3        32.77  \n",
       "4        31.38  "
      ]
     },
     "execution_count": 42,
     "metadata": {},
     "output_type": "execute_result"
    }
   ],
   "source": [
    "df.head()"
   ]
  },
  {
   "cell_type": "markdown",
   "metadata": {},
   "source": [
    "__Вывод:__ при предобработке данных были внесены следующие изменения в датасет:\n",
    "* преобразованы заголовки столбцов\n",
    "* приведены в соответствие типы данных\n",
    "* обработаны пропуски\n",
    "* подтверждено отсутствие дубликатов\n",
    "* внесен дополнительный столбец __total_sales__ с данными по суммарным продажам."
   ]
  },
  {
   "cell_type": "markdown",
   "metadata": {},
   "source": [
    "## Исследовательский анализ данных"
   ]
  },
  {
   "cell_type": "markdown",
   "metadata": {},
   "source": [
    "### Выпуск игр по годам"
   ]
  },
  {
   "cell_type": "markdown",
   "metadata": {},
   "source": [
    "Посмотрим на выпуск игр по годам"
   ]
  },
  {
   "cell_type": "code",
   "execution_count": 43,
   "metadata": {},
   "outputs": [
    {
     "data": {
      "image/png": "[encoded data removed]",
      "text/plain": [
       "<Figure size 1080x432 with 1 Axes>"
      ]
     },
     "metadata": {
      "needs_background": "light"
     },
     "output_type": "display_data"
    }
   ],
   "source": [
    "df.pivot_table(index='year_of_release',values='name', aggfunc='count').plot(kind='bar', grid=True, figsize=(15,6))\n",
    "plt.title('Выпуск игр по годам')\n",
    "plt.xlabel('Годы')\n",
    "plt.ylabel('Количество игр')\n",
    "plt.show()"
   ]
  },
  {
   "cell_type": "markdown",
   "metadata": {},
   "source": [
    "Видно, что рост выпуска игр идет по нарастающей с пиком в 2008-2009 годах, а затем происходит спад до 2013 года, который сменяется тенденцией к росту (учтем, что данные за 2016 год у нас не полные)."
   ]
  },
  {
   "cell_type": "markdown",
   "metadata": {},
   "source": [
    "### Изменения в продажах по платформам с наибольшим количеством проданных игр"
   ]
  },
  {
   "cell_type": "markdown",
   "metadata": {},
   "source": [
    "Проверим, как меняются продажи в зависимости от платформы.\n",
    "\n",
    "Для этого выделим 10 платформ с наибольшим количеством проданных игр."
   ]
  },
  {
   "cell_type": "code",
   "execution_count": 44,
   "metadata": {
    "scrolled": true
   },
   "outputs": [
    {
     "data": {
      "text/html": [
       "<div>\n",
       "<style scoped>\n",
       "    .dataframe tbody tr th:only-of-type {\n",
       "        vertical-align: middle;\n",
       "    }\n",
       "\n",
       "    .dataframe tbody tr th {\n",
       "        vertical-align: top;\n",
       "    }\n",
       "\n",
       "    .dataframe thead th {\n",
       "        text-align: right;\n",
       "    }\n",
       "</style>\n",
       "<table border=\"1\" class=\"dataframe\">\n",
       "  <thead>\n",
       "    <tr style=\"text-align: right;\">\n",
       "      <th></th>\n",
       "      <th>total_sales</th>\n",
       "    </tr>\n",
       "    <tr>\n",
       "      <th>platform</th>\n",
       "      <th></th>\n",
       "    </tr>\n",
       "  </thead>\n",
       "  <tbody>\n",
       "    <tr>\n",
       "      <th>PS2</th>\n",
       "      <td>1233.56</td>\n",
       "    </tr>\n",
       "    <tr>\n",
       "      <th>X360</th>\n",
       "      <td>961.24</td>\n",
       "    </tr>\n",
       "    <tr>\n",
       "      <th>PS3</th>\n",
       "      <td>931.34</td>\n",
       "    </tr>\n",
       "    <tr>\n",
       "      <th>Wii</th>\n",
       "      <td>891.18</td>\n",
       "    </tr>\n",
       "    <tr>\n",
       "      <th>DS</th>\n",
       "      <td>802.78</td>\n",
       "    </tr>\n",
       "    <tr>\n",
       "      <th>PS</th>\n",
       "      <td>727.58</td>\n",
       "    </tr>\n",
       "    <tr>\n",
       "      <th>PS4</th>\n",
       "      <td>314.14</td>\n",
       "    </tr>\n",
       "    <tr>\n",
       "      <th>GBA</th>\n",
       "      <td>312.88</td>\n",
       "    </tr>\n",
       "    <tr>\n",
       "      <th>PSP</th>\n",
       "      <td>289.53</td>\n",
       "    </tr>\n",
       "    <tr>\n",
       "      <th>3DS</th>\n",
       "      <td>257.81</td>\n",
       "    </tr>\n",
       "  </tbody>\n",
       "</table>\n",
       "</div>"
      ],
      "text/plain": [
       "          total_sales\n",
       "platform             \n",
       "PS2           1233.56\n",
       "X360           961.24\n",
       "PS3            931.34\n",
       "Wii            891.18\n",
       "DS             802.78\n",
       "PS             727.58\n",
       "PS4            314.14\n",
       "GBA            312.88\n",
       "PSP            289.53\n",
       "3DS            257.81"
      ]
     },
     "execution_count": 44,
     "metadata": {},
     "output_type": "execute_result"
    }
   ],
   "source": [
    "platforms_top_10 = df.groupby('platform').agg({'total_sales':'sum'}).sort_values(by = 'total_sales', ascending = False).head(10)\n",
    "platforms_top_10\n"
   ]
  },
  {
   "cell_type": "markdown",
   "metadata": {},
   "source": [
    "И сделаем список с перечислением 10 самых успешных платформ"
   ]
  },
  {
   "cell_type": "code",
   "execution_count": 45,
   "metadata": {},
   "outputs": [],
   "source": [
    "platforms_top_10 = platforms_top_10.index"
   ]
  },
  {
   "cell_type": "markdown",
   "metadata": {},
   "source": [
    "Теперь построим график, который продемонстрирует соотношение продаж игр по 10 наиболее успешным платформам по годам.\n",
    "\n",
    "Для этого выделим из общего датаседа данные по 10 успешным платформам с информацией по году резиза и общим продажам каждой игры"
   ]
  },
  {
   "cell_type": "code",
   "execution_count": 46,
   "metadata": {},
   "outputs": [],
   "source": [
    "platforms_top_10_data = df.loc[df['platform'].isin(platforms_top_10), ['platform', 'year_of_release','total_sales']].copy()\n"
   ]
  },
  {
   "cell_type": "markdown",
   "metadata": {},
   "source": [
    "И сделаем таблицу, отражающую процентное соотношение по продажам на каждой из 10 наиболее успешных платформах по годам."
   ]
  },
  {
   "cell_type": "code",
   "execution_count": 47,
   "metadata": {},
   "outputs": [
    {
     "data": {
      "text/html": [
       "<div>\n",
       "<style scoped>\n",
       "    .dataframe tbody tr th:only-of-type {\n",
       "        vertical-align: middle;\n",
       "    }\n",
       "\n",
       "    .dataframe tbody tr th {\n",
       "        vertical-align: top;\n",
       "    }\n",
       "\n",
       "    .dataframe thead th {\n",
       "        text-align: right;\n",
       "    }\n",
       "</style>\n",
       "<table border=\"1\" class=\"dataframe\">\n",
       "  <thead>\n",
       "    <tr style=\"text-align: right;\">\n",
       "      <th>platform</th>\n",
       "      <th>3DS</th>\n",
       "      <th>DS</th>\n",
       "      <th>GBA</th>\n",
       "      <th>PS</th>\n",
       "      <th>PS2</th>\n",
       "      <th>PS3</th>\n",
       "      <th>PS4</th>\n",
       "      <th>PSP</th>\n",
       "      <th>Wii</th>\n",
       "      <th>X360</th>\n",
       "    </tr>\n",
       "    <tr>\n",
       "      <th>year_of_release</th>\n",
       "      <th></th>\n",
       "      <th></th>\n",
       "      <th></th>\n",
       "      <th></th>\n",
       "      <th></th>\n",
       "      <th></th>\n",
       "      <th></th>\n",
       "      <th></th>\n",
       "      <th></th>\n",
       "      <th></th>\n",
       "    </tr>\n",
       "  </thead>\n",
       "  <tbody>\n",
       "    <tr>\n",
       "      <th>1985</th>\n",
       "      <td>0</td>\n",
       "      <td>100</td>\n",
       "      <td>0</td>\n",
       "      <td>0</td>\n",
       "      <td>0</td>\n",
       "      <td>0</td>\n",
       "      <td>0</td>\n",
       "      <td>0</td>\n",
       "      <td>0</td>\n",
       "      <td>0</td>\n",
       "    </tr>\n",
       "    <tr>\n",
       "      <th>1994</th>\n",
       "      <td>0</td>\n",
       "      <td>0</td>\n",
       "      <td>0</td>\n",
       "      <td>100</td>\n",
       "      <td>0</td>\n",
       "      <td>0</td>\n",
       "      <td>0</td>\n",
       "      <td>0</td>\n",
       "      <td>0</td>\n",
       "      <td>0</td>\n",
       "    </tr>\n",
       "    <tr>\n",
       "      <th>1995</th>\n",
       "      <td>0</td>\n",
       "      <td>0</td>\n",
       "      <td>0</td>\n",
       "      <td>100</td>\n",
       "      <td>0</td>\n",
       "      <td>0</td>\n",
       "      <td>0</td>\n",
       "      <td>0</td>\n",
       "      <td>0</td>\n",
       "      <td>0</td>\n",
       "    </tr>\n",
       "    <tr>\n",
       "      <th>1996</th>\n",
       "      <td>0</td>\n",
       "      <td>0</td>\n",
       "      <td>0</td>\n",
       "      <td>100</td>\n",
       "      <td>0</td>\n",
       "      <td>0</td>\n",
       "      <td>0</td>\n",
       "      <td>0</td>\n",
       "      <td>0</td>\n",
       "      <td>0</td>\n",
       "    </tr>\n",
       "    <tr>\n",
       "      <th>1997</th>\n",
       "      <td>0</td>\n",
       "      <td>0</td>\n",
       "      <td>0</td>\n",
       "      <td>100</td>\n",
       "      <td>0</td>\n",
       "      <td>0</td>\n",
       "      <td>0</td>\n",
       "      <td>0</td>\n",
       "      <td>0</td>\n",
       "      <td>0</td>\n",
       "    </tr>\n",
       "    <tr>\n",
       "      <th>1998</th>\n",
       "      <td>0</td>\n",
       "      <td>0</td>\n",
       "      <td>0</td>\n",
       "      <td>100</td>\n",
       "      <td>0</td>\n",
       "      <td>0</td>\n",
       "      <td>0</td>\n",
       "      <td>0</td>\n",
       "      <td>0</td>\n",
       "      <td>0</td>\n",
       "    </tr>\n",
       "    <tr>\n",
       "      <th>1999</th>\n",
       "      <td>0</td>\n",
       "      <td>0</td>\n",
       "      <td>0</td>\n",
       "      <td>100</td>\n",
       "      <td>0</td>\n",
       "      <td>0</td>\n",
       "      <td>0</td>\n",
       "      <td>0</td>\n",
       "      <td>0</td>\n",
       "      <td>0</td>\n",
       "    </tr>\n",
       "    <tr>\n",
       "      <th>2000</th>\n",
       "      <td>0</td>\n",
       "      <td>0</td>\n",
       "      <td>0</td>\n",
       "      <td>71</td>\n",
       "      <td>28</td>\n",
       "      <td>0</td>\n",
       "      <td>0</td>\n",
       "      <td>0</td>\n",
       "      <td>0</td>\n",
       "      <td>0</td>\n",
       "    </tr>\n",
       "    <tr>\n",
       "      <th>2001</th>\n",
       "      <td>0</td>\n",
       "      <td>0</td>\n",
       "      <td>23</td>\n",
       "      <td>13</td>\n",
       "      <td>63</td>\n",
       "      <td>0</td>\n",
       "      <td>0</td>\n",
       "      <td>0</td>\n",
       "      <td>0</td>\n",
       "      <td>0</td>\n",
       "    </tr>\n",
       "    <tr>\n",
       "      <th>2002</th>\n",
       "      <td>0</td>\n",
       "      <td>0</td>\n",
       "      <td>25</td>\n",
       "      <td>2</td>\n",
       "      <td>71</td>\n",
       "      <td>0</td>\n",
       "      <td>0</td>\n",
       "      <td>0</td>\n",
       "      <td>0</td>\n",
       "      <td>0</td>\n",
       "    </tr>\n",
       "    <tr>\n",
       "      <th>2003</th>\n",
       "      <td>0</td>\n",
       "      <td>0</td>\n",
       "      <td>23</td>\n",
       "      <td>0</td>\n",
       "      <td>75</td>\n",
       "      <td>0</td>\n",
       "      <td>0</td>\n",
       "      <td>0</td>\n",
       "      <td>0</td>\n",
       "      <td>0</td>\n",
       "    </tr>\n",
       "    <tr>\n",
       "      <th>2004</th>\n",
       "      <td>0</td>\n",
       "      <td>5</td>\n",
       "      <td>24</td>\n",
       "      <td>0</td>\n",
       "      <td>67</td>\n",
       "      <td>0</td>\n",
       "      <td>0</td>\n",
       "      <td>2</td>\n",
       "      <td>0</td>\n",
       "      <td>0</td>\n",
       "    </tr>\n",
       "    <tr>\n",
       "      <th>2005</th>\n",
       "      <td>0</td>\n",
       "      <td>34</td>\n",
       "      <td>8</td>\n",
       "      <td>0</td>\n",
       "      <td>42</td>\n",
       "      <td>0</td>\n",
       "      <td>0</td>\n",
       "      <td>11</td>\n",
       "      <td>0</td>\n",
       "      <td>2</td>\n",
       "    </tr>\n",
       "    <tr>\n",
       "      <th>2006</th>\n",
       "      <td>0</td>\n",
       "      <td>24</td>\n",
       "      <td>1</td>\n",
       "      <td>0</td>\n",
       "      <td>20</td>\n",
       "      <td>4</td>\n",
       "      <td>0</td>\n",
       "      <td>11</td>\n",
       "      <td>27</td>\n",
       "      <td>10</td>\n",
       "    </tr>\n",
       "    <tr>\n",
       "      <th>2007</th>\n",
       "      <td>0</td>\n",
       "      <td>24</td>\n",
       "      <td>0</td>\n",
       "      <td>0</td>\n",
       "      <td>12</td>\n",
       "      <td>12</td>\n",
       "      <td>0</td>\n",
       "      <td>7</td>\n",
       "      <td>25</td>\n",
       "      <td>16</td>\n",
       "    </tr>\n",
       "    <tr>\n",
       "      <th>2008</th>\n",
       "      <td>0</td>\n",
       "      <td>22</td>\n",
       "      <td>0</td>\n",
       "      <td>0</td>\n",
       "      <td>8</td>\n",
       "      <td>17</td>\n",
       "      <td>0</td>\n",
       "      <td>5</td>\n",
       "      <td>26</td>\n",
       "      <td>20</td>\n",
       "    </tr>\n",
       "    <tr>\n",
       "      <th>2009</th>\n",
       "      <td>0</td>\n",
       "      <td>18</td>\n",
       "      <td>0</td>\n",
       "      <td>0</td>\n",
       "      <td>4</td>\n",
       "      <td>20</td>\n",
       "      <td>0</td>\n",
       "      <td>5</td>\n",
       "      <td>32</td>\n",
       "      <td>18</td>\n",
       "    </tr>\n",
       "    <tr>\n",
       "      <th>2010</th>\n",
       "      <td>0</td>\n",
       "      <td>15</td>\n",
       "      <td>0</td>\n",
       "      <td>0</td>\n",
       "      <td>0</td>\n",
       "      <td>25</td>\n",
       "      <td>0</td>\n",
       "      <td>6</td>\n",
       "      <td>22</td>\n",
       "      <td>30</td>\n",
       "    </tr>\n",
       "    <tr>\n",
       "      <th>2011</th>\n",
       "      <td>13</td>\n",
       "      <td>5</td>\n",
       "      <td>0</td>\n",
       "      <td>0</td>\n",
       "      <td>0</td>\n",
       "      <td>33</td>\n",
       "      <td>0</td>\n",
       "      <td>3</td>\n",
       "      <td>12</td>\n",
       "      <td>30</td>\n",
       "    </tr>\n",
       "    <tr>\n",
       "      <th>2012</th>\n",
       "      <td>17</td>\n",
       "      <td>3</td>\n",
       "      <td>0</td>\n",
       "      <td>0</td>\n",
       "      <td>0</td>\n",
       "      <td>35</td>\n",
       "      <td>0</td>\n",
       "      <td>2</td>\n",
       "      <td>7</td>\n",
       "      <td>33</td>\n",
       "    </tr>\n",
       "    <tr>\n",
       "      <th>2013</th>\n",
       "      <td>19</td>\n",
       "      <td>0</td>\n",
       "      <td>0</td>\n",
       "      <td>0</td>\n",
       "      <td>0</td>\n",
       "      <td>38</td>\n",
       "      <td>8</td>\n",
       "      <td>1</td>\n",
       "      <td>2</td>\n",
       "      <td>29</td>\n",
       "    </tr>\n",
       "    <tr>\n",
       "      <th>2014</th>\n",
       "      <td>19</td>\n",
       "      <td>0</td>\n",
       "      <td>0</td>\n",
       "      <td>0</td>\n",
       "      <td>0</td>\n",
       "      <td>20</td>\n",
       "      <td>43</td>\n",
       "      <td>0</td>\n",
       "      <td>1</td>\n",
       "      <td>15</td>\n",
       "    </tr>\n",
       "    <tr>\n",
       "      <th>2015</th>\n",
       "      <td>15</td>\n",
       "      <td>0</td>\n",
       "      <td>0</td>\n",
       "      <td>0</td>\n",
       "      <td>0</td>\n",
       "      <td>9</td>\n",
       "      <td>67</td>\n",
       "      <td>0</td>\n",
       "      <td>0</td>\n",
       "      <td>6</td>\n",
       "    </tr>\n",
       "    <tr>\n",
       "      <th>2016</th>\n",
       "      <td>16</td>\n",
       "      <td>0</td>\n",
       "      <td>0</td>\n",
       "      <td>0</td>\n",
       "      <td>0</td>\n",
       "      <td>4</td>\n",
       "      <td>77</td>\n",
       "      <td>0</td>\n",
       "      <td>0</td>\n",
       "      <td>1</td>\n",
       "    </tr>\n",
       "  </tbody>\n",
       "</table>\n",
       "</div>"
      ],
      "text/plain": [
       "platform         3DS   DS  GBA   PS  PS2  PS3  PS4  PSP  Wii  X360\n",
       "year_of_release                                                   \n",
       "1985               0  100    0    0    0    0    0    0    0     0\n",
       "1994               0    0    0  100    0    0    0    0    0     0\n",
       "1995               0    0    0  100    0    0    0    0    0     0\n",
       "1996               0    0    0  100    0    0    0    0    0     0\n",
       "1997               0    0    0  100    0    0    0    0    0     0\n",
       "1998               0    0    0  100    0    0    0    0    0     0\n",
       "1999               0    0    0  100    0    0    0    0    0     0\n",
       "2000               0    0    0   71   28    0    0    0    0     0\n",
       "2001               0    0   23   13   63    0    0    0    0     0\n",
       "2002               0    0   25    2   71    0    0    0    0     0\n",
       "2003               0    0   23    0   75    0    0    0    0     0\n",
       "2004               0    5   24    0   67    0    0    2    0     0\n",
       "2005               0   34    8    0   42    0    0   11    0     2\n",
       "2006               0   24    1    0   20    4    0   11   27    10\n",
       "2007               0   24    0    0   12   12    0    7   25    16\n",
       "2008               0   22    0    0    8   17    0    5   26    20\n",
       "2009               0   18    0    0    4   20    0    5   32    18\n",
       "2010               0   15    0    0    0   25    0    6   22    30\n",
       "2011              13    5    0    0    0   33    0    3   12    30\n",
       "2012              17    3    0    0    0   35    0    2    7    33\n",
       "2013              19    0    0    0    0   38    8    1    2    29\n",
       "2014              19    0    0    0    0   20   43    0    1    15\n",
       "2015              15    0    0    0    0    9   67    0    0     6\n",
       "2016              16    0    0    0    0    4   77    0    0     1"
      ]
     },
     "execution_count": 47,
     "metadata": {},
     "output_type": "execute_result"
    }
   ],
   "source": [
    "platforms_top_10_data_prop = pd.crosstab(index=platforms_top_10_data['year_of_release'],\n",
    "                                         columns=platforms_top_10_data['platform'],\n",
    "                                         values=platforms_top_10_data['total_sales'],\n",
    "                                         aggfunc='sum', normalize='index')*100\n",
    "platforms_top_10_data_prop = platforms_top_10_data_prop.astype(int)\n",
    "platforms_top_10_data_prop"
   ]
  },
  {
   "cell_type": "markdown",
   "metadata": {},
   "source": [
    "Данные таблицы позволили выявить артефакт в данных - невозможно появление в 1985 игры для платформы, выпущенной в 2004 году. Не будем учитывать эти данные при дальнейшем построении графика.\n",
    "\n",
    "Предварительно также посмотрим на средний срок жизни платформы."
   ]
  },
  {
   "cell_type": "code",
   "execution_count": 48,
   "metadata": {},
   "outputs": [
    {
     "data": {
      "text/plain": [
       "platform\n",
       "3DS      6\n",
       "DS       9\n",
       "GBA      6\n",
       "PS       9\n",
       "PS2     10\n",
       "PS3     11\n",
       "PS4      4\n",
       "PSP     10\n",
       "Wii      9\n",
       "X360    12\n",
       "dtype: int64"
      ]
     },
     "metadata": {},
     "output_type": "display_data"
    },
    {
     "name": "stdout",
     "output_type": "stream",
     "text": [
      "Среднее количество лет: 9.0\n"
     ]
    }
   ],
   "source": [
    "platforms_top_10_data_prop = platforms_top_10_data_prop.loc[platforms_top_10_data_prop.index >= 1994]\n",
    "a = platforms_top_10_data_prop[platforms_top_10_data_prop != 0].count()\n",
    "display(a)\n",
    "print('Среднее количество лет:', a.median())"
   ]
  },
  {
   "cell_type": "markdown",
   "metadata": {},
   "source": [
    "В среднем срок жизни платформы получается в районе 9 лет.\n",
    "\n",
    "Построим график"
   ]
  },
  {
   "cell_type": "code",
   "execution_count": 49,
   "metadata": {},
   "outputs": [
    {
     "data": {
      "image/png": "[encoded data removed]",
      "text/plain": [
       "<Figure size 1440x432 with 1 Axes>"
      ]
     },
     "metadata": {
      "needs_background": "light"
     },
     "output_type": "display_data"
    }
   ],
   "source": [
    "platforms_top_10_data_prop.plot(kind='bar', \n",
    "                    stacked=True, \n",
    "                    colormap='tab10', \n",
    "                    figsize=(20, 6))\n",
    "\n",
    "plt.legend(loc=\"upper left\", ncol=1)\n",
    "plt.title('Процентное соотношение продаж на 10 ведущих платформах')\n",
    "plt.xlabel('Год выпуска')\n",
    "plt.ylabel('Соотношение')\n",
    "\n",
    "plt.show()"
   ]
  },
  {
   "cell_type": "markdown",
   "metadata": {},
   "source": [
    "График подтверждает средний срок жизни платформы в 9-10 лет с периодом роста 4-6 лет и спада 3-5 лет.\n",
    "\n",
    "Соответственно, __актуальный период__, в рамках которого следует проводить исследование для составления прогноза на 2017 год, необходимо ограничить 3 годами (т.е. 2013 - 2016 годы)"
   ]
  },
  {
   "cell_type": "markdown",
   "metadata": {},
   "source": [
    "### Изменения в продажах по платформам в актуальном периоде"
   ]
  },
  {
   "cell_type": "markdown",
   "metadata": {},
   "source": [
    "Посмотрим, какие платформы представлены в актуальном периоде и как распределяются прожажи между ними."
   ]
  },
  {
   "cell_type": "code",
   "execution_count": 50,
   "metadata": {},
   "outputs": [
    {
     "data": {
      "text/plain": [
       "array(['PS3', 'X360', 'PS4', '3DS', 'XOne', 'WiiU', 'Wii', 'PC', 'PSV',\n",
       "       'DS', 'PSP'], dtype=object)"
      ]
     },
     "execution_count": 50,
     "metadata": {},
     "output_type": "execute_result"
    }
   ],
   "source": [
    "actual_df = df.loc[df['year_of_release'] >= 2013]\n",
    "actual_df['platform'].unique()"
   ]
  },
  {
   "cell_type": "markdown",
   "metadata": {},
   "source": [
    "В актуальном периоде представлены 11 платформ.\n",
    "\n",
    "Построим график соотношения общих сумм продаж по этим платформам в актуальном периоде."
   ]
  },
  {
   "cell_type": "code",
   "execution_count": 51,
   "metadata": {
    "scrolled": true
   },
   "outputs": [
    {
     "data": {
      "text/html": [
       "<div>\n",
       "<style scoped>\n",
       "    .dataframe tbody tr th:only-of-type {\n",
       "        vertical-align: middle;\n",
       "    }\n",
       "\n",
       "    .dataframe tbody tr th {\n",
       "        vertical-align: top;\n",
       "    }\n",
       "\n",
       "    .dataframe thead th {\n",
       "        text-align: right;\n",
       "    }\n",
       "</style>\n",
       "<table border=\"1\" class=\"dataframe\">\n",
       "  <thead>\n",
       "    <tr style=\"text-align: right;\">\n",
       "      <th>platform</th>\n",
       "      <th>3DS</th>\n",
       "      <th>DS</th>\n",
       "      <th>PC</th>\n",
       "      <th>PS3</th>\n",
       "      <th>PS4</th>\n",
       "      <th>PSP</th>\n",
       "      <th>PSV</th>\n",
       "      <th>Wii</th>\n",
       "      <th>WiiU</th>\n",
       "      <th>X360</th>\n",
       "      <th>XOne</th>\n",
       "    </tr>\n",
       "    <tr>\n",
       "      <th>year_of_release</th>\n",
       "      <th></th>\n",
       "      <th></th>\n",
       "      <th></th>\n",
       "      <th></th>\n",
       "      <th></th>\n",
       "      <th></th>\n",
       "      <th></th>\n",
       "      <th></th>\n",
       "      <th></th>\n",
       "      <th></th>\n",
       "      <th></th>\n",
       "    </tr>\n",
       "  </thead>\n",
       "  <tbody>\n",
       "    <tr>\n",
       "      <th>2013</th>\n",
       "      <td>15</td>\n",
       "      <td>0</td>\n",
       "      <td>3</td>\n",
       "      <td>31</td>\n",
       "      <td>7</td>\n",
       "      <td>0</td>\n",
       "      <td>2</td>\n",
       "      <td>2</td>\n",
       "      <td>5</td>\n",
       "      <td>24</td>\n",
       "      <td>5</td>\n",
       "    </tr>\n",
       "    <tr>\n",
       "      <th>2014</th>\n",
       "      <td>13</td>\n",
       "      <td>0</td>\n",
       "      <td>4</td>\n",
       "      <td>14</td>\n",
       "      <td>30</td>\n",
       "      <td>0</td>\n",
       "      <td>3</td>\n",
       "      <td>1</td>\n",
       "      <td>6</td>\n",
       "      <td>10</td>\n",
       "      <td>16</td>\n",
       "    </tr>\n",
       "    <tr>\n",
       "      <th>2015</th>\n",
       "      <td>10</td>\n",
       "      <td>0</td>\n",
       "      <td>3</td>\n",
       "      <td>6</td>\n",
       "      <td>44</td>\n",
       "      <td>0</td>\n",
       "      <td>2</td>\n",
       "      <td>0</td>\n",
       "      <td>6</td>\n",
       "      <td>4</td>\n",
       "      <td>22</td>\n",
       "    </tr>\n",
       "    <tr>\n",
       "      <th>2016</th>\n",
       "      <td>11</td>\n",
       "      <td>0</td>\n",
       "      <td>4</td>\n",
       "      <td>2</td>\n",
       "      <td>53</td>\n",
       "      <td>0</td>\n",
       "      <td>3</td>\n",
       "      <td>0</td>\n",
       "      <td>3</td>\n",
       "      <td>1</td>\n",
       "      <td>20</td>\n",
       "    </tr>\n",
       "  </tbody>\n",
       "</table>\n",
       "</div>"
      ],
      "text/plain": [
       "platform         3DS  DS  PC  PS3  PS4  PSP  PSV  Wii  WiiU  X360  XOne\n",
       "year_of_release                                                        \n",
       "2013              15   0   3   31    7    0    2    2     5    24     5\n",
       "2014              13   0   4   14   30    0    3    1     6    10    16\n",
       "2015              10   0   3    6   44    0    2    0     6     4    22\n",
       "2016              11   0   4    2   53    0    3    0     3     1    20"
      ]
     },
     "execution_count": 51,
     "metadata": {},
     "output_type": "execute_result"
    }
   ],
   "source": [
    "platforms_actual = actual_df.loc[df['platform'].isin(actual_df['platform'].unique()), ['platform', 'year_of_release','total_sales']].copy()\n",
    "platforms_actual_prop = pd.crosstab(index=platforms_actual['year_of_release'],\n",
    "                                         columns=platforms_actual['platform'],\n",
    "                                         values=platforms_actual['total_sales'],\n",
    "                                         aggfunc='sum', normalize='index')*100\n",
    "platforms_actual_prop = platforms_actual_prop.astype(int)\n",
    "platforms_actual_prop\n"
   ]
  },
  {
   "cell_type": "code",
   "execution_count": 52,
   "metadata": {},
   "outputs": [
    {
     "data": {
      "image/png": "[encoded data removed]",
      "text/plain": [
       "<Figure size 1440x432 with 1 Axes>"
      ]
     },
     "metadata": {
      "needs_background": "light"
     },
     "output_type": "display_data"
    }
   ],
   "source": [
    "platforms_actual_prop.plot(kind='bar', \n",
    "                    stacked=True, \n",
    "                    colormap='tab20', \n",
    "                    figsize=(20, 6))\n",
    "\n",
    "plt.legend(loc=\"upper left\", ncol=1)\n",
    "plt.title('Процентное соотношение продаж 2013-2016')\n",
    "plt.xlabel('Год выпуска')\n",
    "plt.ylabel('Соотношение')\n",
    "\n",
    "plt.show()"
   ]
  },
  {
   "cell_type": "markdown",
   "metadata": {},
   "source": [
    "Таблица и график показывают, что актуальные период выбран достаточно точно и отражает несколько тенденций:\n",
    "\n",
    "1. показывает смену поколений платформ - PS3 на PS4 и XBOX360 на XBOXOne\n",
    "2. отражает стабильность в продажах игр на PC (пусть общие цифры и не высоки) и на 3DS (с падением, что говорит о постепенном закате платформы)\n",
    "\n",
    "Потенциально прибыльными платформами оказываются PS4 и XBOXOne. Также прибыль должна продолжить показывать 3DS.\n",
    "\n",
    "Построим диаграммы размаха продаж по платформам в акутальном периоде."
   ]
  },
  {
   "cell_type": "code",
   "execution_count": 53,
   "metadata": {},
   "outputs": [
    {
     "data": {
      "image/png": "[encoded data removed]",
      "text/plain": [
       "<Figure size 1008x576 with 1 Axes>"
      ]
     },
     "metadata": {
      "needs_background": "light"
     },
     "output_type": "display_data"
    }
   ],
   "source": [
    "plt.figure(figsize=(14,8))\n",
    "sns.boxplot(y= 'platform', x='total_sales', orient='h', data=actual_df, notch=False, width=0.5)\n",
    "plt.title('Диаграммы размаха продаж по платформам в актуальном периоде (с выбросами)')\n",
    "plt.grid(True)"
   ]
  },
  {
   "cell_type": "code",
   "execution_count": 54,
   "metadata": {},
   "outputs": [
    {
     "data": {
      "image/png": "[encoded data removed]",
      "text/plain": [
       "<Figure size 1008x576 with 1 Axes>"
      ]
     },
     "metadata": {
      "needs_background": "light"
     },
     "output_type": "display_data"
    }
   ],
   "source": [
    "plt.figure(figsize=(14,8))\n",
    "sns.boxplot(y= 'platform', x='total_sales', orient='h', data=actual_df, notch=False, width=0.5)\n",
    "plt.title('Диаграммы размаха продаж по платформам в актуальном периоде')\n",
    "plt.xlim(-0.05, 1.8)\n",
    "plt.grid(True)\n",
    "\n"
   ]
  },
  {
   "cell_type": "code",
   "execution_count": 55,
   "metadata": {},
   "outputs": [
    {
     "data": {
      "text/html": [
       "<div>\n",
       "<style scoped>\n",
       "    .dataframe tbody tr th:only-of-type {\n",
       "        vertical-align: middle;\n",
       "    }\n",
       "\n",
       "    .dataframe tbody tr th {\n",
       "        vertical-align: top;\n",
       "    }\n",
       "\n",
       "    .dataframe thead th {\n",
       "        text-align: right;\n",
       "    }\n",
       "</style>\n",
       "<table border=\"1\" class=\"dataframe\">\n",
       "  <thead>\n",
       "    <tr style=\"text-align: right;\">\n",
       "      <th></th>\n",
       "      <th>platform</th>\n",
       "      <th>count</th>\n",
       "      <th>mean</th>\n",
       "      <th>std</th>\n",
       "      <th>min</th>\n",
       "      <th>25%</th>\n",
       "      <th>50%</th>\n",
       "      <th>75%</th>\n",
       "      <th>max</th>\n",
       "    </tr>\n",
       "  </thead>\n",
       "  <tbody>\n",
       "    <tr>\n",
       "      <th>9</th>\n",
       "      <td>X360</td>\n",
       "      <td>186.0</td>\n",
       "      <td>0.735484</td>\n",
       "      <td>1.663275</td>\n",
       "      <td>0.01</td>\n",
       "      <td>0.0800</td>\n",
       "      <td>0.265</td>\n",
       "      <td>0.7950</td>\n",
       "      <td>16.27</td>\n",
       "    </tr>\n",
       "    <tr>\n",
       "      <th>10</th>\n",
       "      <td>XOne</td>\n",
       "      <td>247.0</td>\n",
       "      <td>0.645020</td>\n",
       "      <td>1.036139</td>\n",
       "      <td>0.01</td>\n",
       "      <td>0.0600</td>\n",
       "      <td>0.220</td>\n",
       "      <td>0.6850</td>\n",
       "      <td>7.39</td>\n",
       "    </tr>\n",
       "    <tr>\n",
       "      <th>4</th>\n",
       "      <td>PS4</td>\n",
       "      <td>392.0</td>\n",
       "      <td>0.801378</td>\n",
       "      <td>1.609456</td>\n",
       "      <td>0.01</td>\n",
       "      <td>0.0600</td>\n",
       "      <td>0.200</td>\n",
       "      <td>0.7300</td>\n",
       "      <td>14.63</td>\n",
       "    </tr>\n",
       "    <tr>\n",
       "      <th>8</th>\n",
       "      <td>WiiU</td>\n",
       "      <td>115.0</td>\n",
       "      <td>0.562000</td>\n",
       "      <td>1.038778</td>\n",
       "      <td>0.01</td>\n",
       "      <td>0.0600</td>\n",
       "      <td>0.200</td>\n",
       "      <td>0.5950</td>\n",
       "      <td>7.09</td>\n",
       "    </tr>\n",
       "    <tr>\n",
       "      <th>7</th>\n",
       "      <td>Wii</td>\n",
       "      <td>23.0</td>\n",
       "      <td>0.593913</td>\n",
       "      <td>0.915432</td>\n",
       "      <td>0.01</td>\n",
       "      <td>0.0450</td>\n",
       "      <td>0.180</td>\n",
       "      <td>0.7550</td>\n",
       "      <td>3.58</td>\n",
       "    </tr>\n",
       "    <tr>\n",
       "      <th>1</th>\n",
       "      <td>DS</td>\n",
       "      <td>8.0</td>\n",
       "      <td>0.192500</td>\n",
       "      <td>0.172026</td>\n",
       "      <td>0.03</td>\n",
       "      <td>0.0675</td>\n",
       "      <td>0.150</td>\n",
       "      <td>0.2525</td>\n",
       "      <td>0.51</td>\n",
       "    </tr>\n",
       "    <tr>\n",
       "      <th>3</th>\n",
       "      <td>PS3</td>\n",
       "      <td>345.0</td>\n",
       "      <td>0.525884</td>\n",
       "      <td>1.451939</td>\n",
       "      <td>0.01</td>\n",
       "      <td>0.0400</td>\n",
       "      <td>0.150</td>\n",
       "      <td>0.5100</td>\n",
       "      <td>21.05</td>\n",
       "    </tr>\n",
       "    <tr>\n",
       "      <th>0</th>\n",
       "      <td>3DS</td>\n",
       "      <td>303.0</td>\n",
       "      <td>0.472772</td>\n",
       "      <td>1.381347</td>\n",
       "      <td>0.01</td>\n",
       "      <td>0.0400</td>\n",
       "      <td>0.090</td>\n",
       "      <td>0.2800</td>\n",
       "      <td>14.60</td>\n",
       "    </tr>\n",
       "    <tr>\n",
       "      <th>2</th>\n",
       "      <td>PC</td>\n",
       "      <td>189.0</td>\n",
       "      <td>0.208624</td>\n",
       "      <td>0.352304</td>\n",
       "      <td>0.01</td>\n",
       "      <td>0.0300</td>\n",
       "      <td>0.080</td>\n",
       "      <td>0.2300</td>\n",
       "      <td>3.05</td>\n",
       "    </tr>\n",
       "    <tr>\n",
       "      <th>6</th>\n",
       "      <td>PSV</td>\n",
       "      <td>358.0</td>\n",
       "      <td>0.092151</td>\n",
       "      <td>0.153816</td>\n",
       "      <td>0.01</td>\n",
       "      <td>0.0200</td>\n",
       "      <td>0.040</td>\n",
       "      <td>0.1100</td>\n",
       "      <td>1.96</td>\n",
       "    </tr>\n",
       "    <tr>\n",
       "      <th>5</th>\n",
       "      <td>PSP</td>\n",
       "      <td>67.0</td>\n",
       "      <td>0.052239</td>\n",
       "      <td>0.059768</td>\n",
       "      <td>0.01</td>\n",
       "      <td>0.0150</td>\n",
       "      <td>0.020</td>\n",
       "      <td>0.0700</td>\n",
       "      <td>0.24</td>\n",
       "    </tr>\n",
       "  </tbody>\n",
       "</table>\n",
       "</div>"
      ],
      "text/plain": [
       "   platform  count      mean       std   min     25%    50%     75%    max\n",
       "9      X360  186.0  0.735484  1.663275  0.01  0.0800  0.265  0.7950  16.27\n",
       "10     XOne  247.0  0.645020  1.036139  0.01  0.0600  0.220  0.6850   7.39\n",
       "4       PS4  392.0  0.801378  1.609456  0.01  0.0600  0.200  0.7300  14.63\n",
       "8      WiiU  115.0  0.562000  1.038778  0.01  0.0600  0.200  0.5950   7.09\n",
       "7       Wii   23.0  0.593913  0.915432  0.01  0.0450  0.180  0.7550   3.58\n",
       "1        DS    8.0  0.192500  0.172026  0.03  0.0675  0.150  0.2525   0.51\n",
       "3       PS3  345.0  0.525884  1.451939  0.01  0.0400  0.150  0.5100  21.05\n",
       "0       3DS  303.0  0.472772  1.381347  0.01  0.0400  0.090  0.2800  14.60\n",
       "2        PC  189.0  0.208624  0.352304  0.01  0.0300  0.080  0.2300   3.05\n",
       "6       PSV  358.0  0.092151  0.153816  0.01  0.0200  0.040  0.1100   1.96\n",
       "5       PSP   67.0  0.052239  0.059768  0.01  0.0150  0.020  0.0700   0.24"
      ]
     },
     "execution_count": 55,
     "metadata": {},
     "output_type": "execute_result"
    }
   ],
   "source": [
    "desc = platforms_actual.groupby('platform')['total_sales'].describe().reset_index()\n",
    "desc.columns = ['platform', 'count', 'mean', 'std', 'min', '25%', '50%', '75%', 'max']\n",
    "desc.sort_values('50%', ascending=False)"
   ]
  },
  {
   "cell_type": "markdown",
   "metadata": {},
   "source": [
    "Диаграммы размаха показывают, что ключевыми остаются 4 платформы - X360, XOne, PS4, WiiU. При этом важно учесть данные предыдущего графика, который показывает, что X360 и WiiU находятся на спаде."
   ]
  },
  {
   "cell_type": "markdown",
   "metadata": {},
   "source": [
    "### Влияние на продажи отзывов пользователей и критиков"
   ]
  },
  {
   "cell_type": "markdown",
   "metadata": {},
   "source": [
    "Для начала исследуем влияние на продажи отзывов пользователей и критиков на примере конкретной популярной платформы - PS4."
   ]
  },
  {
   "cell_type": "code",
   "execution_count": 56,
   "metadata": {},
   "outputs": [
    {
     "data": {
      "image/png": "[encoded data removed]",
      "text/plain": [
       "<Figure size 432x288 with 1 Axes>"
      ]
     },
     "metadata": {
      "needs_background": "light"
     },
     "output_type": "display_data"
    }
   ],
   "source": [
    "actual_df.loc[actual_df['platform'] == 'PS4'].plot(x='critic_score', y='total_sales', kind='scatter')\n",
    "plt.title('Зависимость продаж от оценок критиков (PS4)')\n",
    "plt.xlabel('Оценки критиков')\n",
    "plt.ylabel('Продажи')\n",
    "plt.show()"
   ]
  },
  {
   "cell_type": "code",
   "execution_count": 57,
   "metadata": {},
   "outputs": [
    {
     "data": {
      "text/plain": [
       "0.39060159731130356"
      ]
     },
     "execution_count": 57,
     "metadata": {},
     "output_type": "execute_result"
    }
   ],
   "source": [
    "actual_df.loc[actual_df['platform'] == 'PS4']['total_sales'].corr(actual_df.loc[actual_df['platform'] == 'PS4']['critic_score'])"
   ]
  },
  {
   "cell_type": "code",
   "execution_count": 58,
   "metadata": {},
   "outputs": [
    {
     "data": {
      "image/png": "[encoded data removed]",
      "text/plain": [
       "<Figure size 432x288 with 1 Axes>"
      ]
     },
     "metadata": {
      "needs_background": "light"
     },
     "output_type": "display_data"
    }
   ],
   "source": [
    "actual_df.loc[actual_df['platform'] == 'PS4'].plot(x='user_score', y='total_sales', kind='scatter')\n",
    "plt.title('Зависимость продаж от оценок пользователей (PS4)')\n",
    "plt.xlabel('Оценки пользователей')\n",
    "plt.ylabel('Продажи')\n",
    "plt.show()"
   ]
  },
  {
   "cell_type": "code",
   "execution_count": 59,
   "metadata": {},
   "outputs": [
    {
     "data": {
      "text/plain": [
       "-0.02218030886581895"
      ]
     },
     "execution_count": 59,
     "metadata": {},
     "output_type": "execute_result"
    }
   ],
   "source": [
    "actual_df.loc[actual_df['platform'] == 'PS4']['total_sales'].corr(actual_df.loc[actual_df['platform'] == 'PS4']['user_score'])"
   ]
  },
  {
   "cell_type": "markdown",
   "metadata": {},
   "source": [
    "Диаграммы рассеяния показывают, что определенная, хотя и слабая, корелляция оценок критиков и продаж присутствует, а с оценками пользователей корреляция отсутствует."
   ]
  },
  {
   "cell_type": "markdown",
   "metadata": {},
   "source": [
    "Получим теперь данные для всех платформ за актуальный период."
   ]
  },
  {
   "cell_type": "markdown",
   "metadata": {},
   "source": [
    "__Зависимость продаж от оценок критиков по платформам в актуальный период__"
   ]
  },
  {
   "cell_type": "code",
   "execution_count": 60,
   "metadata": {
    "scrolled": false
   },
   "outputs": [
    {
     "data": {
      "image/png": "[encoded data removed]",
      "text/plain": [
       "<Figure size 432x288 with 1 Axes>"
      ]
     },
     "metadata": {
      "needs_background": "light"
     },
     "output_type": "display_data"
    },
    {
     "data": {
      "text/plain": [
       "0.2915045197868703"
      ]
     },
     "metadata": {},
     "output_type": "display_data"
    },
    {
     "data": {
      "image/png": "[encoded data removed]",
      "text/plain": [
       "<Figure size 432x288 with 1 Axes>"
      ]
     },
     "metadata": {
      "needs_background": "light"
     },
     "output_type": "display_data"
    },
    {
     "data": {
      "text/plain": [
       "0.28855989114218167"
      ]
     },
     "metadata": {},
     "output_type": "display_data"
    },
    {
     "data": {
      "image/png": "[encoded data removed]",
      "text/plain": [
       "<Figure size 432x288 with 1 Axes>"
      ]
     },
     "metadata": {
      "needs_background": "light"
     },
     "output_type": "display_data"
    },
    {
     "data": {
      "text/plain": [
       "0.39060159731130356"
      ]
     },
     "metadata": {},
     "output_type": "display_data"
    },
    {
     "data": {
      "image/png": "[encoded data removed]",
      "text/plain": [
       "<Figure size 432x288 with 1 Axes>"
      ]
     },
     "metadata": {
      "needs_background": "light"
     },
     "output_type": "display_data"
    },
    {
     "data": {
      "text/plain": [
       "0.34229673952184747"
      ]
     },
     "metadata": {},
     "output_type": "display_data"
    },
    {
     "data": {
      "image/png": "[encoded data removed]",
      "text/plain": [
       "<Figure size 432x288 with 1 Axes>"
      ]
     },
     "metadata": {
      "needs_background": "light"
     },
     "output_type": "display_data"
    },
    {
     "data": {
      "text/plain": [
       "0.3755776004203433"
      ]
     },
     "metadata": {},
     "output_type": "display_data"
    },
    {
     "data": {
      "image/png": "[encoded data removed]",
      "text/plain": [
       "<Figure size 432x288 with 1 Axes>"
      ]
     },
     "metadata": {
      "needs_background": "light"
     },
     "output_type": "display_data"
    },
    {
     "data": {
      "text/plain": [
       "0.3771439621461661"
      ]
     },
     "metadata": {},
     "output_type": "display_data"
    },
    {
     "data": {
      "image/png": "[encoded data removed]",
      "text/plain": [
       "<Figure size 432x288 with 1 Axes>"
      ]
     },
     "metadata": {
      "needs_background": "light"
     },
     "output_type": "display_data"
    },
    {
     "data": {
      "text/plain": [
       "0.44279548702590027"
      ]
     },
     "metadata": {},
     "output_type": "display_data"
    },
    {
     "data": {
      "image/png": "[encoded data removed]",
      "text/plain": [
       "<Figure size 432x288 with 1 Axes>"
      ]
     },
     "metadata": {
      "needs_background": "light"
     },
     "output_type": "display_data"
    },
    {
     "data": {
      "text/plain": [
       "0.19469745416185014"
      ]
     },
     "metadata": {},
     "output_type": "display_data"
    },
    {
     "data": {
      "image/png": "[encoded data removed]",
      "text/plain": [
       "<Figure size 432x288 with 1 Axes>"
      ]
     },
     "metadata": {
      "needs_background": "light"
     },
     "output_type": "display_data"
    },
    {
     "data": {
      "text/plain": [
       "0.2641231352459256"
      ]
     },
     "metadata": {},
     "output_type": "display_data"
    },
    {
     "data": {
      "image/png": "[encoded data removed]",
      "text/plain": [
       "<Figure size 432x288 with 1 Axes>"
      ]
     },
     "metadata": {
      "needs_background": "light"
     },
     "output_type": "display_data"
    },
    {
     "data": {
      "text/plain": [
       "0.6067758783389166"
      ]
     },
     "metadata": {},
     "output_type": "display_data"
    },
    {
     "data": {
      "image/png": "[encoded data removed]",
      "text/plain": [
       "<Figure size 432x288 with 1 Axes>"
      ]
     },
     "metadata": {
      "needs_background": "light"
     },
     "output_type": "display_data"
    },
    {
     "data": {
      "text/plain": [
       "0.10531806512432615"
      ]
     },
     "metadata": {},
     "output_type": "display_data"
    }
   ],
   "source": [
    "for i in actual_df['platform'].unique():\n",
    "    actual_df.loc[actual_df['platform'] == i].plot(x='critic_score', y='total_sales', kind='scatter')\n",
    "    plt.title(i)\n",
    "    plt.xlabel('Оценки критиков')\n",
    "    plt.ylabel('Продажи')\n",
    "    plt.show()\n",
    "    display(actual_df.loc[actual_df['platform'] == i]['total_sales'].corr(actual_df.loc[actual_df['platform'] == i]['critic_score']))\n",
    "    \n",
    "    "
   ]
  },
  {
   "cell_type": "markdown",
   "metadata": {},
   "source": [
    "Корреляция продаж от оценок критиков присутствует, однако выражена умеренно. Вероятность того, что игры с высокими оценками критиков будут продваваться лучше есть, однако так случается не для всех игр."
   ]
  },
  {
   "cell_type": "markdown",
   "metadata": {},
   "source": [
    "__Зависимость продаж от оценок пользователей по платформам в актуальный период__"
   ]
  },
  {
   "cell_type": "code",
   "execution_count": 61,
   "metadata": {
    "scrolled": false
   },
   "outputs": [
    {
     "data": {
      "image/png": "[encoded data removed]",
      "text/plain": [
       "<Figure size 432x288 with 1 Axes>"
      ]
     },
     "metadata": {
      "needs_background": "light"
     },
     "output_type": "display_data"
    },
    {
     "data": {
      "text/plain": [
       "0.008391060284578221"
      ]
     },
     "metadata": {},
     "output_type": "display_data"
    },
    {
     "data": {
      "image/png": "[encoded data removed]",
      "text/plain": [
       "<Figure size 432x288 with 1 Axes>"
      ]
     },
     "metadata": {
      "needs_background": "light"
     },
     "output_type": "display_data"
    },
    {
     "data": {
      "text/plain": [
       "-0.01326926966399776"
      ]
     },
     "metadata": {},
     "output_type": "display_data"
    },
    {
     "data": {
      "image/png": "[encoded data removed]",
      "text/plain": [
       "<Figure size 432x288 with 1 Axes>"
      ]
     },
     "metadata": {
      "needs_background": "light"
     },
     "output_type": "display_data"
    },
    {
     "data": {
      "text/plain": [
       "-0.02218030886581895"
      ]
     },
     "metadata": {},
     "output_type": "display_data"
    },
    {
     "data": {
      "image/png": "[encoded data removed]",
      "text/plain": [
       "<Figure size 432x288 with 1 Axes>"
      ]
     },
     "metadata": {
      "needs_background": "light"
     },
     "output_type": "display_data"
    },
    {
     "data": {
      "text/plain": [
       "0.2860254423337859"
      ]
     },
     "metadata": {},
     "output_type": "display_data"
    },
    {
     "data": {
      "image/png": "[encoded data removed]",
      "text/plain": [
       "<Figure size 432x288 with 1 Axes>"
      ]
     },
     "metadata": {
      "needs_background": "light"
     },
     "output_type": "display_data"
    },
    {
     "data": {
      "text/plain": [
       "-0.09647892333700656"
      ]
     },
     "metadata": {},
     "output_type": "display_data"
    },
    {
     "data": {
      "image/png": "[encoded data removed]",
      "text/plain": [
       "<Figure size 432x288 with 1 Axes>"
      ]
     },
     "metadata": {
      "needs_background": "light"
     },
     "output_type": "display_data"
    },
    {
     "data": {
      "text/plain": [
       "0.3981753113396833"
      ]
     },
     "metadata": {},
     "output_type": "display_data"
    },
    {
     "data": {
      "image/png": "[encoded data removed]",
      "text/plain": [
       "<Figure size 432x288 with 1 Axes>"
      ]
     },
     "metadata": {
      "needs_background": "light"
     },
     "output_type": "display_data"
    },
    {
     "data": {
      "text/plain": [
       "0.3900238778962282"
      ]
     },
     "metadata": {},
     "output_type": "display_data"
    },
    {
     "data": {
      "image/png": "[encoded data removed]",
      "text/plain": [
       "<Figure size 432x288 with 1 Axes>"
      ]
     },
     "metadata": {
      "needs_background": "light"
     },
     "output_type": "display_data"
    },
    {
     "data": {
      "text/plain": [
       "-0.10679692765648532"
      ]
     },
     "metadata": {},
     "output_type": "display_data"
    },
    {
     "data": {
      "image/png": "[encoded data removed]",
      "text/plain": [
       "<Figure size 432x288 with 1 Axes>"
      ]
     },
     "metadata": {
      "needs_background": "light"
     },
     "output_type": "display_data"
    },
    {
     "data": {
      "text/plain": [
       "0.06420641733873728"
      ]
     },
     "metadata": {},
     "output_type": "display_data"
    },
    {
     "data": {
      "image/png": "[encoded data removed]",
      "text/plain": [
       "<Figure size 432x288 with 1 Axes>"
      ]
     },
     "metadata": {
      "needs_background": "light"
     },
     "output_type": "display_data"
    },
    {
     "data": {
      "text/plain": [
       "0.04213581191685966"
      ]
     },
     "metadata": {},
     "output_type": "display_data"
    },
    {
     "data": {
      "image/png": "[encoded data removed]",
      "text/plain": [
       "<Figure size 432x288 with 1 Axes>"
      ]
     },
     "metadata": {
      "needs_background": "light"
     },
     "output_type": "display_data"
    },
    {
     "data": {
      "text/plain": [
       "-0.49511986322687634"
      ]
     },
     "metadata": {},
     "output_type": "display_data"
    }
   ],
   "source": [
    "for i in actual_df['platform'].unique():\n",
    "    actual_df.loc[actual_df['platform'] == i].plot(x='user_score', y='total_sales', kind='scatter')\n",
    "    plt.title(i)\n",
    "    plt.xlabel('Оценки пользователей')\n",
    "    plt.ylabel('Продажи')\n",
    "    plt.show()\n",
    "    display(actual_df.loc[actual_df['platform'] == i]['total_sales'].corr(actual_df.loc[actual_df['platform'] == i]['user_score']))"
   ]
  },
  {
   "cell_type": "markdown",
   "metadata": {},
   "source": [
    "Корреляция продаж с оценками пользователей либо отсутствует, либо отрицательная - чем больше продаж игры, тем больше недовольных оценок. Отдельно стоят платформы компании Nintendo, у которых видна корреляция между продажами и оценками пользователей (и эта корреляция соспоставима с корреляцией между прождажами и оценками критиков по тем же платформам). Видимо, комьюнити пользователей компании Nintendo достаточно сплочено и доверяет собственным оценкам."
   ]
  },
  {
   "cell_type": "markdown",
   "metadata": {},
   "source": [
    "### Распределение игр по жанрам"
   ]
  },
  {
   "cell_type": "markdown",
   "metadata": {},
   "source": [
    "Посмотрим на общее распределение игр по жанрам"
   ]
  },
  {
   "cell_type": "code",
   "execution_count": 62,
   "metadata": {},
   "outputs": [
    {
     "data": {
      "text/html": [
       "<div>\n",
       "<style scoped>\n",
       "    .dataframe tbody tr th:only-of-type {\n",
       "        vertical-align: middle;\n",
       "    }\n",
       "\n",
       "    .dataframe tbody tr th {\n",
       "        vertical-align: top;\n",
       "    }\n",
       "\n",
       "    .dataframe thead th {\n",
       "        text-align: right;\n",
       "    }\n",
       "</style>\n",
       "<table border=\"1\" class=\"dataframe\">\n",
       "  <thead>\n",
       "    <tr style=\"text-align: right;\">\n",
       "      <th></th>\n",
       "      <th>name</th>\n",
       "    </tr>\n",
       "    <tr>\n",
       "      <th>genre</th>\n",
       "      <th></th>\n",
       "    </tr>\n",
       "  </thead>\n",
       "  <tbody>\n",
       "    <tr>\n",
       "      <th>Action</th>\n",
       "      <td>766</td>\n",
       "    </tr>\n",
       "    <tr>\n",
       "      <th>Role-Playing</th>\n",
       "      <td>292</td>\n",
       "    </tr>\n",
       "    <tr>\n",
       "      <th>Adventure</th>\n",
       "      <td>245</td>\n",
       "    </tr>\n",
       "    <tr>\n",
       "      <th>Sports</th>\n",
       "      <td>214</td>\n",
       "    </tr>\n",
       "    <tr>\n",
       "      <th>Shooter</th>\n",
       "      <td>187</td>\n",
       "    </tr>\n",
       "    <tr>\n",
       "      <th>Misc</th>\n",
       "      <td>155</td>\n",
       "    </tr>\n",
       "    <tr>\n",
       "      <th>Racing</th>\n",
       "      <td>85</td>\n",
       "    </tr>\n",
       "    <tr>\n",
       "      <th>Fighting</th>\n",
       "      <td>80</td>\n",
       "    </tr>\n",
       "    <tr>\n",
       "      <th>Platform</th>\n",
       "      <td>74</td>\n",
       "    </tr>\n",
       "    <tr>\n",
       "      <th>Simulation</th>\n",
       "      <td>62</td>\n",
       "    </tr>\n",
       "    <tr>\n",
       "      <th>Strategy</th>\n",
       "      <td>56</td>\n",
       "    </tr>\n",
       "    <tr>\n",
       "      <th>Puzzle</th>\n",
       "      <td>17</td>\n",
       "    </tr>\n",
       "  </tbody>\n",
       "</table>\n",
       "</div>"
      ],
      "text/plain": [
       "              name\n",
       "genre             \n",
       "Action         766\n",
       "Role-Playing   292\n",
       "Adventure      245\n",
       "Sports         214\n",
       "Shooter        187\n",
       "Misc           155\n",
       "Racing          85\n",
       "Fighting        80\n",
       "Platform        74\n",
       "Simulation      62\n",
       "Strategy        56\n",
       "Puzzle          17"
      ]
     },
     "execution_count": 62,
     "metadata": {},
     "output_type": "execute_result"
    }
   ],
   "source": [
    "actual_df.groupby('genre').agg({'name':'count'}).sort_values(by = 'name', ascending = False)"
   ]
  },
  {
   "cell_type": "markdown",
   "metadata": {},
   "source": [
    "Больше всего в актуальном периоде выходит игр жанра __Action__, следом идут жанры __Role-Playing, Adventure, Sports___. Замыкает 5-ку ведущих жанров жанр __Shooter__.\n",
    "\n",
    "Посмотрим на данные по продажам по каждому жанру. Для этого найдем медианные значения и построим диаграммы размаха."
   ]
  },
  {
   "cell_type": "code",
   "execution_count": 63,
   "metadata": {},
   "outputs": [
    {
     "data": {
      "text/html": [
       "<div>\n",
       "<style scoped>\n",
       "    .dataframe tbody tr th:only-of-type {\n",
       "        vertical-align: middle;\n",
       "    }\n",
       "\n",
       "    .dataframe tbody tr th {\n",
       "        vertical-align: top;\n",
       "    }\n",
       "\n",
       "    .dataframe thead th {\n",
       "        text-align: right;\n",
       "    }\n",
       "</style>\n",
       "<table border=\"1\" class=\"dataframe\">\n",
       "  <thead>\n",
       "    <tr style=\"text-align: right;\">\n",
       "      <th></th>\n",
       "      <th>total_sales</th>\n",
       "    </tr>\n",
       "    <tr>\n",
       "      <th>genre</th>\n",
       "      <th></th>\n",
       "    </tr>\n",
       "  </thead>\n",
       "  <tbody>\n",
       "    <tr>\n",
       "      <th>Shooter</th>\n",
       "      <td>0.450</td>\n",
       "    </tr>\n",
       "    <tr>\n",
       "      <th>Sports</th>\n",
       "      <td>0.240</td>\n",
       "    </tr>\n",
       "    <tr>\n",
       "      <th>Platform</th>\n",
       "      <td>0.225</td>\n",
       "    </tr>\n",
       "    <tr>\n",
       "      <th>Role-Playing</th>\n",
       "      <td>0.125</td>\n",
       "    </tr>\n",
       "    <tr>\n",
       "      <th>Fighting</th>\n",
       "      <td>0.125</td>\n",
       "    </tr>\n",
       "    <tr>\n",
       "      <th>Racing</th>\n",
       "      <td>0.120</td>\n",
       "    </tr>\n",
       "    <tr>\n",
       "      <th>Action</th>\n",
       "      <td>0.110</td>\n",
       "    </tr>\n",
       "    <tr>\n",
       "      <th>Simulation</th>\n",
       "      <td>0.100</td>\n",
       "    </tr>\n",
       "    <tr>\n",
       "      <th>Misc</th>\n",
       "      <td>0.100</td>\n",
       "    </tr>\n",
       "    <tr>\n",
       "      <th>Strategy</th>\n",
       "      <td>0.080</td>\n",
       "    </tr>\n",
       "    <tr>\n",
       "      <th>Puzzle</th>\n",
       "      <td>0.060</td>\n",
       "    </tr>\n",
       "    <tr>\n",
       "      <th>Adventure</th>\n",
       "      <td>0.030</td>\n",
       "    </tr>\n",
       "  </tbody>\n",
       "</table>\n",
       "</div>"
      ],
      "text/plain": [
       "              total_sales\n",
       "genre                    \n",
       "Shooter             0.450\n",
       "Sports              0.240\n",
       "Platform            0.225\n",
       "Role-Playing        0.125\n",
       "Fighting            0.125\n",
       "Racing              0.120\n",
       "Action              0.110\n",
       "Simulation          0.100\n",
       "Misc                0.100\n",
       "Strategy            0.080\n",
       "Puzzle              0.060\n",
       "Adventure           0.030"
      ]
     },
     "execution_count": 63,
     "metadata": {},
     "output_type": "execute_result"
    }
   ],
   "source": [
    "actual_df.groupby('genre').agg({'total_sales':'median'}).sort_values(by = 'total_sales', ascending = False)"
   ]
  },
  {
   "cell_type": "code",
   "execution_count": 64,
   "metadata": {},
   "outputs": [
    {
     "data": {
      "image/png": "[encoded data removed]",
      "text/plain": [
       "<Figure size 1008x576 with 1 Axes>"
      ]
     },
     "metadata": {
      "needs_background": "light"
     },
     "output_type": "display_data"
    }
   ],
   "source": [
    "plt.figure(figsize=(14,8))\n",
    "sns.boxplot(y= 'genre', x='total_sales', orient='h', data=actual_df, notch=False, width=0.5)\n",
    "plt.title('Диаграммы размаха продаж по жанрам в актуальном периоде')\n",
    "plt.xlim(-0.05, 3.5)\n",
    "plt.grid(True)"
   ]
  },
  {
   "cell_type": "markdown",
   "metadata": {},
   "source": [
    "Диаграммы размаха показывают, что самыми прибыльными жанрами оказываютс жанры __Shooter, Sports, Platform__.\n",
    "\n",
    "Низкие продажи показывают жанры __Strategy,  Puzzle, Adventure__."
   ]
  },
  {
   "cell_type": "markdown",
   "metadata": {},
   "source": [
    "__Вывод:__ при исследовании данных был выделен актуальный период (2013-2016 годы), а также обнаружено следующее:\n",
    "* количество новых игр после спада до 2013 года опять начало расти\n",
    "* актуальными остаются несколько ключевых платформ (X360, XOne, PS4, WiiU), при этом вX360 и WiiU находятся на спаде\n",
    "* корреляция продаж с оценками критиков присутствует, но выражена умеренно, а с оценками пользователей - также небольшая, но отрицательная по ключевым платформам\n",
    "* самыми прибыльными жанрами оказываются жанры __Shooter, Sports, Platform__."
   ]
  },
  {
   "cell_type": "markdown",
   "metadata": {},
   "source": [
    "## Портрет пользователя каждого региона"
   ]
  },
  {
   "cell_type": "markdown",
   "metadata": {},
   "source": [
    "Определим для каждого региона портрет пользователя: топ-5 попоулярных платформ, топ-5 популярных жанров"
   ]
  },
  {
   "cell_type": "markdown",
   "metadata": {},
   "source": [
    "### Топ-5 популярных платформ"
   ]
  },
  {
   "cell_type": "code",
   "execution_count": 65,
   "metadata": {},
   "outputs": [
    {
     "data": {
      "text/plain": [
       "platform\n",
       "2600     116\n",
       "3DO        3\n",
       "3DS      512\n",
       "DC        52\n",
       "DS      2121\n",
       "GB        97\n",
       "GBA      811\n",
       "GC       542\n",
       "GEN       27\n",
       "GG         1\n",
       "N64      316\n",
       "NES       98\n",
       "NG        12\n",
       "PC       956\n",
       "PCFX       1\n",
       "PS      1190\n",
       "PS2     2127\n",
       "PS3     1305\n",
       "PS4      392\n",
       "PSP     1193\n",
       "PSV      429\n",
       "SAT      173\n",
       "SCD        6\n",
       "SNES     239\n",
       "TG16       2\n",
       "WS         6\n",
       "Wii     1286\n",
       "WiiU     147\n",
       "X360    1231\n",
       "XB       803\n",
       "XOne     247\n",
       "Name: name, dtype: int64"
      ]
     },
     "execution_count": 65,
     "metadata": {},
     "output_type": "execute_result"
    }
   ],
   "source": [
    "p1 = actual_df.groupby('platform').agg({'na_sales':'sum'}).sort_values(by = 'na_sales', ascending = False).head()\n",
    "d1"
   ]
  },
  {
   "cell_type": "code",
   "execution_count": 66,
   "metadata": {},
   "outputs": [
    {
     "data": {
      "image/png": "[encoded data removed]",
      "text/plain": [
       "<Figure size 432x288 with 1 Axes>"
      ]
     },
     "metadata": {
      "needs_background": "light"
     },
     "output_type": "display_data"
    }
   ],
   "source": [
    "sns.barplot(data=p1, x=p1.index, y='na_sales');"
   ]
  },
  {
   "cell_type": "code",
   "execution_count": 67,
   "metadata": {},
   "outputs": [
    {
     "data": {
      "text/html": [
       "<div>\n",
       "<style scoped>\n",
       "    .dataframe tbody tr th:only-of-type {\n",
       "        vertical-align: middle;\n",
       "    }\n",
       "\n",
       "    .dataframe tbody tr th {\n",
       "        vertical-align: top;\n",
       "    }\n",
       "\n",
       "    .dataframe thead th {\n",
       "        text-align: right;\n",
       "    }\n",
       "</style>\n",
       "<table border=\"1\" class=\"dataframe\">\n",
       "  <thead>\n",
       "    <tr style=\"text-align: right;\">\n",
       "      <th></th>\n",
       "      <th>eu_sales</th>\n",
       "    </tr>\n",
       "    <tr>\n",
       "      <th>platform</th>\n",
       "      <th></th>\n",
       "    </tr>\n",
       "  </thead>\n",
       "  <tbody>\n",
       "    <tr>\n",
       "      <th>PS4</th>\n",
       "      <td>141.09</td>\n",
       "    </tr>\n",
       "    <tr>\n",
       "      <th>PS3</th>\n",
       "      <td>67.81</td>\n",
       "    </tr>\n",
       "    <tr>\n",
       "      <th>XOne</th>\n",
       "      <td>51.59</td>\n",
       "    </tr>\n",
       "    <tr>\n",
       "      <th>X360</th>\n",
       "      <td>42.52</td>\n",
       "    </tr>\n",
       "    <tr>\n",
       "      <th>3DS</th>\n",
       "      <td>30.96</td>\n",
       "    </tr>\n",
       "  </tbody>\n",
       "</table>\n",
       "</div>"
      ],
      "text/plain": [
       "          eu_sales\n",
       "platform          \n",
       "PS4         141.09\n",
       "PS3          67.81\n",
       "XOne         51.59\n",
       "X360         42.52\n",
       "3DS          30.96"
      ]
     },
     "execution_count": 67,
     "metadata": {},
     "output_type": "execute_result"
    }
   ],
   "source": [
    "p2 = actual_df.groupby('platform').agg({'eu_sales':'sum'}).sort_values(by = 'eu_sales', ascending = False).head()\n",
    "p2"
   ]
  },
  {
   "cell_type": "code",
   "execution_count": 68,
   "metadata": {},
   "outputs": [
    {
     "data": {
      "image/png": "[encoded data removed]",
      "text/plain": [
       "<Figure size 432x288 with 1 Axes>"
      ]
     },
     "metadata": {
      "needs_background": "light"
     },
     "output_type": "display_data"
    }
   ],
   "source": [
    "sns.barplot(data=p2, x=p2.index, y='eu_sales');"
   ]
  },
  {
   "cell_type": "code",
   "execution_count": 69,
   "metadata": {
    "scrolled": true
   },
   "outputs": [
    {
     "data": {
      "text/html": [
       "<div>\n",
       "<style scoped>\n",
       "    .dataframe tbody tr th:only-of-type {\n",
       "        vertical-align: middle;\n",
       "    }\n",
       "\n",
       "    .dataframe tbody tr th {\n",
       "        vertical-align: top;\n",
       "    }\n",
       "\n",
       "    .dataframe thead th {\n",
       "        text-align: right;\n",
       "    }\n",
       "</style>\n",
       "<table border=\"1\" class=\"dataframe\">\n",
       "  <thead>\n",
       "    <tr style=\"text-align: right;\">\n",
       "      <th></th>\n",
       "      <th>jp_sales</th>\n",
       "    </tr>\n",
       "    <tr>\n",
       "      <th>platform</th>\n",
       "      <th></th>\n",
       "    </tr>\n",
       "  </thead>\n",
       "  <tbody>\n",
       "    <tr>\n",
       "      <th>3DS</th>\n",
       "      <td>67.81</td>\n",
       "    </tr>\n",
       "    <tr>\n",
       "      <th>PS3</th>\n",
       "      <td>23.35</td>\n",
       "    </tr>\n",
       "    <tr>\n",
       "      <th>PSV</th>\n",
       "      <td>18.59</td>\n",
       "    </tr>\n",
       "    <tr>\n",
       "      <th>PS4</th>\n",
       "      <td>15.96</td>\n",
       "    </tr>\n",
       "    <tr>\n",
       "      <th>WiiU</th>\n",
       "      <td>10.88</td>\n",
       "    </tr>\n",
       "  </tbody>\n",
       "</table>\n",
       "</div>"
      ],
      "text/plain": [
       "          jp_sales\n",
       "platform          \n",
       "3DS          67.81\n",
       "PS3          23.35\n",
       "PSV          18.59\n",
       "PS4          15.96\n",
       "WiiU         10.88"
      ]
     },
     "execution_count": 69,
     "metadata": {},
     "output_type": "execute_result"
    }
   ],
   "source": [
    "p3 = actual_df.groupby('platform').agg({'jp_sales':'sum'}).sort_values(by = 'jp_sales', ascending = False).head()\n",
    "p3"
   ]
  },
  {
   "cell_type": "code",
   "execution_count": 70,
   "metadata": {},
   "outputs": [
    {
     "data": {
      "image/png": "[encoded data removed]",
      "text/plain": [
       "<Figure size 432x288 with 1 Axes>"
      ]
     },
     "metadata": {
      "needs_background": "light"
     },
     "output_type": "display_data"
    }
   ],
   "source": [
    "sns.barplot(data=p3, x=p3.index, y='jp_sales');"
   ]
  },
  {
   "cell_type": "markdown",
   "metadata": {},
   "source": [
    "Американский и европейский рынки в целом похожи, в топ-5 платформ представлены __PS4, PS3, XOne, X360__ и __3DS__, лидирующие позиции занимает PS4.\n",
    "\n",
    "На японском рынке в топ-5 отсутствуют платформы компании Microsoft, а ведущую позицию занимает __3DS__."
   ]
  },
  {
   "cell_type": "markdown",
   "metadata": {},
   "source": [
    "### Топ-5 популярных жанров"
   ]
  },
  {
   "cell_type": "code",
   "execution_count": 71,
   "metadata": {},
   "outputs": [
    {
     "data": {
      "text/html": [
       "<div>\n",
       "<style scoped>\n",
       "    .dataframe tbody tr th:only-of-type {\n",
       "        vertical-align: middle;\n",
       "    }\n",
       "\n",
       "    .dataframe tbody tr th {\n",
       "        vertical-align: top;\n",
       "    }\n",
       "\n",
       "    .dataframe thead th {\n",
       "        text-align: right;\n",
       "    }\n",
       "</style>\n",
       "<table border=\"1\" class=\"dataframe\">\n",
       "  <thead>\n",
       "    <tr style=\"text-align: right;\">\n",
       "      <th></th>\n",
       "      <th>na_sales</th>\n",
       "    </tr>\n",
       "    <tr>\n",
       "      <th>genre</th>\n",
       "      <th></th>\n",
       "    </tr>\n",
       "  </thead>\n",
       "  <tbody>\n",
       "    <tr>\n",
       "      <th>Shooter</th>\n",
       "      <td>0.200</td>\n",
       "    </tr>\n",
       "    <tr>\n",
       "      <th>Platform</th>\n",
       "      <td>0.090</td>\n",
       "    </tr>\n",
       "    <tr>\n",
       "      <th>Sports</th>\n",
       "      <td>0.080</td>\n",
       "    </tr>\n",
       "    <tr>\n",
       "      <th>Fighting</th>\n",
       "      <td>0.045</td>\n",
       "    </tr>\n",
       "    <tr>\n",
       "      <th>Racing</th>\n",
       "      <td>0.030</td>\n",
       "    </tr>\n",
       "  </tbody>\n",
       "</table>\n",
       "</div>"
      ],
      "text/plain": [
       "          na_sales\n",
       "genre             \n",
       "Shooter      0.200\n",
       "Platform     0.090\n",
       "Sports       0.080\n",
       "Fighting     0.045\n",
       "Racing       0.030"
      ]
     },
     "execution_count": 71,
     "metadata": {},
     "output_type": "execute_result"
    }
   ],
   "source": [
    "g1 = actual_df.groupby('genre').agg({'na_sales':'median'}).sort_values(by = 'na_sales', ascending = False).head()\n",
    "g1"
   ]
  },
  {
   "cell_type": "code",
   "execution_count": 72,
   "metadata": {},
   "outputs": [
    {
     "data": {
      "image/png": "[encoded data removed]",
      "text/plain": [
       "<Figure size 432x288 with 1 Axes>"
      ]
     },
     "metadata": {
      "needs_background": "light"
     },
     "output_type": "display_data"
    }
   ],
   "source": [
    "sns.barplot(data=g1, x=g1.index, y='na_sales');"
   ]
  },
  {
   "cell_type": "code",
   "execution_count": 73,
   "metadata": {},
   "outputs": [
    {
     "data": {
      "text/html": [
       "<div>\n",
       "<style scoped>\n",
       "    .dataframe tbody tr th:only-of-type {\n",
       "        vertical-align: middle;\n",
       "    }\n",
       "\n",
       "    .dataframe tbody tr th {\n",
       "        vertical-align: top;\n",
       "    }\n",
       "\n",
       "    .dataframe thead th {\n",
       "        text-align: right;\n",
       "    }\n",
       "</style>\n",
       "<table border=\"1\" class=\"dataframe\">\n",
       "  <thead>\n",
       "    <tr style=\"text-align: right;\">\n",
       "      <th></th>\n",
       "      <th>eu_sales</th>\n",
       "    </tr>\n",
       "    <tr>\n",
       "      <th>genre</th>\n",
       "      <th></th>\n",
       "    </tr>\n",
       "  </thead>\n",
       "  <tbody>\n",
       "    <tr>\n",
       "      <th>Shooter</th>\n",
       "      <td>0.190</td>\n",
       "    </tr>\n",
       "    <tr>\n",
       "      <th>Platform</th>\n",
       "      <td>0.080</td>\n",
       "    </tr>\n",
       "    <tr>\n",
       "      <th>Racing</th>\n",
       "      <td>0.060</td>\n",
       "    </tr>\n",
       "    <tr>\n",
       "      <th>Sports</th>\n",
       "      <td>0.050</td>\n",
       "    </tr>\n",
       "    <tr>\n",
       "      <th>Simulation</th>\n",
       "      <td>0.035</td>\n",
       "    </tr>\n",
       "  </tbody>\n",
       "</table>\n",
       "</div>"
      ],
      "text/plain": [
       "            eu_sales\n",
       "genre               \n",
       "Shooter        0.190\n",
       "Platform       0.080\n",
       "Racing         0.060\n",
       "Sports         0.050\n",
       "Simulation     0.035"
      ]
     },
     "execution_count": 73,
     "metadata": {},
     "output_type": "execute_result"
    }
   ],
   "source": [
    "g2 = actual_df.groupby('genre').agg({'eu_sales':'median'}).sort_values(by = 'eu_sales', ascending = False).head()\n",
    "g2"
   ]
  },
  {
   "cell_type": "code",
   "execution_count": 74,
   "metadata": {},
   "outputs": [
    {
     "data": {
      "image/png": "[encoded data removed]",
      "text/plain": [
       "<Figure size 432x288 with 1 Axes>"
      ]
     },
     "metadata": {
      "needs_background": "light"
     },
     "output_type": "display_data"
    }
   ],
   "source": [
    "sns.barplot(data=g2, x=g2.index, y='eu_sales');"
   ]
  },
  {
   "cell_type": "code",
   "execution_count": 75,
   "metadata": {
    "scrolled": true
   },
   "outputs": [
    {
     "data": {
      "text/html": [
       "<div>\n",
       "<style scoped>\n",
       "    .dataframe tbody tr th:only-of-type {\n",
       "        vertical-align: middle;\n",
       "    }\n",
       "\n",
       "    .dataframe tbody tr th {\n",
       "        vertical-align: top;\n",
       "    }\n",
       "\n",
       "    .dataframe thead th {\n",
       "        text-align: right;\n",
       "    }\n",
       "</style>\n",
       "<table border=\"1\" class=\"dataframe\">\n",
       "  <thead>\n",
       "    <tr style=\"text-align: right;\">\n",
       "      <th></th>\n",
       "      <th>jp_sales</th>\n",
       "    </tr>\n",
       "    <tr>\n",
       "      <th>genre</th>\n",
       "      <th></th>\n",
       "    </tr>\n",
       "  </thead>\n",
       "  <tbody>\n",
       "    <tr>\n",
       "      <th>Role-Playing</th>\n",
       "      <td>0.05</td>\n",
       "    </tr>\n",
       "    <tr>\n",
       "      <th>Fighting</th>\n",
       "      <td>0.03</td>\n",
       "    </tr>\n",
       "    <tr>\n",
       "      <th>Misc</th>\n",
       "      <td>0.02</td>\n",
       "    </tr>\n",
       "    <tr>\n",
       "      <th>Puzzle</th>\n",
       "      <td>0.02</td>\n",
       "    </tr>\n",
       "    <tr>\n",
       "      <th>Action</th>\n",
       "      <td>0.01</td>\n",
       "    </tr>\n",
       "  </tbody>\n",
       "</table>\n",
       "</div>"
      ],
      "text/plain": [
       "              jp_sales\n",
       "genre                 \n",
       "Role-Playing      0.05\n",
       "Fighting          0.03\n",
       "Misc              0.02\n",
       "Puzzle            0.02\n",
       "Action            0.01"
      ]
     },
     "execution_count": 75,
     "metadata": {},
     "output_type": "execute_result"
    }
   ],
   "source": [
    "g3 = actual_df.groupby('genre').agg({'jp_sales':'median'}).sort_values(by = 'jp_sales', ascending = False).head()\n",
    "g3"
   ]
  },
  {
   "cell_type": "code",
   "execution_count": 76,
   "metadata": {},
   "outputs": [
    {
     "data": {
      "image/png": "[encoded data removed]",
      "text/plain": [
       "<Figure size 432x288 with 1 Axes>"
      ]
     },
     "metadata": {
      "needs_background": "light"
     },
     "output_type": "display_data"
    }
   ],
   "source": [
    "sns.barplot(data=g3, x=g3.index, y='jp_sales');"
   ]
  },
  {
   "cell_type": "markdown",
   "metadata": {},
   "source": [
    "На американском и европейском рынках опять схожая картина - топ занимают жанры __Shooter, Sports__.\n",
    "\n",
    "В Японии на первое место выходит жанр __Role-Playing__, а также жанр __Fighting__."
   ]
  },
  {
   "cell_type": "markdown",
   "metadata": {},
   "source": [
    "### Продажи в регионах по рейтингу ESBR"
   ]
  },
  {
   "cell_type": "code",
   "execution_count": 77,
   "metadata": {},
   "outputs": [
    {
     "data": {
      "image/png": "[encoded data removed]",
      "text/plain": [
       "<Figure size 432x288 with 1 Axes>"
      ]
     },
     "metadata": {},
     "output_type": "display_data"
    }
   ],
   "source": [
    "df.pivot_table(index='rating',values='na_sales').plot(kind='pie', subplots=True, autopct='%1.1f%%', legend=False, normalize=True)\n",
    "plt.title('Продажи игр по рейтинуг в США');\n"
   ]
  },
  {
   "cell_type": "code",
   "execution_count": 78,
   "metadata": {},
   "outputs": [
    {
     "data": {
      "image/png": "[encoded data removed]",
      "text/plain": [
       "<Figure size 432x288 with 1 Axes>"
      ]
     },
     "metadata": {},
     "output_type": "display_data"
    }
   ],
   "source": [
    "df.pivot_table(index='rating',values='eu_sales').plot(kind='pie', subplots=True, autopct='%1.1f%%', legend=False, normalize=True)\n",
    "plt.title('Продажи игр по рейтинуг в Европе');"
   ]
  },
  {
   "cell_type": "code",
   "execution_count": 79,
   "metadata": {
    "scrolled": true
   },
   "outputs": [
    {
     "data": {
      "image/png": "[encoded data removed]",
      "text/plain": [
       "<Figure size 432x288 with 1 Axes>"
      ]
     },
     "metadata": {},
     "output_type": "display_data"
    }
   ],
   "source": [
    "df.pivot_table(index='rating',values='jp_sales').plot(kind='pie', subplots=True, autopct='%1.1f%%', legend=False, normalize=True)\n",
    "plt.title('Продажи игр по рейтинуг в Японии');"
   ]
  },
  {
   "cell_type": "markdown",
   "metadata": {},
   "source": [
    "Продажи в зависимости от рейтинга показывают, что предпочтения американских и европейских пользователей в целом совпадают, за исключением большего стремления к покупке игр с возрастным рейтингом в Европе относительно Америки.\n",
    "\n",
    "В Японии рейтинг __ESBR__ оказывается менее показательным. Большая часть игр, покупаемых в Японии, не получала рейтинг __ESBR__, потому что в Японии существует своя система рейтинга, а основные продажи приходятся на игры, предназначенные именно для японского рынка. "
   ]
  },
  {
   "cell_type": "markdown",
   "metadata": {},
   "source": [
    "__Вывод:__ европейский и американский потребители в целом схожи, за исключением предпочтений игр с более \"взрослым\" рейтингом в Европе. Японский потребитель отличается своими предпочтениями как по жанрам (ролевые игры), так и по используемым платформам (отсутствие в топ-5 платформ компании microsoft), а также явным предпочтением к играм, предназначенным для японского рынка (а значит - не получающим рейтинг ESBR)."
   ]
  },
  {
   "cell_type": "markdown",
   "metadata": {},
   "source": [
    "## Гипотезы"
   ]
  },
  {
   "cell_type": "markdown",
   "metadata": {},
   "source": [
    "Проверим две гипотезы:\n",
    "1. гипотезу по пользовательским рейтингам платформ Xbox One и PC\n",
    "2. гипотезу по пользовательским рейтингам жанров Action и Sports\n",
    "\n",
    "Для этого подготовим датасет без пропусков в столбце __user_score__."
   ]
  },
  {
   "cell_type": "code",
   "execution_count": 80,
   "metadata": {},
   "outputs": [],
   "source": [
    "actual_df_hyp = actual_df.dropna(subset=['user_score'])"
   ]
  },
  {
   "cell_type": "markdown",
   "metadata": {},
   "source": [
    "### Рейтинги платформ"
   ]
  },
  {
   "cell_type": "markdown",
   "metadata": {},
   "source": [
    "Сформулируем нулевую и альтернативную гипотезы для платформ Xbox One и PC относительно пользовательского рейтинга. При формулировке альтернативной гипотезы будем использовать двустороннюю гипотезу:"
   ]
  },
  {
   "cell_type": "markdown",
   "metadata": {},
   "source": [
    "- Нулевая гипотеза H₀: Средние пользовательские рейтинги платформ Xbox One и PC одинаковые\n",
    "- Альтернативная гипотеза H₁: Средние пользовательские рейтинги платформ Xbox One и PC различаются\n",
    "\n",
    "Для проверки гипотезы будем использовать статистический тест с использованием t-распределения взяв уровень значимости 0.05."
   ]
  },
  {
   "cell_type": "code",
   "execution_count": 81,
   "metadata": {},
   "outputs": [
    {
     "name": "stdout",
     "output_type": "stream",
     "text": [
      "0.03805675282486436\n",
      "Отвергаем нулевую гипотезу\n"
     ]
    }
   ],
   "source": [
    "xone = actual_df_hyp.query('platform == \"XOne\"')\n",
    "pc = actual_df_hyp.query('platform == \"PC\"')\n",
    "\n",
    "results = st.ttest_ind(xone['user_score'], pc['user_score'], equal_var = False)\n",
    "\n",
    "alpha = .05\n",
    "\n",
    "print(results.pvalue)\n",
    "if results.pvalue < alpha:\n",
    "    print('Отвергаем нулевую гипотезу')\n",
    "else:\n",
    "    print('Не получилось отвергнуть нулевую гипотезу')"
   ]
  },
  {
   "cell_type": "markdown",
   "metadata": {},
   "source": [
    "Нулевая гипотеза отвергается. С большой долей вероятности средние пользовательские рейтинги платформ XOne и PC имеют статистически значимые отличия.\n",
    "\n",
    "Выведем средние значения для сравнения:"
   ]
  },
  {
   "cell_type": "code",
   "execution_count": 82,
   "metadata": {},
   "outputs": [
    {
     "data": {
      "text/plain": [
       "6.608048780487805"
      ]
     },
     "execution_count": 82,
     "metadata": {},
     "output_type": "execute_result"
    }
   ],
   "source": [
    "xone['user_score'].mean()"
   ]
  },
  {
   "cell_type": "code",
   "execution_count": 83,
   "metadata": {},
   "outputs": [
    {
     "data": {
      "text/plain": [
       "6.255414012738852"
      ]
     },
     "execution_count": 83,
     "metadata": {},
     "output_type": "execute_result"
    }
   ],
   "source": [
    "pc['user_score'].mean()"
   ]
  },
  {
   "cell_type": "markdown",
   "metadata": {},
   "source": [
    "Средние значения подтверждают необходимость отвергнуть нулевую гипотезу."
   ]
  },
  {
   "cell_type": "markdown",
   "metadata": {},
   "source": [
    "### Рейтинги жанров"
   ]
  },
  {
   "cell_type": "markdown",
   "metadata": {},
   "source": [
    "Сформулируем нулевую и альтернативную гипотезы для жанров Action и Sports относительно пользовательского рейтинга. При формулировке альтернативной гипотезы будем использовать двустороннюю гипотезу:"
   ]
  },
  {
   "cell_type": "markdown",
   "metadata": {},
   "source": [
    "- Нулевая гипотеза H₀: Средние пользовательские рейтинги жанров Action и Sports одинаковые\n",
    "- Альтернативная гипотеза H₁: Средние пользовательские рейтинги жанров Action и Sports различаются\n",
    "\n",
    "Для проверки гипотезы будем использовать статистический тест с использованием t-распределения взяв уровень значимости 0.05."
   ]
  },
  {
   "cell_type": "code",
   "execution_count": 84,
   "metadata": {
    "scrolled": true
   },
   "outputs": [
    {
     "name": "stdout",
     "output_type": "stream",
     "text": [
      "2.078555165233204e-25\n",
      "Отвергаем нулевую гипотезу\n"
     ]
    }
   ],
   "source": [
    "action = actual_df_hyp.query('genre == \"Action\"')\n",
    "sports = actual_df_hyp.query('genre == \"Sports\"')\n",
    "\n",
    "results = st.ttest_ind(action['user_score'], sports['user_score'], equal_var = False)\n",
    "\n",
    "alpha = .05\n",
    "\n",
    "print(results.pvalue)\n",
    "if results.pvalue < alpha:\n",
    "    print('Отвергаем нулевую гипотезу')\n",
    "else:\n",
    "    print('Не получилось отвергнуть нулевую гипотезу')"
   ]
  },
  {
   "cell_type": "markdown",
   "metadata": {},
   "source": [
    "Нулевая гипотеза отвергается. С большой долей вероятности средние пользовательские рейтинги жанров Action и Sports имеют статистически значимые отличия.\n",
    "\n",
    "Выведем средние значения для сравнения:"
   ]
  },
  {
   "cell_type": "code",
   "execution_count": 85,
   "metadata": {},
   "outputs": [
    {
     "data": {
      "text/plain": [
       "6.854746136865342"
      ]
     },
     "execution_count": 85,
     "metadata": {},
     "output_type": "execute_result"
    }
   ],
   "source": [
    "action['user_score'].mean()"
   ]
  },
  {
   "cell_type": "code",
   "execution_count": 86,
   "metadata": {},
   "outputs": [
    {
     "data": {
      "text/plain": [
       "5.1819444444444445"
      ]
     },
     "execution_count": 86,
     "metadata": {},
     "output_type": "execute_result"
    }
   ],
   "source": [
    "sports['user_score'].mean()"
   ]
  },
  {
   "cell_type": "markdown",
   "metadata": {},
   "source": [
    "Средние значения подтверждают необходимость отвергнуть нулевую гипотезу."
   ]
  },
  {
   "cell_type": "markdown",
   "metadata": {},
   "source": [
    "__Вывод:__ проверка гипотез по пользоваетльским рейтингам двух платформ и двух жанров показали, что рейтинги по платформам и жанрам статистически отличаются друг от друга."
   ]
  },
  {
   "cell_type": "markdown",
   "metadata": {},
   "source": [
    "## Общий вывод"
   ]
  },
  {
   "cell_type": "markdown",
   "metadata": {},
   "source": [
    "В рамках исследования была проведена работа с данными по продажам игр до 2016 года:\n",
    "* была осуществлена предобработка данных - все данные были проверены на соответствие по типам данных, на отсутствие дубликатов, проведена работа по восстановлению пропусков данных, также в таблицу были внесены дополнительные столбцы, требуемые для проведения исслдования\n",
    "* был проведен исследовательский анализ - выявлен актуальный период анализа (2013 - 2016 г), выявлены ведущие платформы и популярные жанры, а также соответствие продаж игр оценкам пользователей и критиков\n",
    "* был составлен обобщенный портрет пользователя для каждого региона с его сецифическими предпочтениями при покупке игр\n",
    "* были проверены гипотезы по пользоваетльским рейтингам двух платформ и двух жанров, которые показали, что рейтинги по платформам и жанрам статистически отличаются друг от друга\n",
    "\n",
    "В качестве рекомендаций по планированию рекламной кампании на 2017 год можно выделить следующее:\n",
    "* ключевыми платформами для европейского и американского рынка оказываются платформы Microsoft и Sony (при этом платформы новго поколения все больше и больше вытесняют предыдущее); для японского рынка основными платформами оказываются платформы Sony и Nintendo (при этом платформы разных поколений продолжают сосуществовать друг с другом)\n",
    "* ключевыми жанрами по продажам конкретной игры оказываются для Европы и Америки жанры __shooter__ и __sports__, а для Японии - __role-playing__ и __fighting__\n",
    "* на европейском рынке пользоваатели склонны покупать игры с более \"взрослым\" рейтингом ESBR, чем на американском, при этом в Японии оказывается не актуальным американский возрастной рейтинг ESBR, т.к. значительная часть игр выпускается для японского рынка и получает только свой внутренний рейтинг\n",
    "* ориентироваться на оценки пользовтелей не рекомендуется, посколько корреляция оценок пользователей с продажами выражена слабо, а елси выражена, то обратная\n",
    "* ориентироваться на оценки критики необходимо осторожно, поскольку прямая корреляция есть, однако выражена недостаточно сильно\n"
   ]
  }
 ],
 "metadata": {
  "ExecuteTimeLog": [
   {
    "duration": 754,
    "start_time": "2022-12-19T18:27:56.226Z"
   },
   {
    "duration": 193,
    "start_time": "2022-12-19T18:30:18.812Z"
   },
   {
    "duration": 24,
    "start_time": "2022-12-19T18:31:05.458Z"
   },
   {
    "duration": 14,
    "start_time": "2022-12-19T18:31:41.109Z"
   },
   {
    "duration": 66,
    "start_time": "2022-12-19T18:32:06.909Z"
   },
   {
    "duration": 710,
    "start_time": "2022-12-19T18:32:12.954Z"
   },
   {
    "duration": 712,
    "start_time": "2022-12-19T18:32:23.075Z"
   },
   {
    "duration": 515,
    "start_time": "2022-12-19T18:33:08.626Z"
   },
   {
    "duration": 528,
    "start_time": "2022-12-19T18:33:15.026Z"
   },
   {
    "duration": 637,
    "start_time": "2022-12-19T18:33:21.965Z"
   },
   {
    "duration": 135,
    "start_time": "2022-12-19T18:37:20.640Z"
   },
   {
    "duration": 120,
    "start_time": "2022-12-19T18:37:29.281Z"
   },
   {
    "duration": 224,
    "start_time": "2022-12-19T18:37:46.239Z"
   },
   {
    "duration": 162,
    "start_time": "2022-12-19T18:37:52.307Z"
   },
   {
    "duration": 234,
    "start_time": "2022-12-19T18:38:48.008Z"
   },
   {
    "duration": 204,
    "start_time": "2022-12-19T18:38:55.375Z"
   },
   {
    "duration": 164,
    "start_time": "2022-12-19T18:39:07.324Z"
   },
   {
    "duration": 207,
    "start_time": "2022-12-19T18:39:15.975Z"
   },
   {
    "duration": 163,
    "start_time": "2022-12-19T18:39:28.457Z"
   },
   {
    "duration": 258,
    "start_time": "2022-12-19T18:39:50.608Z"
   },
   {
    "duration": 168,
    "start_time": "2022-12-19T18:40:07.337Z"
   },
   {
    "duration": 10,
    "start_time": "2022-12-19T19:16:58.583Z"
   },
   {
    "duration": 7,
    "start_time": "2022-12-19T19:17:39.573Z"
   },
   {
    "duration": 5,
    "start_time": "2022-12-19T19:17:45.523Z"
   },
   {
    "duration": 5,
    "start_time": "2022-12-19T19:17:57.318Z"
   },
   {
    "duration": 4,
    "start_time": "2022-12-19T19:18:05.126Z"
   },
   {
    "duration": 4,
    "start_time": "2022-12-19T19:18:14.311Z"
   },
   {
    "duration": 4,
    "start_time": "2022-12-19T19:18:16.611Z"
   },
   {
    "duration": 11,
    "start_time": "2022-12-19T19:18:25.523Z"
   },
   {
    "duration": 8,
    "start_time": "2022-12-19T19:18:35.269Z"
   },
   {
    "duration": 14,
    "start_time": "2022-12-19T19:18:40.923Z"
   },
   {
    "duration": 5,
    "start_time": "2022-12-19T19:21:07.102Z"
   },
   {
    "duration": 12,
    "start_time": "2022-12-19T19:24:21.784Z"
   },
   {
    "duration": 10,
    "start_time": "2022-12-19T19:24:46.902Z"
   },
   {
    "duration": 290,
    "start_time": "2022-12-19T19:25:05.080Z"
   },
   {
    "duration": 12,
    "start_time": "2022-12-19T19:25:28.316Z"
   },
   {
    "duration": 9,
    "start_time": "2022-12-19T19:26:01.500Z"
   },
   {
    "duration": 54,
    "start_time": "2022-12-19T19:27:20.135Z"
   },
   {
    "duration": 13,
    "start_time": "2022-12-19T19:31:55.844Z"
   },
   {
    "duration": 6,
    "start_time": "2022-12-19T19:32:13.007Z"
   },
   {
    "duration": 69,
    "start_time": "2022-12-19T19:33:06.399Z"
   },
   {
    "duration": 7,
    "start_time": "2022-12-19T19:33:13.216Z"
   },
   {
    "duration": 7,
    "start_time": "2022-12-19T19:33:25.634Z"
   },
   {
    "duration": 6,
    "start_time": "2022-12-19T19:36:52.306Z"
   },
   {
    "duration": 15,
    "start_time": "2022-12-19T19:37:51.830Z"
   },
   {
    "duration": 6,
    "start_time": "2022-12-19T19:38:02.418Z"
   },
   {
    "duration": 7,
    "start_time": "2022-12-19T19:38:19.468Z"
   },
   {
    "duration": 5,
    "start_time": "2022-12-19T19:38:20.731Z"
   },
   {
    "duration": 7,
    "start_time": "2022-12-19T19:38:29.032Z"
   },
   {
    "duration": 5,
    "start_time": "2022-12-19T19:38:29.536Z"
   },
   {
    "duration": 7,
    "start_time": "2022-12-19T19:38:58.718Z"
   },
   {
    "duration": 4,
    "start_time": "2022-12-19T19:38:59.352Z"
   },
   {
    "duration": 14,
    "start_time": "2022-12-19T19:39:24.607Z"
   },
   {
    "duration": 9,
    "start_time": "2022-12-19T19:41:53.179Z"
   },
   {
    "duration": 5,
    "start_time": "2022-12-19T19:41:55.325Z"
   },
   {
    "duration": 603,
    "start_time": "2022-12-19T19:42:19.199Z"
   },
   {
    "duration": 53,
    "start_time": "2022-12-19T19:42:21.146Z"
   },
   {
    "duration": 27,
    "start_time": "2022-12-19T19:42:21.816Z"
   },
   {
    "duration": 15,
    "start_time": "2022-12-19T19:42:23.148Z"
   },
   {
    "duration": 606,
    "start_time": "2022-12-19T19:42:24.403Z"
   },
   {
    "duration": 248,
    "start_time": "2022-12-19T19:42:25.708Z"
   },
   {
    "duration": 223,
    "start_time": "2022-12-19T19:42:26.505Z"
   },
   {
    "duration": 172,
    "start_time": "2022-12-19T19:42:26.933Z"
   },
   {
    "duration": 161,
    "start_time": "2022-12-19T19:42:27.564Z"
   },
   {
    "duration": 3,
    "start_time": "2022-12-19T19:42:30.237Z"
   },
   {
    "duration": 4,
    "start_time": "2022-12-19T19:42:31.047Z"
   },
   {
    "duration": 6,
    "start_time": "2022-12-19T19:42:33.850Z"
   },
   {
    "duration": 4,
    "start_time": "2022-12-19T19:42:34.720Z"
   },
   {
    "duration": 9,
    "start_time": "2022-12-19T19:42:35.413Z"
   },
   {
    "duration": 5,
    "start_time": "2022-12-19T19:42:37.410Z"
   },
   {
    "duration": 10,
    "start_time": "2022-12-19T19:45:15.689Z"
   },
   {
    "duration": 58,
    "start_time": "2022-12-19T19:45:16.684Z"
   },
   {
    "duration": 70,
    "start_time": "2022-12-19T19:49:47.656Z"
   },
   {
    "duration": 88,
    "start_time": "2022-12-19T19:49:52.206Z"
   },
   {
    "duration": 62,
    "start_time": "2022-12-19T19:49:58.383Z"
   },
   {
    "duration": 6,
    "start_time": "2022-12-19T19:50:07.646Z"
   },
   {
    "duration": 49,
    "start_time": "2022-12-19T19:50:48.215Z"
   },
   {
    "duration": 597,
    "start_time": "2022-12-19T19:50:52.031Z"
   },
   {
    "duration": 55,
    "start_time": "2022-12-19T19:50:54.282Z"
   },
   {
    "duration": 27,
    "start_time": "2022-12-19T19:50:55.098Z"
   },
   {
    "duration": 14,
    "start_time": "2022-12-19T19:50:56.232Z"
   },
   {
    "duration": 565,
    "start_time": "2022-12-19T19:50:57.315Z"
   },
   {
    "duration": 167,
    "start_time": "2022-12-19T19:50:58.280Z"
   },
   {
    "duration": 209,
    "start_time": "2022-12-19T19:50:58.997Z"
   },
   {
    "duration": 162,
    "start_time": "2022-12-19T19:50:59.490Z"
   },
   {
    "duration": 177,
    "start_time": "2022-12-19T19:51:00.029Z"
   },
   {
    "duration": 4,
    "start_time": "2022-12-19T19:51:03.594Z"
   },
   {
    "duration": 4,
    "start_time": "2022-12-19T19:51:05.247Z"
   },
   {
    "duration": 5,
    "start_time": "2022-12-19T19:51:07.934Z"
   },
   {
    "duration": 5,
    "start_time": "2022-12-19T19:55:28.849Z"
   },
   {
    "duration": 4,
    "start_time": "2022-12-19T19:55:35.165Z"
   },
   {
    "duration": 5,
    "start_time": "2022-12-19T19:55:54.662Z"
   },
   {
    "duration": 621,
    "start_time": "2022-12-19T20:01:39.950Z"
   },
   {
    "duration": 3,
    "start_time": "2022-12-19T20:01:54.398Z"
   },
   {
    "duration": 6,
    "start_time": "2022-12-19T20:01:56.562Z"
   },
   {
    "duration": 5,
    "start_time": "2022-12-19T20:02:17.397Z"
   },
   {
    "duration": 5,
    "start_time": "2022-12-19T20:02:28.613Z"
   },
   {
    "duration": 5,
    "start_time": "2022-12-19T20:02:29.264Z"
   },
   {
    "duration": 5,
    "start_time": "2022-12-19T20:02:29.943Z"
   },
   {
    "duration": 5,
    "start_time": "2022-12-19T20:42:02.774Z"
   },
   {
    "duration": 620,
    "start_time": "2022-12-19T20:54:46.705Z"
   },
   {
    "duration": 50,
    "start_time": "2022-12-19T20:54:47.327Z"
   },
   {
    "duration": 22,
    "start_time": "2022-12-19T20:54:47.378Z"
   },
   {
    "duration": 12,
    "start_time": "2022-12-19T20:54:47.402Z"
   },
   {
    "duration": 575,
    "start_time": "2022-12-19T20:54:47.415Z"
   },
   {
    "duration": 173,
    "start_time": "2022-12-19T20:54:47.992Z"
   },
   {
    "duration": 216,
    "start_time": "2022-12-19T20:54:48.166Z"
   },
   {
    "duration": 180,
    "start_time": "2022-12-19T20:54:48.384Z"
   },
   {
    "duration": 174,
    "start_time": "2022-12-19T20:54:48.566Z"
   },
   {
    "duration": 3,
    "start_time": "2022-12-19T20:54:48.742Z"
   },
   {
    "duration": 8,
    "start_time": "2022-12-19T20:54:48.747Z"
   },
   {
    "duration": 8,
    "start_time": "2022-12-19T20:54:48.757Z"
   },
   {
    "duration": 7,
    "start_time": "2022-12-19T20:54:48.766Z"
   },
   {
    "duration": 7,
    "start_time": "2022-12-19T20:54:48.775Z"
   },
   {
    "duration": 8,
    "start_time": "2022-12-19T20:54:48.784Z"
   },
   {
    "duration": 7,
    "start_time": "2022-12-19T20:54:48.793Z"
   },
   {
    "duration": 27,
    "start_time": "2022-12-19T20:54:48.801Z"
   },
   {
    "duration": 19,
    "start_time": "2022-12-19T20:54:48.829Z"
   },
   {
    "duration": 21,
    "start_time": "2022-12-19T20:54:48.850Z"
   },
   {
    "duration": 14,
    "start_time": "2022-12-19T20:54:48.873Z"
   },
   {
    "duration": 15,
    "start_time": "2022-12-19T20:54:48.889Z"
   },
   {
    "duration": 53,
    "start_time": "2022-12-19T20:54:48.906Z"
   },
   {
    "duration": 5,
    "start_time": "2022-12-19T20:55:24.752Z"
   },
   {
    "duration": 5,
    "start_time": "2022-12-19T20:55:42.122Z"
   },
   {
    "duration": 7,
    "start_time": "2022-12-19T20:56:14.559Z"
   },
   {
    "duration": 5,
    "start_time": "2022-12-19T20:56:15.276Z"
   },
   {
    "duration": 538,
    "start_time": "2022-12-19T20:59:10.171Z"
   },
   {
    "duration": 49,
    "start_time": "2022-12-19T20:59:10.711Z"
   },
   {
    "duration": 21,
    "start_time": "2022-12-19T20:59:10.762Z"
   },
   {
    "duration": 21,
    "start_time": "2022-12-19T20:59:10.785Z"
   },
   {
    "duration": 569,
    "start_time": "2022-12-19T20:59:10.808Z"
   },
   {
    "duration": 183,
    "start_time": "2022-12-19T20:59:11.378Z"
   },
   {
    "duration": 235,
    "start_time": "2022-12-19T20:59:11.563Z"
   },
   {
    "duration": 175,
    "start_time": "2022-12-19T20:59:11.800Z"
   },
   {
    "duration": 173,
    "start_time": "2022-12-19T20:59:11.977Z"
   },
   {
    "duration": 3,
    "start_time": "2022-12-19T20:59:12.152Z"
   },
   {
    "duration": 20,
    "start_time": "2022-12-19T20:59:12.157Z"
   },
   {
    "duration": 29,
    "start_time": "2022-12-19T20:59:12.178Z"
   },
   {
    "duration": 20,
    "start_time": "2022-12-19T20:59:12.208Z"
   },
   {
    "duration": 15,
    "start_time": "2022-12-19T20:59:12.230Z"
   },
   {
    "duration": 23,
    "start_time": "2022-12-19T20:59:12.246Z"
   },
   {
    "duration": 5,
    "start_time": "2022-12-19T20:59:12.270Z"
   },
   {
    "duration": 13,
    "start_time": "2022-12-19T20:59:12.277Z"
   },
   {
    "duration": 28,
    "start_time": "2022-12-19T20:59:12.291Z"
   },
   {
    "duration": 13,
    "start_time": "2022-12-19T20:59:12.321Z"
   },
   {
    "duration": 18,
    "start_time": "2022-12-19T20:59:12.335Z"
   },
   {
    "duration": 60,
    "start_time": "2022-12-19T20:59:12.354Z"
   },
   {
    "duration": 72,
    "start_time": "2022-12-19T20:59:46.523Z"
   },
   {
    "duration": 16,
    "start_time": "2022-12-19T21:00:07.845Z"
   },
   {
    "duration": 17,
    "start_time": "2022-12-19T21:00:26.059Z"
   },
   {
    "duration": 8,
    "start_time": "2022-12-19T21:05:12.739Z"
   },
   {
    "duration": 1085,
    "start_time": "2022-12-19T21:05:18.512Z"
   },
   {
    "duration": 1096,
    "start_time": "2022-12-19T21:05:29.254Z"
   },
   {
    "duration": 6,
    "start_time": "2022-12-19T21:06:28.106Z"
   },
   {
    "duration": 13,
    "start_time": "2022-12-19T21:06:41.196Z"
   },
   {
    "duration": 5,
    "start_time": "2022-12-19T21:06:49.502Z"
   },
   {
    "duration": 14,
    "start_time": "2022-12-19T21:07:27.653Z"
   },
   {
    "duration": 15,
    "start_time": "2022-12-19T21:09:04.303Z"
   },
   {
    "duration": 1284,
    "start_time": "2022-12-19T21:15:22.923Z"
   },
   {
    "duration": 1082,
    "start_time": "2022-12-19T21:15:31.504Z"
   },
   {
    "duration": 1078,
    "start_time": "2022-12-19T21:15:40.571Z"
   },
   {
    "duration": 1202,
    "start_time": "2022-12-19T21:15:55.619Z"
   },
   {
    "duration": 803,
    "start_time": "2022-12-20T16:17:42.709Z"
   },
   {
    "duration": 470,
    "start_time": "2022-12-20T16:17:45.673Z"
   },
   {
    "duration": 25,
    "start_time": "2022-12-20T16:17:47.601Z"
   },
   {
    "duration": 13,
    "start_time": "2022-12-20T16:17:50.805Z"
   },
   {
    "duration": 684,
    "start_time": "2022-12-20T16:17:53.586Z"
   },
   {
    "duration": 192,
    "start_time": "2022-12-20T16:17:57.153Z"
   },
   {
    "duration": 265,
    "start_time": "2022-12-20T16:17:57.803Z"
   },
   {
    "duration": 191,
    "start_time": "2022-12-20T16:17:58.423Z"
   },
   {
    "duration": 188,
    "start_time": "2022-12-20T16:17:59.054Z"
   },
   {
    "duration": 3,
    "start_time": "2022-12-20T16:18:05.070Z"
   },
   {
    "duration": 4,
    "start_time": "2022-12-20T16:18:07.303Z"
   },
   {
    "duration": 5,
    "start_time": "2022-12-20T16:18:12.287Z"
   },
   {
    "duration": 6,
    "start_time": "2022-12-20T16:18:57.738Z"
   },
   {
    "duration": 5,
    "start_time": "2022-12-20T16:19:07.320Z"
   },
   {
    "duration": 6,
    "start_time": "2022-12-20T16:22:12.587Z"
   },
   {
    "duration": 1223,
    "start_time": "2022-12-20T16:24:47.669Z"
   },
   {
    "duration": 1242,
    "start_time": "2022-12-20T16:25:01.249Z"
   },
   {
    "duration": 5,
    "start_time": "2022-12-20T16:25:24.441Z"
   },
   {
    "duration": 9,
    "start_time": "2022-12-20T16:31:14.518Z"
   },
   {
    "duration": 7,
    "start_time": "2022-12-20T16:31:30.051Z"
   },
   {
    "duration": 12,
    "start_time": "2022-12-20T16:32:31.351Z"
   },
   {
    "duration": 61,
    "start_time": "2022-12-20T16:32:36.800Z"
   },
   {
    "duration": 67,
    "start_time": "2022-12-20T16:33:38.202Z"
   },
   {
    "duration": 20,
    "start_time": "2022-12-20T16:33:43.576Z"
   },
   {
    "duration": 15,
    "start_time": "2022-12-20T16:35:40.497Z"
   },
   {
    "duration": 10,
    "start_time": "2022-12-20T16:40:58.601Z"
   },
   {
    "duration": 8,
    "start_time": "2022-12-20T16:41:06.497Z"
   },
   {
    "duration": 1098,
    "start_time": "2022-12-20T16:52:46.694Z"
   },
   {
    "duration": 10,
    "start_time": "2022-12-20T16:53:11.779Z"
   },
   {
    "duration": 15,
    "start_time": "2022-12-20T16:53:25.182Z"
   },
   {
    "duration": 15,
    "start_time": "2022-12-20T16:53:34.297Z"
   },
   {
    "duration": 5,
    "start_time": "2022-12-20T16:57:45.349Z"
   },
   {
    "duration": 8,
    "start_time": "2022-12-20T17:00:40.098Z"
   },
   {
    "duration": 3,
    "start_time": "2022-12-20T17:01:27.014Z"
   },
   {
    "duration": 3,
    "start_time": "2022-12-20T17:01:33.497Z"
   },
   {
    "duration": 13,
    "start_time": "2022-12-20T17:01:40.464Z"
   },
   {
    "duration": 27,
    "start_time": "2022-12-20T17:11:14.144Z"
   },
   {
    "duration": 77,
    "start_time": "2022-12-20T17:11:36.110Z"
   },
   {
    "duration": 17,
    "start_time": "2022-12-20T17:11:41.292Z"
   },
   {
    "duration": 4658,
    "start_time": "2022-12-20T17:12:37.740Z"
   },
   {
    "duration": 8,
    "start_time": "2022-12-20T17:12:59.181Z"
   },
   {
    "duration": 17,
    "start_time": "2022-12-20T17:13:48.635Z"
   },
   {
    "duration": 9,
    "start_time": "2022-12-20T17:13:51.280Z"
   },
   {
    "duration": 640,
    "start_time": "2022-12-20T17:14:07.713Z"
   },
   {
    "duration": 50,
    "start_time": "2022-12-20T17:14:09.662Z"
   },
   {
    "duration": 24,
    "start_time": "2022-12-20T17:14:10.376Z"
   },
   {
    "duration": 19,
    "start_time": "2022-12-20T17:14:11.436Z"
   },
   {
    "duration": 621,
    "start_time": "2022-12-20T17:14:12.245Z"
   },
   {
    "duration": 187,
    "start_time": "2022-12-20T17:14:13.495Z"
   },
   {
    "duration": 318,
    "start_time": "2022-12-20T17:14:13.997Z"
   },
   {
    "duration": 182,
    "start_time": "2022-12-20T17:14:14.431Z"
   },
   {
    "duration": 196,
    "start_time": "2022-12-20T17:14:14.780Z"
   },
   {
    "duration": 3,
    "start_time": "2022-12-20T17:14:16.746Z"
   },
   {
    "duration": 5,
    "start_time": "2022-12-20T17:14:17.610Z"
   },
   {
    "duration": 5,
    "start_time": "2022-12-20T17:14:18.846Z"
   },
   {
    "duration": 6,
    "start_time": "2022-12-20T17:14:19.731Z"
   },
   {
    "duration": 5,
    "start_time": "2022-12-20T17:14:20.563Z"
   },
   {
    "duration": 8,
    "start_time": "2022-12-20T17:14:21.344Z"
   },
   {
    "duration": 5,
    "start_time": "2022-12-20T17:14:22.195Z"
   },
   {
    "duration": 12,
    "start_time": "2022-12-20T17:14:24.045Z"
   },
   {
    "duration": 49,
    "start_time": "2022-12-20T17:14:24.645Z"
   },
   {
    "duration": 16,
    "start_time": "2022-12-20T17:14:25.735Z"
   },
   {
    "duration": 10,
    "start_time": "2022-12-20T17:14:31.307Z"
   },
   {
    "duration": 17,
    "start_time": "2022-12-20T17:14:33.879Z"
   },
   {
    "duration": 8,
    "start_time": "2022-12-20T17:14:36.978Z"
   },
   {
    "duration": 15,
    "start_time": "2022-12-20T17:18:18.466Z"
   },
   {
    "duration": 15,
    "start_time": "2022-12-20T17:23:10.578Z"
   },
   {
    "duration": 5,
    "start_time": "2022-12-20T17:26:30.836Z"
   },
   {
    "duration": 5,
    "start_time": "2022-12-20T17:26:39.396Z"
   },
   {
    "duration": 84,
    "start_time": "2022-12-20T17:27:15.860Z"
   },
   {
    "duration": 13,
    "start_time": "2022-12-20T17:28:04.678Z"
   },
   {
    "duration": 19,
    "start_time": "2022-12-20T17:28:13.510Z"
   },
   {
    "duration": 10,
    "start_time": "2022-12-20T17:28:40.073Z"
   },
   {
    "duration": 5,
    "start_time": "2022-12-20T17:36:48.216Z"
   },
   {
    "duration": 9,
    "start_time": "2022-12-20T17:37:02.043Z"
   },
   {
    "duration": 9,
    "start_time": "2022-12-20T17:37:23.695Z"
   },
   {
    "duration": 5,
    "start_time": "2022-12-20T17:39:26.133Z"
   },
   {
    "duration": 6,
    "start_time": "2022-12-20T17:40:42.036Z"
   },
   {
    "duration": 6,
    "start_time": "2022-12-20T17:40:47.457Z"
   },
   {
    "duration": 10,
    "start_time": "2022-12-20T17:41:48.975Z"
   },
   {
    "duration": 12,
    "start_time": "2022-12-20T17:43:08.943Z"
   },
   {
    "duration": 13,
    "start_time": "2022-12-20T17:43:18.460Z"
   },
   {
    "duration": 13,
    "start_time": "2022-12-20T17:47:33.258Z"
   },
   {
    "duration": 11,
    "start_time": "2022-12-20T17:47:45.724Z"
   },
   {
    "duration": 16,
    "start_time": "2022-12-20T17:48:45.995Z"
   },
   {
    "duration": 12,
    "start_time": "2022-12-20T17:50:56.925Z"
   },
   {
    "duration": 8,
    "start_time": "2022-12-20T17:51:07.859Z"
   },
   {
    "duration": 5,
    "start_time": "2022-12-20T18:10:21.007Z"
   },
   {
    "duration": 337,
    "start_time": "2022-12-20T18:33:31.369Z"
   },
   {
    "duration": 320,
    "start_time": "2022-12-20T18:33:56.520Z"
   },
   {
    "duration": 124,
    "start_time": "2022-12-20T18:34:18.153Z"
   },
   {
    "duration": 120,
    "start_time": "2022-12-20T18:34:24.972Z"
   },
   {
    "duration": 66,
    "start_time": "2022-12-20T18:34:37.892Z"
   },
   {
    "duration": 426,
    "start_time": "2022-12-20T18:34:42.772Z"
   },
   {
    "duration": 375,
    "start_time": "2022-12-20T18:35:20.652Z"
   },
   {
    "duration": 679,
    "start_time": "2022-12-20T18:54:56.590Z"
   },
   {
    "duration": 50,
    "start_time": "2022-12-20T18:54:58.858Z"
   },
   {
    "duration": 23,
    "start_time": "2022-12-20T18:54:59.302Z"
   },
   {
    "duration": 14,
    "start_time": "2022-12-20T18:55:00.140Z"
   },
   {
    "duration": 626,
    "start_time": "2022-12-20T18:55:00.906Z"
   },
   {
    "duration": 189,
    "start_time": "2022-12-20T18:55:01.635Z"
   },
   {
    "duration": 224,
    "start_time": "2022-12-20T18:55:02.075Z"
   },
   {
    "duration": 173,
    "start_time": "2022-12-20T18:55:02.452Z"
   },
   {
    "duration": 173,
    "start_time": "2022-12-20T18:55:02.840Z"
   },
   {
    "duration": 3,
    "start_time": "2022-12-20T18:55:04.639Z"
   },
   {
    "duration": 4,
    "start_time": "2022-12-20T18:55:04.975Z"
   },
   {
    "duration": 5,
    "start_time": "2022-12-20T18:55:06.589Z"
   },
   {
    "duration": 5,
    "start_time": "2022-12-20T18:55:07.539Z"
   },
   {
    "duration": 5,
    "start_time": "2022-12-20T18:55:08.372Z"
   },
   {
    "duration": 8,
    "start_time": "2022-12-20T18:55:09.686Z"
   },
   {
    "duration": 5,
    "start_time": "2022-12-20T18:55:11.906Z"
   },
   {
    "duration": 11,
    "start_time": "2022-12-20T18:55:17.823Z"
   },
   {
    "duration": 50,
    "start_time": "2022-12-20T18:55:18.407Z"
   },
   {
    "duration": 14,
    "start_time": "2022-12-20T18:55:20.723Z"
   },
   {
    "duration": 8,
    "start_time": "2022-12-20T18:55:22.288Z"
   },
   {
    "duration": 5,
    "start_time": "2022-12-20T18:55:25.507Z"
   },
   {
    "duration": 71,
    "start_time": "2022-12-20T18:55:28.369Z"
   },
   {
    "duration": 16,
    "start_time": "2022-12-20T18:55:40.085Z"
   },
   {
    "duration": 6,
    "start_time": "2022-12-20T18:55:46.123Z"
   },
   {
    "duration": 5,
    "start_time": "2022-12-20T18:57:02.055Z"
   },
   {
    "duration": 14,
    "start_time": "2022-12-20T18:57:02.956Z"
   },
   {
    "duration": 6,
    "start_time": "2022-12-20T18:57:04.337Z"
   },
   {
    "duration": 15,
    "start_time": "2022-12-20T18:57:09.324Z"
   },
   {
    "duration": 9,
    "start_time": "2022-12-20T18:57:10.020Z"
   },
   {
    "duration": 14,
    "start_time": "2022-12-20T18:57:16.284Z"
   },
   {
    "duration": 14,
    "start_time": "2022-12-20T19:00:51.504Z"
   },
   {
    "duration": 17,
    "start_time": "2022-12-20T19:02:06.855Z"
   },
   {
    "duration": 18,
    "start_time": "2022-12-20T19:02:07.924Z"
   },
   {
    "duration": 15,
    "start_time": "2022-12-20T19:02:08.322Z"
   },
   {
    "duration": 10,
    "start_time": "2022-12-20T19:02:08.805Z"
   },
   {
    "duration": 6,
    "start_time": "2022-12-20T19:02:09.871Z"
   },
   {
    "duration": 8,
    "start_time": "2022-12-20T19:02:10.274Z"
   },
   {
    "duration": 8,
    "start_time": "2022-12-20T19:02:11.576Z"
   },
   {
    "duration": 7,
    "start_time": "2022-12-20T19:02:12.589Z"
   },
   {
    "duration": 14,
    "start_time": "2022-12-20T19:02:13.056Z"
   },
   {
    "duration": 5,
    "start_time": "2022-12-20T19:02:53.768Z"
   },
   {
    "duration": 16,
    "start_time": "2022-12-20T19:03:26.207Z"
   },
   {
    "duration": 9,
    "start_time": "2022-12-20T19:04:40.718Z"
   },
   {
    "duration": 388,
    "start_time": "2022-12-20T19:05:44.905Z"
   },
   {
    "duration": 12,
    "start_time": "2022-12-20T19:16:35.071Z"
   },
   {
    "duration": 7,
    "start_time": "2022-12-20T19:30:50.969Z"
   },
   {
    "duration": 7,
    "start_time": "2022-12-20T19:31:00.736Z"
   },
   {
    "duration": 17,
    "start_time": "2022-12-20T19:31:33.602Z"
   },
   {
    "duration": 7,
    "start_time": "2022-12-20T19:31:42.168Z"
   },
   {
    "duration": 8,
    "start_time": "2022-12-20T19:31:55.683Z"
   },
   {
    "duration": 5,
    "start_time": "2022-12-20T19:31:56.335Z"
   },
   {
    "duration": 16,
    "start_time": "2022-12-20T19:34:59.456Z"
   },
   {
    "duration": 7,
    "start_time": "2022-12-20T19:35:17.220Z"
   },
   {
    "duration": 8,
    "start_time": "2022-12-20T19:36:47.601Z"
   },
   {
    "duration": 42,
    "start_time": "2022-12-20T19:37:40.738Z"
   },
   {
    "duration": 567,
    "start_time": "2022-12-20T19:38:09.339Z"
   },
   {
    "duration": 669,
    "start_time": "2022-12-20T19:38:32.742Z"
   },
   {
    "duration": 617,
    "start_time": "2022-12-20T19:39:24.180Z"
   },
   {
    "duration": 554,
    "start_time": "2022-12-20T19:40:17.036Z"
   },
   {
    "duration": 682,
    "start_time": "2022-12-20T19:40:56.700Z"
   },
   {
    "duration": 551,
    "start_time": "2022-12-20T19:43:22.917Z"
   },
   {
    "duration": 681,
    "start_time": "2022-12-20T19:43:31.000Z"
   },
   {
    "duration": 592,
    "start_time": "2022-12-20T19:43:38.118Z"
   },
   {
    "duration": 9,
    "start_time": "2022-12-20T19:44:42.592Z"
   },
   {
    "duration": 9,
    "start_time": "2022-12-20T19:44:49.997Z"
   },
   {
    "duration": 567,
    "start_time": "2022-12-20T19:44:57.884Z"
   },
   {
    "duration": 673,
    "start_time": "2022-12-20T19:45:09.885Z"
   },
   {
    "duration": 588,
    "start_time": "2022-12-20T19:45:16.666Z"
   },
   {
    "duration": 573,
    "start_time": "2022-12-20T19:45:30.516Z"
   },
   {
    "duration": 697,
    "start_time": "2022-12-20T19:45:46.148Z"
   },
   {
    "duration": 567,
    "start_time": "2022-12-20T19:46:38.814Z"
   },
   {
    "duration": 713,
    "start_time": "2022-12-20T19:50:42.400Z"
   },
   {
    "duration": 846,
    "start_time": "2022-12-20T19:52:53.094Z"
   },
   {
    "duration": 35,
    "start_time": "2022-12-20T19:53:18.744Z"
   },
   {
    "duration": 632,
    "start_time": "2022-12-20T19:53:22.394Z"
   },
   {
    "duration": 32,
    "start_time": "2022-12-20T19:55:03.668Z"
   },
   {
    "duration": 1930,
    "start_time": "2022-12-20T19:55:06.816Z"
   },
   {
    "duration": 702,
    "start_time": "2022-12-20T19:56:56.352Z"
   },
   {
    "duration": 4,
    "start_time": "2022-12-20T19:57:29.150Z"
   },
   {
    "duration": 1369,
    "start_time": "2022-12-20T19:57:37.547Z"
   },
   {
    "duration": 36,
    "start_time": "2022-12-20T19:58:30.738Z"
   },
   {
    "duration": 1799,
    "start_time": "2022-12-20T19:59:09.414Z"
   },
   {
    "duration": 1472,
    "start_time": "2022-12-20T19:59:29.233Z"
   },
   {
    "duration": 1415,
    "start_time": "2022-12-20T19:59:44.761Z"
   },
   {
    "duration": 660,
    "start_time": "2022-12-20T20:01:46.682Z"
   },
   {
    "duration": 4463,
    "start_time": "2022-12-20T20:02:46.941Z"
   },
   {
    "duration": 4081,
    "start_time": "2022-12-20T20:03:10.038Z"
   },
   {
    "duration": 28,
    "start_time": "2022-12-20T20:04:09.249Z"
   },
   {
    "duration": 3733,
    "start_time": "2022-12-20T20:04:32.210Z"
   },
   {
    "duration": 739,
    "start_time": "2022-12-20T20:08:19.652Z"
   },
   {
    "duration": 20,
    "start_time": "2022-12-20T20:12:31.295Z"
   },
   {
    "duration": 1078,
    "start_time": "2022-12-20T20:13:05.536Z"
   },
   {
    "duration": 160,
    "start_time": "2022-12-20T20:13:59.480Z"
   },
   {
    "duration": 872,
    "start_time": "2022-12-20T20:14:22.311Z"
   },
   {
    "duration": 843,
    "start_time": "2022-12-20T20:15:13.736Z"
   },
   {
    "duration": 27,
    "start_time": "2022-12-20T20:18:17.679Z"
   },
   {
    "duration": 1222,
    "start_time": "2022-12-20T20:19:46.248Z"
   },
   {
    "duration": 12,
    "start_time": "2022-12-20T20:20:02.742Z"
   },
   {
    "duration": 33,
    "start_time": "2022-12-20T20:22:06.609Z"
   },
   {
    "duration": 471,
    "start_time": "2022-12-20T20:22:11.144Z"
   },
   {
    "duration": 38,
    "start_time": "2022-12-20T20:22:30.444Z"
   },
   {
    "duration": 543,
    "start_time": "2022-12-20T20:22:33.741Z"
   },
   {
    "duration": 588,
    "start_time": "2022-12-20T20:25:34.945Z"
   },
   {
    "duration": 488,
    "start_time": "2022-12-20T20:25:54.561Z"
   },
   {
    "duration": 7,
    "start_time": "2022-12-20T20:33:58.279Z"
   },
   {
    "duration": 2362,
    "start_time": "2022-12-20T20:35:14.912Z"
   },
   {
    "duration": 15,
    "start_time": "2022-12-20T20:35:24.360Z"
   },
   {
    "duration": 13,
    "start_time": "2022-12-20T20:35:30.559Z"
   },
   {
    "duration": 8,
    "start_time": "2022-12-20T20:36:08.407Z"
   },
   {
    "duration": 26,
    "start_time": "2022-12-20T20:36:25.539Z"
   },
   {
    "duration": 8,
    "start_time": "2022-12-20T20:36:28.645Z"
   },
   {
    "duration": 603,
    "start_time": "2022-12-20T20:36:37.492Z"
   },
   {
    "duration": 7,
    "start_time": "2022-12-20T20:37:52.294Z"
   },
   {
    "duration": 11,
    "start_time": "2022-12-20T20:38:38.027Z"
   },
   {
    "duration": 7,
    "start_time": "2022-12-20T20:38:49.808Z"
   },
   {
    "duration": 9,
    "start_time": "2022-12-20T20:40:59.074Z"
   },
   {
    "duration": 13,
    "start_time": "2022-12-20T20:41:34.149Z"
   },
   {
    "duration": 72,
    "start_time": "2022-12-20T20:41:42.643Z"
   },
   {
    "duration": 81,
    "start_time": "2022-12-20T20:41:48.856Z"
   },
   {
    "duration": 15,
    "start_time": "2022-12-20T20:42:05.822Z"
   },
   {
    "duration": 8,
    "start_time": "2022-12-20T20:46:45.776Z"
   },
   {
    "duration": 14,
    "start_time": "2022-12-20T20:46:59.842Z"
   },
   {
    "duration": 19,
    "start_time": "2022-12-20T20:48:54.362Z"
   },
   {
    "duration": 20,
    "start_time": "2022-12-20T20:49:00.727Z"
   },
   {
    "duration": 33,
    "start_time": "2022-12-20T20:49:44.257Z"
   },
   {
    "duration": 16,
    "start_time": "2022-12-20T20:53:32.631Z"
   },
   {
    "duration": 1367,
    "start_time": "2022-12-20T20:53:40.811Z"
   },
   {
    "duration": 48,
    "start_time": "2022-12-20T20:53:53.742Z"
   },
   {
    "duration": 11,
    "start_time": "2022-12-20T20:53:57.634Z"
   },
   {
    "duration": 18858,
    "start_time": "2022-12-20T20:54:11.055Z"
   },
   {
    "duration": 628,
    "start_time": "2022-12-20T20:54:46.576Z"
   },
   {
    "duration": 56,
    "start_time": "2022-12-20T20:54:47.207Z"
   },
   {
    "duration": 23,
    "start_time": "2022-12-20T20:54:47.265Z"
   },
   {
    "duration": 23,
    "start_time": "2022-12-20T20:54:47.291Z"
   },
   {
    "duration": 638,
    "start_time": "2022-12-20T20:54:47.315Z"
   },
   {
    "duration": 194,
    "start_time": "2022-12-20T20:54:47.954Z"
   },
   {
    "duration": 244,
    "start_time": "2022-12-20T20:54:48.149Z"
   },
   {
    "duration": 214,
    "start_time": "2022-12-20T20:54:48.395Z"
   },
   {
    "duration": 190,
    "start_time": "2022-12-20T20:54:48.611Z"
   },
   {
    "duration": 3,
    "start_time": "2022-12-20T20:54:48.803Z"
   },
   {
    "duration": 49,
    "start_time": "2022-12-20T20:54:48.807Z"
   },
   {
    "duration": 21,
    "start_time": "2022-12-20T20:54:48.858Z"
   },
   {
    "duration": 17,
    "start_time": "2022-12-20T20:54:48.881Z"
   },
   {
    "duration": 17,
    "start_time": "2022-12-20T20:54:48.899Z"
   },
   {
    "duration": 30,
    "start_time": "2022-12-20T20:54:48.918Z"
   },
   {
    "duration": 19,
    "start_time": "2022-12-20T20:54:48.949Z"
   },
   {
    "duration": 17,
    "start_time": "2022-12-20T20:54:48.969Z"
   },
   {
    "duration": 77,
    "start_time": "2022-12-20T20:54:48.987Z"
   },
   {
    "duration": 15,
    "start_time": "2022-12-20T20:54:49.066Z"
   },
   {
    "duration": 14,
    "start_time": "2022-12-20T20:54:49.083Z"
   },
   {
    "duration": 11,
    "start_time": "2022-12-20T20:54:49.099Z"
   },
   {
    "duration": 43,
    "start_time": "2022-12-20T20:54:49.122Z"
   },
   {
    "duration": 6,
    "start_time": "2022-12-20T20:54:49.167Z"
   },
   {
    "duration": 33,
    "start_time": "2022-12-20T20:54:49.175Z"
   },
   {
    "duration": 42,
    "start_time": "2022-12-20T20:54:49.209Z"
   },
   {
    "duration": 11,
    "start_time": "2022-12-20T20:54:49.253Z"
   },
   {
    "duration": 29,
    "start_time": "2022-12-20T20:54:49.265Z"
   },
   {
    "duration": 9,
    "start_time": "2022-12-20T20:54:49.297Z"
   },
   {
    "duration": 41,
    "start_time": "2022-12-20T20:54:49.308Z"
   },
   {
    "duration": 29,
    "start_time": "2022-12-20T20:54:49.351Z"
   },
   {
    "duration": 40,
    "start_time": "2022-12-20T20:54:49.382Z"
   },
   {
    "duration": 40,
    "start_time": "2022-12-20T20:54:49.426Z"
   },
   {
    "duration": 23,
    "start_time": "2022-12-20T20:54:49.468Z"
   },
   {
    "duration": 6,
    "start_time": "2022-12-20T20:54:49.493Z"
   },
   {
    "duration": 43,
    "start_time": "2022-12-20T20:54:49.501Z"
   },
   {
    "duration": 25,
    "start_time": "2022-12-20T20:54:49.546Z"
   },
   {
    "duration": 41,
    "start_time": "2022-12-20T20:54:49.573Z"
   },
   {
    "duration": 19,
    "start_time": "2022-12-20T20:54:49.616Z"
   },
   {
    "duration": 25,
    "start_time": "2022-12-20T20:54:49.642Z"
   },
   {
    "duration": 17,
    "start_time": "2022-12-20T20:54:49.669Z"
   },
   {
    "duration": 43,
    "start_time": "2022-12-20T20:54:49.688Z"
   },
   {
    "duration": 353,
    "start_time": "2022-12-20T20:54:49.740Z"
   },
   {
    "duration": 12,
    "start_time": "2022-12-20T20:54:50.095Z"
   },
   {
    "duration": 27,
    "start_time": "2022-12-20T20:54:50.109Z"
   },
   {
    "duration": 19,
    "start_time": "2022-12-20T20:54:50.139Z"
   },
   {
    "duration": 45,
    "start_time": "2022-12-20T20:54:50.160Z"
   },
   {
    "duration": 25,
    "start_time": "2022-12-20T20:54:50.206Z"
   },
   {
    "duration": 23134,
    "start_time": "2022-12-20T20:54:50.239Z"
   },
   {
    "duration": 928,
    "start_time": "2022-12-21T15:57:50.331Z"
   },
   {
    "duration": 105,
    "start_time": "2022-12-21T15:57:53.612Z"
   },
   {
    "duration": 25,
    "start_time": "2022-12-21T15:57:55.378Z"
   },
   {
    "duration": 17,
    "start_time": "2022-12-21T15:58:01.293Z"
   },
   {
    "duration": 819,
    "start_time": "2022-12-21T15:58:04.595Z"
   },
   {
    "duration": 196,
    "start_time": "2022-12-21T15:58:09.026Z"
   },
   {
    "duration": 289,
    "start_time": "2022-12-21T15:58:11.913Z"
   },
   {
    "duration": 210,
    "start_time": "2022-12-21T15:58:14.944Z"
   },
   {
    "duration": 185,
    "start_time": "2022-12-21T15:58:18.125Z"
   },
   {
    "duration": 3,
    "start_time": "2022-12-21T15:58:22.317Z"
   },
   {
    "duration": 5,
    "start_time": "2022-12-21T15:58:24.111Z"
   },
   {
    "duration": 6,
    "start_time": "2022-12-21T15:58:33.713Z"
   },
   {
    "duration": 8,
    "start_time": "2022-12-21T15:58:36.975Z"
   },
   {
    "duration": 5,
    "start_time": "2022-12-21T15:58:39.788Z"
   },
   {
    "duration": 8,
    "start_time": "2022-12-21T15:59:07.509Z"
   },
   {
    "duration": 4,
    "start_time": "2022-12-21T16:14:29.844Z"
   },
   {
    "duration": 8,
    "start_time": "2022-12-21T16:14:34.688Z"
   },
   {
    "duration": 59,
    "start_time": "2022-12-21T16:14:36.691Z"
   },
   {
    "duration": 13,
    "start_time": "2022-12-21T16:14:42.293Z"
   },
   {
    "duration": 7,
    "start_time": "2022-12-21T16:14:47.722Z"
   },
   {
    "duration": 7,
    "start_time": "2022-12-21T16:15:55.294Z"
   },
   {
    "duration": 17,
    "start_time": "2022-12-21T16:15:56.794Z"
   },
   {
    "duration": 5,
    "start_time": "2022-12-21T16:15:57.890Z"
   },
   {
    "duration": 5,
    "start_time": "2022-12-21T16:15:58.861Z"
   },
   {
    "duration": 15,
    "start_time": "2022-12-21T16:15:59.490Z"
   },
   {
    "duration": 5,
    "start_time": "2022-12-21T16:16:00.423Z"
   },
   {
    "duration": 17,
    "start_time": "2022-12-21T16:16:20.208Z"
   },
   {
    "duration": 8,
    "start_time": "2022-12-21T16:16:21.310Z"
   },
   {
    "duration": 5,
    "start_time": "2022-12-21T16:16:54.360Z"
   },
   {
    "duration": 5,
    "start_time": "2022-12-21T16:16:57.256Z"
   },
   {
    "duration": 14,
    "start_time": "2022-12-21T16:17:03.294Z"
   },
   {
    "duration": 17,
    "start_time": "2022-12-21T16:19:09.012Z"
   },
   {
    "duration": 13,
    "start_time": "2022-12-21T16:19:11.721Z"
   },
   {
    "duration": 13,
    "start_time": "2022-12-21T16:19:13.506Z"
   },
   {
    "duration": 10,
    "start_time": "2022-12-21T16:19:14.095Z"
   },
   {
    "duration": 5,
    "start_time": "2022-12-21T16:19:42.887Z"
   },
   {
    "duration": 8,
    "start_time": "2022-12-21T16:19:43.653Z"
   },
   {
    "duration": 5,
    "start_time": "2022-12-21T16:19:47.692Z"
   },
   {
    "duration": 10,
    "start_time": "2022-12-21T16:19:48.294Z"
   },
   {
    "duration": 7,
    "start_time": "2022-12-21T16:19:53.508Z"
   },
   {
    "duration": 15,
    "start_time": "2022-12-21T16:19:54.202Z"
   },
   {
    "duration": 50,
    "start_time": "2022-12-21T16:21:09.994Z"
   },
   {
    "duration": 10,
    "start_time": "2022-12-21T16:21:24.142Z"
   },
   {
    "duration": 17,
    "start_time": "2022-12-21T16:22:38.306Z"
   },
   {
    "duration": 9,
    "start_time": "2022-12-21T16:23:06.709Z"
   },
   {
    "duration": 12,
    "start_time": "2022-12-21T16:23:09.208Z"
   },
   {
    "duration": 3,
    "start_time": "2022-12-21T16:23:23.357Z"
   },
   {
    "duration": 9,
    "start_time": "2022-12-21T16:23:27.908Z"
   },
   {
    "duration": 13,
    "start_time": "2022-12-21T16:23:28.587Z"
   },
   {
    "duration": 5,
    "start_time": "2022-12-21T16:23:32.153Z"
   },
   {
    "duration": 586,
    "start_time": "2022-12-21T16:24:59.390Z"
   },
   {
    "duration": 53,
    "start_time": "2022-12-21T16:25:02.158Z"
   },
   {
    "duration": 24,
    "start_time": "2022-12-21T16:25:03.591Z"
   },
   {
    "duration": 16,
    "start_time": "2022-12-21T16:25:06.437Z"
   },
   {
    "duration": 645,
    "start_time": "2022-12-21T16:25:07.454Z"
   },
   {
    "duration": 183,
    "start_time": "2022-12-21T16:25:08.257Z"
   },
   {
    "duration": 243,
    "start_time": "2022-12-21T16:25:08.552Z"
   },
   {
    "duration": 169,
    "start_time": "2022-12-21T16:25:08.983Z"
   },
   {
    "duration": 165,
    "start_time": "2022-12-21T16:25:09.306Z"
   },
   {
    "duration": 3,
    "start_time": "2022-12-21T16:25:10.885Z"
   },
   {
    "duration": 4,
    "start_time": "2022-12-21T16:25:11.138Z"
   },
   {
    "duration": 5,
    "start_time": "2022-12-21T16:25:12.687Z"
   },
   {
    "duration": 5,
    "start_time": "2022-12-21T16:25:13.456Z"
   },
   {
    "duration": 6,
    "start_time": "2022-12-21T16:25:14.196Z"
   },
   {
    "duration": 8,
    "start_time": "2022-12-21T16:25:15.092Z"
   },
   {
    "duration": 5,
    "start_time": "2022-12-21T16:25:15.808Z"
   },
   {
    "duration": 9,
    "start_time": "2022-12-21T16:25:17.223Z"
   },
   {
    "duration": 48,
    "start_time": "2022-12-21T16:25:17.607Z"
   },
   {
    "duration": 14,
    "start_time": "2022-12-21T16:25:18.484Z"
   },
   {
    "duration": 7,
    "start_time": "2022-12-21T16:25:20.055Z"
   },
   {
    "duration": 5,
    "start_time": "2022-12-21T16:25:21.307Z"
   },
   {
    "duration": 14,
    "start_time": "2022-12-21T16:25:21.824Z"
   },
   {
    "duration": 4,
    "start_time": "2022-12-21T16:25:22.346Z"
   },
   {
    "duration": 5,
    "start_time": "2022-12-21T16:25:23.324Z"
   },
   {
    "duration": 19,
    "start_time": "2022-12-21T16:25:23.991Z"
   },
   {
    "duration": 5,
    "start_time": "2022-12-21T16:25:24.540Z"
   },
   {
    "duration": 5,
    "start_time": "2022-12-21T16:25:27.191Z"
   },
   {
    "duration": 15,
    "start_time": "2022-12-21T16:25:27.824Z"
   },
   {
    "duration": 5,
    "start_time": "2022-12-21T16:25:28.587Z"
   },
   {
    "duration": 13,
    "start_time": "2022-12-21T16:25:30.139Z"
   },
   {
    "duration": 14,
    "start_time": "2022-12-21T16:25:33.424Z"
   },
   {
    "duration": 14,
    "start_time": "2022-12-21T16:25:34.323Z"
   },
   {
    "duration": 15,
    "start_time": "2022-12-21T16:25:34.812Z"
   },
   {
    "duration": 11,
    "start_time": "2022-12-21T16:25:35.438Z"
   },
   {
    "duration": 5,
    "start_time": "2022-12-21T16:25:36.495Z"
   },
   {
    "duration": 8,
    "start_time": "2022-12-21T16:25:36.901Z"
   },
   {
    "duration": 4,
    "start_time": "2022-12-21T16:25:38.058Z"
   },
   {
    "duration": 11,
    "start_time": "2022-12-21T16:25:38.507Z"
   },
   {
    "duration": 9,
    "start_time": "2022-12-21T16:25:39.502Z"
   },
   {
    "duration": 14,
    "start_time": "2022-12-21T16:25:40.324Z"
   },
   {
    "duration": 5,
    "start_time": "2022-12-21T16:25:40.806Z"
   },
   {
    "duration": 21,
    "start_time": "2022-12-21T16:26:13.907Z"
   },
   {
    "duration": 5,
    "start_time": "2022-12-21T16:26:50.184Z"
   },
   {
    "duration": 13,
    "start_time": "2022-12-21T16:26:52.688Z"
   },
   {
    "duration": 337,
    "start_time": "2022-12-21T16:27:55.955Z"
   },
   {
    "duration": 13,
    "start_time": "2022-12-21T16:28:57.688Z"
   },
   {
    "duration": 90,
    "start_time": "2022-12-21T16:29:51.485Z"
   },
   {
    "duration": 10,
    "start_time": "2022-12-21T16:29:59.440Z"
   },
   {
    "duration": 3,
    "start_time": "2022-12-21T16:30:06.996Z"
   },
   {
    "duration": 22,
    "start_time": "2022-12-21T16:30:55.904Z"
   },
   {
    "duration": 48,
    "start_time": "2022-12-21T16:31:35.105Z"
   },
   {
    "duration": 9,
    "start_time": "2022-12-21T16:32:40.603Z"
   },
   {
    "duration": 43,
    "start_time": "2022-12-21T16:32:59.857Z"
   },
   {
    "duration": 21,
    "start_time": "2022-12-21T16:33:06.936Z"
   },
   {
    "duration": 12,
    "start_time": "2022-12-21T16:34:10.102Z"
   },
   {
    "duration": 607,
    "start_time": "2022-12-21T16:34:36.624Z"
   },
   {
    "duration": 603,
    "start_time": "2022-12-21T16:36:44.704Z"
   },
   {
    "duration": 238,
    "start_time": "2022-12-21T16:37:08.254Z"
   },
   {
    "duration": 381,
    "start_time": "2022-12-21T16:37:15.822Z"
   },
   {
    "duration": 482,
    "start_time": "2022-12-21T16:37:23.455Z"
   },
   {
    "duration": 494,
    "start_time": "2022-12-21T16:39:27.193Z"
   },
   {
    "duration": 841,
    "start_time": "2022-12-23T10:06:21.475Z"
   },
   {
    "duration": 101,
    "start_time": "2022-12-23T10:06:24.096Z"
   },
   {
    "duration": 25,
    "start_time": "2022-12-23T10:06:24.676Z"
   },
   {
    "duration": 15,
    "start_time": "2022-12-23T10:06:28.005Z"
   },
   {
    "duration": 609,
    "start_time": "2022-12-23T10:06:28.911Z"
   },
   {
    "duration": 182,
    "start_time": "2022-12-23T10:06:32.559Z"
   },
   {
    "duration": 235,
    "start_time": "2022-12-23T10:06:32.991Z"
   },
   {
    "duration": 184,
    "start_time": "2022-12-23T10:06:33.475Z"
   },
   {
    "duration": 191,
    "start_time": "2022-12-23T10:06:34.008Z"
   },
   {
    "duration": 196,
    "start_time": "2022-12-23T10:06:55.542Z"
   },
   {
    "duration": 198,
    "start_time": "2022-12-23T10:06:59.893Z"
   },
   {
    "duration": 191,
    "start_time": "2022-12-23T10:07:02.994Z"
   },
   {
    "duration": 223,
    "start_time": "2022-12-23T10:07:06.099Z"
   },
   {
    "duration": 4,
    "start_time": "2022-12-23T10:07:12.159Z"
   },
   {
    "duration": 4,
    "start_time": "2022-12-23T10:07:12.794Z"
   },
   {
    "duration": 5,
    "start_time": "2022-12-23T10:07:16.993Z"
   },
   {
    "duration": 5,
    "start_time": "2022-12-23T10:07:19.644Z"
   },
   {
    "duration": 5,
    "start_time": "2022-12-23T10:07:24.112Z"
   },
   {
    "duration": 8,
    "start_time": "2022-12-23T10:07:25.509Z"
   },
   {
    "duration": 6,
    "start_time": "2022-12-23T10:07:26.677Z"
   },
   {
    "duration": 9,
    "start_time": "2022-12-23T10:07:30.244Z"
   },
   {
    "duration": 57,
    "start_time": "2022-12-23T10:07:30.944Z"
   },
   {
    "duration": 16,
    "start_time": "2022-12-23T10:07:32.141Z"
   },
   {
    "duration": 8,
    "start_time": "2022-12-23T10:07:33.213Z"
   },
   {
    "duration": 5,
    "start_time": "2022-12-23T10:07:34.308Z"
   },
   {
    "duration": 17,
    "start_time": "2022-12-23T10:07:34.841Z"
   },
   {
    "duration": 6,
    "start_time": "2022-12-23T10:07:35.434Z"
   },
   {
    "duration": 6,
    "start_time": "2022-12-23T10:07:36.057Z"
   },
   {
    "duration": 16,
    "start_time": "2022-12-23T10:07:36.711Z"
   },
   {
    "duration": 5,
    "start_time": "2022-12-23T10:07:37.311Z"
   },
   {
    "duration": 6,
    "start_time": "2022-12-23T10:07:38.894Z"
   },
   {
    "duration": 17,
    "start_time": "2022-12-23T10:07:39.378Z"
   },
   {
    "duration": 6,
    "start_time": "2022-12-23T10:07:39.927Z"
   },
   {
    "duration": 15,
    "start_time": "2022-12-23T10:07:41.010Z"
   },
   {
    "duration": 15,
    "start_time": "2022-12-23T10:07:43.077Z"
   },
   {
    "duration": 16,
    "start_time": "2022-12-23T10:07:43.944Z"
   },
   {
    "duration": 12,
    "start_time": "2022-12-23T10:07:44.460Z"
   },
   {
    "duration": 11,
    "start_time": "2022-12-23T10:07:44.910Z"
   },
   {
    "duration": 6,
    "start_time": "2022-12-23T10:07:46.077Z"
   },
   {
    "duration": 7,
    "start_time": "2022-12-23T10:07:46.594Z"
   },
   {
    "duration": 4,
    "start_time": "2022-12-23T10:07:47.676Z"
   },
   {
    "duration": 10,
    "start_time": "2022-12-23T10:07:48.512Z"
   },
   {
    "duration": 25,
    "start_time": "2022-12-23T10:07:49.526Z"
   },
   {
    "duration": 6,
    "start_time": "2022-12-23T10:08:09.011Z"
   },
   {
    "duration": 21,
    "start_time": "2022-12-23T10:08:09.459Z"
   },
   {
    "duration": 361,
    "start_time": "2022-12-23T10:08:18.695Z"
   },
   {
    "duration": 12,
    "start_time": "2022-12-23T10:08:34.820Z"
   },
   {
    "duration": 3,
    "start_time": "2022-12-23T10:08:47.293Z"
   },
   {
    "duration": 13,
    "start_time": "2022-12-23T10:08:53.409Z"
   },
   {
    "duration": 25,
    "start_time": "2022-12-23T10:09:03.349Z"
   },
   {
    "duration": 8,
    "start_time": "2022-12-23T10:09:17.278Z"
   },
   {
    "duration": 553,
    "start_time": "2022-12-23T10:09:26.895Z"
   },
   {
    "duration": 45,
    "start_time": "2022-12-23T10:14:08.991Z"
   },
   {
    "duration": 360,
    "start_time": "2022-12-23T10:14:14.425Z"
   },
   {
    "duration": 9,
    "start_time": "2022-12-23T10:22:04.856Z"
   },
   {
    "duration": 590,
    "start_time": "2022-12-23T10:22:25.290Z"
   },
   {
    "duration": 47,
    "start_time": "2022-12-23T10:28:18.497Z"
   },
   {
    "duration": 30,
    "start_time": "2022-12-23T10:28:29.092Z"
   },
   {
    "duration": 26,
    "start_time": "2022-12-23T10:28:42.742Z"
   },
   {
    "duration": 26,
    "start_time": "2022-12-23T10:28:53.642Z"
   },
   {
    "duration": 31,
    "start_time": "2022-12-23T10:29:03.858Z"
   },
   {
    "duration": 26,
    "start_time": "2022-12-23T10:29:08.350Z"
   },
   {
    "duration": 7,
    "start_time": "2022-12-23T10:29:50.024Z"
   },
   {
    "duration": 25,
    "start_time": "2022-12-23T10:32:01.326Z"
   },
   {
    "duration": 11,
    "start_time": "2022-12-23T10:34:32.715Z"
   },
   {
    "duration": 836,
    "start_time": "2022-12-23T10:35:33.072Z"
   },
   {
    "duration": 758,
    "start_time": "2022-12-23T10:35:52.123Z"
   },
   {
    "duration": 950,
    "start_time": "2022-12-23T10:36:46.720Z"
   },
   {
    "duration": 58,
    "start_time": "2022-12-23T10:37:27.190Z"
   },
   {
    "duration": 1111,
    "start_time": "2022-12-23T10:37:35.652Z"
   },
   {
    "duration": 175,
    "start_time": "2022-12-23T10:41:15.373Z"
   },
   {
    "duration": 272,
    "start_time": "2022-12-23T10:41:57.572Z"
   },
   {
    "duration": 1231,
    "start_time": "2022-12-23T10:43:05.772Z"
   },
   {
    "duration": 857,
    "start_time": "2022-12-23T10:43:48.930Z"
   },
   {
    "duration": 8,
    "start_time": "2022-12-23T11:07:11.472Z"
   },
   {
    "duration": 9,
    "start_time": "2022-12-23T11:07:22.545Z"
   },
   {
    "duration": 727,
    "start_time": "2022-12-23T11:07:27.547Z"
   },
   {
    "duration": 6,
    "start_time": "2022-12-23T11:07:35.313Z"
   },
   {
    "duration": 7,
    "start_time": "2022-12-23T11:08:04.265Z"
   },
   {
    "duration": 10,
    "start_time": "2022-12-23T11:09:46.184Z"
   },
   {
    "duration": 144,
    "start_time": "2022-12-23T11:10:59.261Z"
   },
   {
    "duration": 315,
    "start_time": "2022-12-23T11:12:02.283Z"
   },
   {
    "duration": 837,
    "start_time": "2022-12-23T11:13:06.413Z"
   },
   {
    "duration": 279,
    "start_time": "2022-12-23T11:13:18.217Z"
   },
   {
    "duration": 945,
    "start_time": "2022-12-23T11:13:51.795Z"
   },
   {
    "duration": 160,
    "start_time": "2022-12-23T11:15:54.264Z"
   },
   {
    "duration": 154,
    "start_time": "2022-12-23T11:16:53.730Z"
   },
   {
    "duration": 306,
    "start_time": "2022-12-23T11:17:13.346Z"
   },
   {
    "duration": 7,
    "start_time": "2022-12-23T11:21:54.180Z"
   },
   {
    "duration": 7,
    "start_time": "2022-12-23T11:22:12.797Z"
   },
   {
    "duration": 8,
    "start_time": "2022-12-23T11:22:21.629Z"
   },
   {
    "duration": 7,
    "start_time": "2022-12-23T11:22:30.396Z"
   },
   {
    "duration": 33,
    "start_time": "2022-12-23T11:22:41.823Z"
   },
   {
    "duration": 344,
    "start_time": "2022-12-23T11:22:55.730Z"
   },
   {
    "duration": 8,
    "start_time": "2022-12-23T11:23:21.261Z"
   },
   {
    "duration": 24,
    "start_time": "2022-12-23T11:23:22.944Z"
   },
   {
    "duration": 303,
    "start_time": "2022-12-23T11:23:29.110Z"
   },
   {
    "duration": 17,
    "start_time": "2022-12-23T11:30:29.326Z"
   },
   {
    "duration": 116,
    "start_time": "2022-12-23T11:30:36.561Z"
   },
   {
    "duration": 93,
    "start_time": "2022-12-23T11:30:48.762Z"
   },
   {
    "duration": 604,
    "start_time": "2022-12-23T11:32:17.793Z"
   },
   {
    "duration": 39,
    "start_time": "2022-12-23T11:32:33.210Z"
   },
   {
    "duration": 79,
    "start_time": "2022-12-23T11:32:39.080Z"
   },
   {
    "duration": 47,
    "start_time": "2022-12-23T11:33:28.013Z"
   },
   {
    "duration": 246,
    "start_time": "2022-12-23T11:33:33.794Z"
   },
   {
    "duration": 257,
    "start_time": "2022-12-23T11:36:02.664Z"
   },
   {
    "duration": 259,
    "start_time": "2022-12-23T11:36:47.409Z"
   },
   {
    "duration": 338,
    "start_time": "2022-12-23T11:36:55.793Z"
   },
   {
    "duration": 411,
    "start_time": "2022-12-23T11:37:29.059Z"
   },
   {
    "duration": 309,
    "start_time": "2022-12-23T11:37:45.494Z"
   },
   {
    "duration": 304,
    "start_time": "2022-12-23T11:38:08.146Z"
   },
   {
    "duration": 10,
    "start_time": "2022-12-23T11:48:04.826Z"
   },
   {
    "duration": 273,
    "start_time": "2022-12-23T11:48:20.376Z"
   },
   {
    "duration": 387,
    "start_time": "2022-12-23T11:48:40.263Z"
   },
   {
    "duration": 93,
    "start_time": "2022-12-23T11:49:39.778Z"
   },
   {
    "duration": 40,
    "start_time": "2022-12-23T11:50:31.807Z"
   },
   {
    "duration": 41,
    "start_time": "2022-12-23T11:50:37.339Z"
   },
   {
    "duration": 44,
    "start_time": "2022-12-23T11:51:05.860Z"
   },
   {
    "duration": 13,
    "start_time": "2022-12-23T11:53:45.026Z"
   },
   {
    "duration": 10,
    "start_time": "2022-12-23T11:54:02.915Z"
   },
   {
    "duration": 354,
    "start_time": "2022-12-23T11:57:37.760Z"
   },
   {
    "duration": 42,
    "start_time": "2022-12-23T11:57:45.205Z"
   },
   {
    "duration": 287,
    "start_time": "2022-12-23T12:02:40.314Z"
   },
   {
    "duration": 345,
    "start_time": "2022-12-23T12:03:05.742Z"
   },
   {
    "duration": 7,
    "start_time": "2022-12-23T12:06:59.538Z"
   },
   {
    "duration": 29,
    "start_time": "2022-12-23T12:07:00.950Z"
   },
   {
    "duration": 323,
    "start_time": "2022-12-23T12:07:01.928Z"
   },
   {
    "duration": 330,
    "start_time": "2022-12-23T12:07:03.438Z"
   },
   {
    "duration": 484,
    "start_time": "2022-12-23T12:07:04.417Z"
   },
   {
    "duration": 42,
    "start_time": "2022-12-23T12:07:15.043Z"
   },
   {
    "duration": 8,
    "start_time": "2022-12-23T12:07:39.325Z"
   },
   {
    "duration": 25,
    "start_time": "2022-12-23T12:07:40.529Z"
   },
   {
    "duration": 269,
    "start_time": "2022-12-23T12:07:41.321Z"
   },
   {
    "duration": 291,
    "start_time": "2022-12-23T12:07:47.814Z"
   },
   {
    "duration": 311,
    "start_time": "2022-12-23T12:07:49.078Z"
   },
   {
    "duration": 42,
    "start_time": "2022-12-23T12:07:58.826Z"
   },
   {
    "duration": 9,
    "start_time": "2022-12-23T12:08:35.440Z"
   },
   {
    "duration": 24,
    "start_time": "2022-12-23T12:08:37.429Z"
   },
   {
    "duration": 293,
    "start_time": "2022-12-23T12:08:38.213Z"
   },
   {
    "duration": 345,
    "start_time": "2022-12-23T12:08:46.013Z"
   },
   {
    "duration": 307,
    "start_time": "2022-12-23T12:08:47.020Z"
   },
   {
    "duration": 45,
    "start_time": "2022-12-23T12:09:00.346Z"
   },
   {
    "duration": 355,
    "start_time": "2022-12-23T12:13:26.075Z"
   },
   {
    "duration": 12,
    "start_time": "2022-12-23T12:23:44.997Z"
   },
   {
    "duration": 163,
    "start_time": "2022-12-23T12:24:46.410Z"
   },
   {
    "duration": 182,
    "start_time": "2022-12-23T12:25:29.922Z"
   },
   {
    "duration": 9,
    "start_time": "2022-12-23T12:26:26.422Z"
   },
   {
    "duration": 5,
    "start_time": "2022-12-23T12:26:34.805Z"
   },
   {
    "duration": 5,
    "start_time": "2022-12-23T12:27:01.272Z"
   },
   {
    "duration": 12,
    "start_time": "2022-12-23T12:28:25.358Z"
   },
   {
    "duration": 8,
    "start_time": "2022-12-23T12:28:45.669Z"
   },
   {
    "duration": 48,
    "start_time": "2022-12-23T12:32:25.622Z"
   },
   {
    "duration": 53,
    "start_time": "2022-12-23T12:32:44.273Z"
   },
   {
    "duration": 1847,
    "start_time": "2022-12-23T12:32:49.289Z"
   },
   {
    "duration": 1577,
    "start_time": "2022-12-23T12:33:20.405Z"
   },
   {
    "duration": 17,
    "start_time": "2022-12-23T12:34:04.821Z"
   },
   {
    "duration": 1755,
    "start_time": "2022-12-23T12:34:59.722Z"
   },
   {
    "duration": 1693,
    "start_time": "2022-12-23T12:35:22.509Z"
   },
   {
    "duration": 1809,
    "start_time": "2022-12-23T12:37:03.951Z"
   },
   {
    "duration": 49,
    "start_time": "2022-12-23T12:43:00.253Z"
   },
   {
    "duration": 13,
    "start_time": "2022-12-23T12:56:03.414Z"
   },
   {
    "duration": 11,
    "start_time": "2022-12-23T12:56:14.971Z"
   },
   {
    "duration": 11,
    "start_time": "2022-12-23T12:57:30.584Z"
   },
   {
    "duration": 12,
    "start_time": "2022-12-23T12:58:17.308Z"
   },
   {
    "duration": 18,
    "start_time": "2022-12-23T12:59:31.853Z"
   },
   {
    "duration": 305,
    "start_time": "2022-12-23T12:59:49.969Z"
   },
   {
    "duration": 303,
    "start_time": "2022-12-23T13:00:10.784Z"
   },
   {
    "duration": 329,
    "start_time": "2022-12-23T13:00:19.605Z"
   },
   {
    "duration": 337,
    "start_time": "2022-12-23T13:00:32.051Z"
   },
   {
    "duration": 334,
    "start_time": "2022-12-23T13:01:36.441Z"
   },
   {
    "duration": 317,
    "start_time": "2022-12-23T13:01:50.686Z"
   },
   {
    "duration": 479,
    "start_time": "2022-12-23T13:02:05.032Z"
   },
   {
    "duration": 18,
    "start_time": "2022-12-23T13:17:28.203Z"
   },
   {
    "duration": 13,
    "start_time": "2022-12-23T13:17:39.456Z"
   },
   {
    "duration": 15,
    "start_time": "2022-12-23T13:18:07.953Z"
   },
   {
    "duration": 12,
    "start_time": "2022-12-23T13:18:13.833Z"
   },
   {
    "duration": 12,
    "start_time": "2022-12-23T13:20:13.997Z"
   },
   {
    "duration": 12,
    "start_time": "2022-12-23T13:20:50.451Z"
   },
   {
    "duration": 12,
    "start_time": "2022-12-23T13:21:09.250Z"
   },
   {
    "duration": 22,
    "start_time": "2022-12-23T13:21:23.890Z"
   },
   {
    "duration": 16,
    "start_time": "2022-12-23T13:31:57.669Z"
   },
   {
    "duration": 12,
    "start_time": "2022-12-23T13:32:11.604Z"
   },
   {
    "duration": 12,
    "start_time": "2022-12-23T13:32:46.938Z"
   },
   {
    "duration": 14,
    "start_time": "2022-12-23T13:33:05.171Z"
   },
   {
    "duration": 13,
    "start_time": "2022-12-23T13:33:53.454Z"
   },
   {
    "duration": 12,
    "start_time": "2022-12-23T13:34:03.550Z"
   },
   {
    "duration": 11,
    "start_time": "2022-12-23T13:34:52.138Z"
   },
   {
    "duration": 11,
    "start_time": "2022-12-23T13:35:01.490Z"
   },
   {
    "duration": 160,
    "start_time": "2022-12-23T13:37:29.370Z"
   },
   {
    "duration": 11209,
    "start_time": "2022-12-23T13:47:58.858Z"
   },
   {
    "duration": 19,
    "start_time": "2022-12-23T13:48:47.023Z"
   },
   {
    "duration": 18,
    "start_time": "2022-12-23T13:48:51.886Z"
   },
   {
    "duration": 19,
    "start_time": "2022-12-23T13:49:10.951Z"
   },
   {
    "duration": 803,
    "start_time": "2022-12-23T13:49:24.004Z"
   },
   {
    "duration": 14,
    "start_time": "2022-12-23T13:49:36.636Z"
   },
   {
    "duration": 153,
    "start_time": "2022-12-23T13:49:49.099Z"
   },
   {
    "duration": 17,
    "start_time": "2022-12-23T13:50:02.685Z"
   },
   {
    "duration": 16,
    "start_time": "2022-12-23T13:50:13.219Z"
   },
   {
    "duration": 171,
    "start_time": "2022-12-23T13:50:21.638Z"
   },
   {
    "duration": 183,
    "start_time": "2022-12-23T13:56:03.251Z"
   },
   {
    "duration": 10,
    "start_time": "2022-12-23T13:57:30.585Z"
   },
   {
    "duration": 7,
    "start_time": "2022-12-23T13:57:36.722Z"
   },
   {
    "duration": 15,
    "start_time": "2022-12-23T13:57:42.692Z"
   },
   {
    "duration": 15,
    "start_time": "2022-12-23T13:57:46.618Z"
   },
   {
    "duration": 4,
    "start_time": "2022-12-23T13:57:59.526Z"
   },
   {
    "duration": 16,
    "start_time": "2022-12-23T13:58:01.168Z"
   },
   {
    "duration": 200,
    "start_time": "2022-12-23T13:58:23.830Z"
   },
   {
    "duration": 199,
    "start_time": "2022-12-23T13:58:42.887Z"
   },
   {
    "duration": 115,
    "start_time": "2022-12-23T13:58:55.758Z"
   },
   {
    "duration": 107,
    "start_time": "2022-12-23T13:59:18.852Z"
   },
   {
    "duration": 138,
    "start_time": "2022-12-23T13:59:47.838Z"
   },
   {
    "duration": 99,
    "start_time": "2022-12-23T14:00:17.419Z"
   },
   {
    "duration": 114,
    "start_time": "2022-12-23T14:00:25.587Z"
   },
   {
    "duration": 114,
    "start_time": "2022-12-23T14:00:34.502Z"
   },
   {
    "duration": 10,
    "start_time": "2022-12-23T14:01:23.220Z"
   },
   {
    "duration": 117,
    "start_time": "2022-12-23T14:02:17.736Z"
   },
   {
    "duration": 110,
    "start_time": "2022-12-23T14:02:27.152Z"
   },
   {
    "duration": 124,
    "start_time": "2022-12-23T14:02:44.723Z"
   },
   {
    "duration": 117,
    "start_time": "2022-12-23T14:03:02.064Z"
   },
   {
    "duration": 114,
    "start_time": "2022-12-23T14:03:15.264Z"
   },
   {
    "duration": 317,
    "start_time": "2022-12-23T14:03:56.700Z"
   },
   {
    "duration": 318,
    "start_time": "2022-12-23T14:04:00.819Z"
   },
   {
    "duration": 3,
    "start_time": "2022-12-23T14:46:23.250Z"
   },
   {
    "duration": 48,
    "start_time": "2022-12-23T14:56:01.049Z"
   },
   {
    "duration": 723,
    "start_time": "2022-12-23T14:56:06.116Z"
   },
   {
    "duration": 10,
    "start_time": "2022-12-23T14:56:37.613Z"
   },
   {
    "duration": 11,
    "start_time": "2022-12-23T14:57:59.026Z"
   },
   {
    "duration": 14,
    "start_time": "2022-12-23T14:58:17.480Z"
   },
   {
    "duration": 11,
    "start_time": "2022-12-23T15:00:34.108Z"
   },
   {
    "duration": 12,
    "start_time": "2022-12-23T15:00:42.312Z"
   },
   {
    "duration": 11,
    "start_time": "2022-12-23T15:04:34.397Z"
   },
   {
    "duration": 1241,
    "start_time": "2022-12-23T15:13:47.573Z"
   },
   {
    "duration": 188,
    "start_time": "2022-12-23T15:13:49.073Z"
   },
   {
    "duration": 23,
    "start_time": "2022-12-23T15:13:49.838Z"
   },
   {
    "duration": 15,
    "start_time": "2022-12-23T15:13:51.074Z"
   },
   {
    "duration": 572,
    "start_time": "2022-12-23T15:13:52.007Z"
   },
   {
    "duration": 167,
    "start_time": "2022-12-23T15:13:53.024Z"
   },
   {
    "duration": 159,
    "start_time": "2022-12-23T15:13:53.561Z"
   },
   {
    "duration": 166,
    "start_time": "2022-12-23T15:13:54.041Z"
   },
   {
    "duration": 185,
    "start_time": "2022-12-23T15:13:54.493Z"
   },
   {
    "duration": 3,
    "start_time": "2022-12-23T15:13:56.574Z"
   },
   {
    "duration": 4,
    "start_time": "2022-12-23T15:13:57.057Z"
   },
   {
    "duration": 5,
    "start_time": "2022-12-23T15:13:58.694Z"
   },
   {
    "duration": 5,
    "start_time": "2022-12-23T15:13:59.507Z"
   },
   {
    "duration": 5,
    "start_time": "2022-12-23T15:14:00.340Z"
   },
   {
    "duration": 8,
    "start_time": "2022-12-23T15:14:01.124Z"
   },
   {
    "duration": 6,
    "start_time": "2022-12-23T15:14:01.873Z"
   },
   {
    "duration": 10,
    "start_time": "2022-12-23T15:14:03.273Z"
   },
   {
    "duration": 60,
    "start_time": "2022-12-23T15:14:03.674Z"
   },
   {
    "duration": 15,
    "start_time": "2022-12-23T15:14:04.409Z"
   },
   {
    "duration": 11,
    "start_time": "2022-12-23T15:14:05.158Z"
   },
   {
    "duration": 5,
    "start_time": "2022-12-23T15:14:05.939Z"
   },
   {
    "duration": 22,
    "start_time": "2022-12-23T15:14:06.326Z"
   },
   {
    "duration": 6,
    "start_time": "2022-12-23T15:14:06.691Z"
   },
   {
    "duration": 5,
    "start_time": "2022-12-23T15:14:06.990Z"
   },
   {
    "duration": 22,
    "start_time": "2022-12-23T15:14:07.324Z"
   },
   {
    "duration": 6,
    "start_time": "2022-12-23T15:14:07.657Z"
   },
   {
    "duration": 6,
    "start_time": "2022-12-23T15:14:08.608Z"
   },
   {
    "duration": 16,
    "start_time": "2022-12-23T15:14:08.892Z"
   },
   {
    "duration": 5,
    "start_time": "2022-12-23T15:14:09.258Z"
   },
   {
    "duration": 4,
    "start_time": "2022-12-23T15:14:09.924Z"
   },
   {
    "duration": 21,
    "start_time": "2022-12-23T15:14:10.241Z"
   },
   {
    "duration": 14,
    "start_time": "2022-12-23T15:14:11.573Z"
   },
   {
    "duration": 12,
    "start_time": "2022-12-23T15:14:12.173Z"
   },
   {
    "duration": 12,
    "start_time": "2022-12-23T15:14:12.497Z"
   },
   {
    "duration": 12,
    "start_time": "2022-12-23T15:14:12.803Z"
   },
   {
    "duration": 4,
    "start_time": "2022-12-23T15:14:13.441Z"
   },
   {
    "duration": 8,
    "start_time": "2022-12-23T15:14:13.769Z"
   },
   {
    "duration": 4,
    "start_time": "2022-12-23T15:14:14.373Z"
   },
   {
    "duration": 16,
    "start_time": "2022-12-23T15:14:14.657Z"
   },
   {
    "duration": 22,
    "start_time": "2022-12-23T15:14:15.273Z"
   },
   {
    "duration": 5,
    "start_time": "2022-12-23T15:14:16.574Z"
   },
   {
    "duration": 18,
    "start_time": "2022-12-23T15:14:16.907Z"
   },
   {
    "duration": 453,
    "start_time": "2022-12-23T15:14:18.506Z"
   },
   {
    "duration": 12,
    "start_time": "2022-12-23T15:14:19.795Z"
   },
   {
    "duration": 3,
    "start_time": "2022-12-23T15:14:20.506Z"
   },
   {
    "duration": 7,
    "start_time": "2022-12-23T15:14:21.195Z"
   },
   {
    "duration": 23,
    "start_time": "2022-12-23T15:14:21.960Z"
   },
   {
    "duration": 10,
    "start_time": "2022-12-23T15:14:22.707Z"
   },
   {
    "duration": 539,
    "start_time": "2022-12-23T15:14:23.569Z"
   },
   {
    "duration": 7,
    "start_time": "2022-12-23T15:14:25.598Z"
   },
   {
    "duration": 23,
    "start_time": "2022-12-23T15:14:26.536Z"
   },
   {
    "duration": 257,
    "start_time": "2022-12-23T15:14:27.005Z"
   },
   {
    "duration": 261,
    "start_time": "2022-12-23T15:14:27.923Z"
   },
   {
    "duration": 350,
    "start_time": "2022-12-23T15:14:37.072Z"
   },
   {
    "duration": 34,
    "start_time": "2022-12-23T15:14:37.641Z"
   },
   {
    "duration": 136,
    "start_time": "2022-12-23T15:14:39.423Z"
   },
   {
    "duration": 7,
    "start_time": "2022-12-23T15:14:39.842Z"
   },
   {
    "duration": 177,
    "start_time": "2022-12-23T15:14:40.241Z"
   },
   {
    "duration": 7,
    "start_time": "2022-12-23T15:14:40.604Z"
   },
   {
    "duration": 1410,
    "start_time": "2022-12-23T15:14:42.097Z"
   },
   {
    "duration": 1493,
    "start_time": "2022-12-23T15:14:43.509Z"
   },
   {
    "duration": 10,
    "start_time": "2022-12-23T15:14:45.102Z"
   },
   {
    "duration": 16,
    "start_time": "2022-12-23T15:14:46.106Z"
   },
   {
    "duration": 387,
    "start_time": "2022-12-23T15:14:46.667Z"
   },
   {
    "duration": 12,
    "start_time": "2022-12-23T15:14:49.555Z"
   },
   {
    "duration": 10,
    "start_time": "2022-12-23T15:14:50.057Z"
   },
   {
    "duration": 11,
    "start_time": "2022-12-23T15:14:50.505Z"
   },
   {
    "duration": 10,
    "start_time": "2022-12-23T15:14:51.706Z"
   },
   {
    "duration": 10,
    "start_time": "2022-12-23T15:14:52.122Z"
   },
   {
    "duration": 10,
    "start_time": "2022-12-23T15:14:52.572Z"
   },
   {
    "duration": 100,
    "start_time": "2022-12-23T15:14:53.922Z"
   },
   {
    "duration": 98,
    "start_time": "2022-12-23T15:14:54.406Z"
   },
   {
    "duration": 106,
    "start_time": "2022-12-23T15:14:54.897Z"
   },
   {
    "duration": 98,
    "start_time": "2022-12-23T15:14:58.872Z"
   },
   {
    "duration": 10,
    "start_time": "2022-12-23T15:15:28.570Z"
   },
   {
    "duration": 16,
    "start_time": "2022-12-23T15:15:37.673Z"
   },
   {
    "duration": 13,
    "start_time": "2022-12-23T15:15:55.577Z"
   },
   {
    "duration": 11,
    "start_time": "2022-12-23T15:16:58.538Z"
   },
   {
    "duration": 6,
    "start_time": "2022-12-23T15:17:22.268Z"
   },
   {
    "duration": 9,
    "start_time": "2022-12-23T15:17:32.120Z"
   },
   {
    "duration": 10,
    "start_time": "2022-12-23T15:17:43.221Z"
   },
   {
    "duration": 12,
    "start_time": "2022-12-23T15:17:47.223Z"
   },
   {
    "duration": 10,
    "start_time": "2022-12-23T15:17:52.023Z"
   },
   {
    "duration": 10,
    "start_time": "2022-12-23T15:18:40.618Z"
   },
   {
    "duration": 10,
    "start_time": "2022-12-23T15:18:45.303Z"
   },
   {
    "duration": 10,
    "start_time": "2022-12-23T15:18:52.692Z"
   },
   {
    "duration": 7,
    "start_time": "2022-12-23T15:35:45.369Z"
   },
   {
    "duration": 8,
    "start_time": "2022-12-23T15:36:15.931Z"
   },
   {
    "duration": 9,
    "start_time": "2022-12-23T15:44:16.583Z"
   },
   {
    "duration": 10,
    "start_time": "2022-12-23T15:44:24.481Z"
   },
   {
    "duration": 10,
    "start_time": "2022-12-23T15:44:30.264Z"
   },
   {
    "duration": 8,
    "start_time": "2022-12-23T15:44:35.217Z"
   },
   {
    "duration": 4,
    "start_time": "2022-12-23T15:54:53.377Z"
   },
   {
    "duration": 4,
    "start_time": "2022-12-23T15:55:06.012Z"
   },
   {
    "duration": 5,
    "start_time": "2022-12-23T15:55:18.414Z"
   },
   {
    "duration": 4,
    "start_time": "2022-12-23T15:55:20.062Z"
   },
   {
    "duration": 5,
    "start_time": "2022-12-23T15:55:25.541Z"
   },
   {
    "duration": 4,
    "start_time": "2022-12-23T15:55:30.462Z"
   },
   {
    "duration": 5,
    "start_time": "2022-12-23T15:56:01.828Z"
   },
   {
    "duration": 5,
    "start_time": "2022-12-23T15:56:13.104Z"
   },
   {
    "duration": 9,
    "start_time": "2022-12-23T16:28:34.415Z"
   },
   {
    "duration": 10,
    "start_time": "2022-12-23T16:28:43.234Z"
   },
   {
    "duration": 10,
    "start_time": "2022-12-23T16:28:50.732Z"
   },
   {
    "duration": 10,
    "start_time": "2022-12-23T16:29:01.533Z"
   },
   {
    "duration": 9,
    "start_time": "2022-12-23T16:29:09.036Z"
   },
   {
    "duration": 1203,
    "start_time": "2022-12-23T18:25:08.463Z"
   },
   {
    "duration": 54,
    "start_time": "2022-12-23T18:25:11.754Z"
   },
   {
    "duration": 24,
    "start_time": "2022-12-23T18:25:14.435Z"
   },
   {
    "duration": 1042,
    "start_time": "2022-12-23T20:29:06.773Z"
   },
   {
    "duration": 50,
    "start_time": "2022-12-23T20:29:07.817Z"
   },
   {
    "duration": 24,
    "start_time": "2022-12-23T20:29:07.869Z"
   },
   {
    "duration": 15,
    "start_time": "2022-12-23T20:29:07.895Z"
   },
   {
    "duration": 612,
    "start_time": "2022-12-23T20:29:07.911Z"
   },
   {
    "duration": 178,
    "start_time": "2022-12-23T20:29:08.524Z"
   },
   {
    "duration": 180,
    "start_time": "2022-12-23T20:29:08.704Z"
   },
   {
    "duration": 193,
    "start_time": "2022-12-23T20:29:08.886Z"
   },
   {
    "duration": 190,
    "start_time": "2022-12-23T20:29:09.081Z"
   },
   {
    "duration": 3,
    "start_time": "2022-12-23T20:29:09.275Z"
   },
   {
    "duration": 15,
    "start_time": "2022-12-23T20:29:09.281Z"
   },
   {
    "duration": 15,
    "start_time": "2022-12-23T20:29:09.298Z"
   },
   {
    "duration": 6,
    "start_time": "2022-12-23T20:29:09.315Z"
   },
   {
    "duration": 16,
    "start_time": "2022-12-23T20:29:09.322Z"
   },
   {
    "duration": 14,
    "start_time": "2022-12-23T20:29:09.340Z"
   },
   {
    "duration": 6,
    "start_time": "2022-12-23T20:29:09.356Z"
   },
   {
    "duration": 11,
    "start_time": "2022-12-23T20:29:09.363Z"
   },
   {
    "duration": 63,
    "start_time": "2022-12-23T20:29:09.376Z"
   },
   {
    "duration": 14,
    "start_time": "2022-12-23T20:29:09.441Z"
   },
   {
    "duration": 7,
    "start_time": "2022-12-23T20:29:09.456Z"
   },
   {
    "duration": 7,
    "start_time": "2022-12-23T20:29:09.465Z"
   },
   {
    "duration": 18,
    "start_time": "2022-12-23T20:29:09.473Z"
   },
   {
    "duration": 24,
    "start_time": "2022-12-23T20:29:09.492Z"
   },
   {
    "duration": 7,
    "start_time": "2022-12-23T20:29:09.517Z"
   },
   {
    "duration": 14,
    "start_time": "2022-12-23T20:29:09.526Z"
   },
   {
    "duration": 4,
    "start_time": "2022-12-23T20:29:09.542Z"
   },
   {
    "duration": 11,
    "start_time": "2022-12-23T20:29:09.547Z"
   },
   {
    "duration": 16,
    "start_time": "2022-12-23T20:29:09.562Z"
   },
   {
    "duration": 7,
    "start_time": "2022-12-23T20:29:09.579Z"
   },
   {
    "duration": 4,
    "start_time": "2022-12-23T20:29:09.612Z"
   },
   {
    "duration": 17,
    "start_time": "2022-12-23T20:29:09.617Z"
   },
   {
    "duration": 14,
    "start_time": "2022-12-23T20:29:09.635Z"
   },
   {
    "duration": 11,
    "start_time": "2022-12-23T20:29:09.651Z"
   },
   {
    "duration": 22,
    "start_time": "2022-12-23T20:29:09.663Z"
   },
   {
    "duration": 32,
    "start_time": "2022-12-23T20:29:09.686Z"
   },
   {
    "duration": 9,
    "start_time": "2022-12-23T20:29:09.720Z"
   },
   {
    "duration": 103,
    "start_time": "2022-12-23T20:29:09.731Z"
   },
   {
    "duration": 11,
    "start_time": "2022-12-23T20:29:09.836Z"
   },
   {
    "duration": 18,
    "start_time": "2022-12-23T20:29:09.848Z"
   },
   {
    "duration": 38,
    "start_time": "2022-12-23T20:29:09.867Z"
   },
   {
    "duration": 4,
    "start_time": "2022-12-23T20:29:09.907Z"
   },
   {
    "duration": 19,
    "start_time": "2022-12-23T20:29:09.912Z"
   },
   {
    "duration": 365,
    "start_time": "2022-12-23T20:29:09.933Z"
   },
   {
    "duration": 16,
    "start_time": "2022-12-23T20:29:10.300Z"
   },
   {
    "duration": 5,
    "start_time": "2022-12-23T20:29:10.318Z"
   },
   {
    "duration": 10,
    "start_time": "2022-12-23T20:29:10.325Z"
   },
   {
    "duration": 24,
    "start_time": "2022-12-23T20:29:10.336Z"
   },
   {
    "duration": 8,
    "start_time": "2022-12-23T20:29:10.361Z"
   },
   {
    "duration": 581,
    "start_time": "2022-12-23T20:29:10.371Z"
   },
   {
    "duration": 6,
    "start_time": "2022-12-23T20:29:10.954Z"
   },
   {
    "duration": 22,
    "start_time": "2022-12-23T20:29:10.962Z"
   },
   {
    "duration": 296,
    "start_time": "2022-12-23T20:29:10.985Z"
   },
   {
    "duration": 272,
    "start_time": "2022-12-23T20:29:11.283Z"
   },
   {
    "duration": 381,
    "start_time": "2022-12-23T20:29:11.557Z"
   },
   {
    "duration": 39,
    "start_time": "2022-12-23T20:29:11.941Z"
   },
   {
    "duration": 166,
    "start_time": "2022-12-23T20:29:11.982Z"
   },
   {
    "duration": 8,
    "start_time": "2022-12-23T20:29:12.150Z"
   },
   {
    "duration": 172,
    "start_time": "2022-12-23T20:29:12.159Z"
   },
   {
    "duration": 7,
    "start_time": "2022-12-23T20:29:12.333Z"
   },
   {
    "duration": 1520,
    "start_time": "2022-12-23T20:29:12.342Z"
   },
   {
    "duration": 1661,
    "start_time": "2022-12-23T20:29:13.864Z"
   },
   {
    "duration": 10,
    "start_time": "2022-12-23T20:29:15.527Z"
   },
   {
    "duration": 13,
    "start_time": "2022-12-23T20:29:15.539Z"
   },
   {
    "duration": 423,
    "start_time": "2022-12-23T20:29:15.554Z"
   },
   {
    "duration": 34,
    "start_time": "2022-12-23T20:29:15.979Z"
   },
   {
    "duration": 12,
    "start_time": "2022-12-23T20:29:16.015Z"
   },
   {
    "duration": 17,
    "start_time": "2022-12-23T20:29:16.029Z"
   },
   {
    "duration": 15,
    "start_time": "2022-12-23T20:29:16.047Z"
   },
   {
    "duration": 10,
    "start_time": "2022-12-23T20:29:16.113Z"
   },
   {
    "duration": 10,
    "start_time": "2022-12-23T20:29:16.125Z"
   },
   {
    "duration": 176,
    "start_time": "2022-12-23T20:29:16.137Z"
   },
   {
    "duration": 109,
    "start_time": "2022-12-23T20:29:16.315Z"
   },
   {
    "duration": 107,
    "start_time": "2022-12-23T20:29:16.425Z"
   },
   {
    "duration": 5,
    "start_time": "2022-12-23T20:29:16.534Z"
   },
   {
    "duration": 13,
    "start_time": "2022-12-23T20:29:16.540Z"
   },
   {
    "duration": 4,
    "start_time": "2022-12-23T20:29:16.554Z"
   },
   {
    "duration": 6,
    "start_time": "2022-12-23T20:29:16.560Z"
   },
   {
    "duration": 10,
    "start_time": "2022-12-23T20:29:16.568Z"
   },
   {
    "duration": 33,
    "start_time": "2022-12-23T20:29:16.579Z"
   },
   {
    "duration": 4,
    "start_time": "2022-12-23T20:29:16.614Z"
   },
   {
    "duration": 3,
    "start_time": "2022-12-23T20:30:05.955Z"
   },
   {
    "duration": 59,
    "start_time": "2022-12-23T20:30:05.961Z"
   },
   {
    "duration": 21,
    "start_time": "2022-12-23T20:30:06.021Z"
   },
   {
    "duration": 25,
    "start_time": "2022-12-23T20:30:06.044Z"
   },
   {
    "duration": 697,
    "start_time": "2022-12-23T20:30:06.072Z"
   },
   {
    "duration": 205,
    "start_time": "2022-12-23T20:30:06.771Z"
   },
   {
    "duration": 191,
    "start_time": "2022-12-23T20:30:06.978Z"
   },
   {
    "duration": 187,
    "start_time": "2022-12-23T20:30:07.171Z"
   },
   {
    "duration": 183,
    "start_time": "2022-12-23T20:30:07.359Z"
   },
   {
    "duration": 4,
    "start_time": "2022-12-23T20:30:07.544Z"
   },
   {
    "duration": 10,
    "start_time": "2022-12-23T20:30:07.549Z"
   },
   {
    "duration": 7,
    "start_time": "2022-12-23T20:30:07.561Z"
   },
   {
    "duration": 8,
    "start_time": "2022-12-23T20:30:07.570Z"
   },
   {
    "duration": 7,
    "start_time": "2022-12-23T20:30:07.580Z"
   },
   {
    "duration": 27,
    "start_time": "2022-12-23T20:30:07.589Z"
   },
   {
    "duration": 6,
    "start_time": "2022-12-23T20:30:07.618Z"
   },
   {
    "duration": 11,
    "start_time": "2022-12-23T20:30:07.625Z"
   },
   {
    "duration": 15,
    "start_time": "2022-12-23T20:30:07.637Z"
   },
   {
    "duration": 15,
    "start_time": "2022-12-23T20:30:07.653Z"
   },
   {
    "duration": 8,
    "start_time": "2022-12-23T20:30:07.669Z"
   },
   {
    "duration": 34,
    "start_time": "2022-12-23T20:30:07.678Z"
   },
   {
    "duration": 15,
    "start_time": "2022-12-23T20:30:07.714Z"
   },
   {
    "duration": 6,
    "start_time": "2022-12-23T20:30:07.731Z"
   },
   {
    "duration": 6,
    "start_time": "2022-12-23T20:30:07.738Z"
   },
   {
    "duration": 1144,
    "start_time": "2022-12-23T20:30:19.720Z"
   },
   {
    "duration": 53,
    "start_time": "2022-12-23T20:30:20.866Z"
   },
   {
    "duration": 23,
    "start_time": "2022-12-23T20:30:20.921Z"
   },
   {
    "duration": 14,
    "start_time": "2022-12-23T20:30:20.946Z"
   },
   {
    "duration": 602,
    "start_time": "2022-12-23T20:30:20.961Z"
   },
   {
    "duration": 182,
    "start_time": "2022-12-23T20:30:21.565Z"
   },
   {
    "duration": 174,
    "start_time": "2022-12-23T20:30:21.748Z"
   },
   {
    "duration": 183,
    "start_time": "2022-12-23T20:30:21.923Z"
   },
   {
    "duration": 186,
    "start_time": "2022-12-23T20:30:22.112Z"
   },
   {
    "duration": 3,
    "start_time": "2022-12-23T20:30:22.301Z"
   },
   {
    "duration": 4,
    "start_time": "2022-12-23T20:30:22.312Z"
   },
   {
    "duration": 7,
    "start_time": "2022-12-23T20:30:22.317Z"
   },
   {
    "duration": 7,
    "start_time": "2022-12-23T20:30:22.325Z"
   },
   {
    "duration": 6,
    "start_time": "2022-12-23T20:30:22.333Z"
   },
   {
    "duration": 10,
    "start_time": "2022-12-23T20:30:22.341Z"
   },
   {
    "duration": 10,
    "start_time": "2022-12-23T20:30:22.352Z"
   },
   {
    "duration": 12,
    "start_time": "2022-12-23T20:30:22.364Z"
   },
   {
    "duration": 72,
    "start_time": "2022-12-23T20:30:22.377Z"
   },
   {
    "duration": 14,
    "start_time": "2022-12-23T20:30:22.451Z"
   },
   {
    "duration": 8,
    "start_time": "2022-12-23T20:30:22.467Z"
   },
   {
    "duration": 11,
    "start_time": "2022-12-23T20:30:22.477Z"
   },
   {
    "duration": 33,
    "start_time": "2022-12-23T20:30:22.490Z"
   },
   {
    "duration": 5,
    "start_time": "2022-12-23T20:30:22.525Z"
   },
   {
    "duration": 7,
    "start_time": "2022-12-23T20:30:22.532Z"
   },
   {
    "duration": 17,
    "start_time": "2022-12-23T20:30:22.540Z"
   },
   {
    "duration": 18,
    "start_time": "2022-12-23T20:30:22.559Z"
   },
   {
    "duration": 12,
    "start_time": "2022-12-23T20:30:22.579Z"
   },
   {
    "duration": 22,
    "start_time": "2022-12-23T20:30:22.595Z"
   },
   {
    "duration": 5,
    "start_time": "2022-12-23T20:30:22.619Z"
   },
   {
    "duration": 11,
    "start_time": "2022-12-23T20:30:22.625Z"
   },
   {
    "duration": 17,
    "start_time": "2022-12-23T20:30:22.637Z"
   },
   {
    "duration": 13,
    "start_time": "2022-12-23T20:30:22.656Z"
   },
   {
    "duration": 11,
    "start_time": "2022-12-23T20:30:22.670Z"
   },
   {
    "duration": 35,
    "start_time": "2022-12-23T20:30:22.683Z"
   },
   {
    "duration": 11,
    "start_time": "2022-12-23T20:30:22.720Z"
   },
   {
    "duration": 5,
    "start_time": "2022-12-23T20:30:22.733Z"
   },
   {
    "duration": 108,
    "start_time": "2022-12-23T20:30:22.740Z"
   },
   {
    "duration": 13,
    "start_time": "2022-12-23T20:30:22.850Z"
   },
   {
    "duration": 35,
    "start_time": "2022-12-23T20:30:22.865Z"
   },
   {
    "duration": 27,
    "start_time": "2022-12-23T20:30:22.902Z"
   },
   {
    "duration": 4,
    "start_time": "2022-12-23T20:30:22.931Z"
   },
   {
    "duration": 35,
    "start_time": "2022-12-23T20:30:22.937Z"
   },
   {
    "duration": 375,
    "start_time": "2022-12-23T20:30:22.974Z"
   },
   {
    "duration": 11,
    "start_time": "2022-12-23T20:30:23.351Z"
   },
   {
    "duration": 2,
    "start_time": "2022-12-23T20:30:23.364Z"
   },
   {
    "duration": 21,
    "start_time": "2022-12-23T20:30:23.368Z"
   },
   {
    "duration": 28,
    "start_time": "2022-12-23T20:30:23.390Z"
   },
   {
    "duration": 9,
    "start_time": "2022-12-23T20:30:23.419Z"
   },
   {
    "duration": 589,
    "start_time": "2022-12-23T20:30:23.429Z"
   },
   {
    "duration": 7,
    "start_time": "2022-12-23T20:30:24.020Z"
   },
   {
    "duration": 26,
    "start_time": "2022-12-23T20:30:24.029Z"
   },
   {
    "duration": 309,
    "start_time": "2022-12-23T20:30:24.056Z"
   },
   {
    "duration": 269,
    "start_time": "2022-12-23T20:30:24.367Z"
   },
   {
    "duration": 396,
    "start_time": "2022-12-23T20:30:24.638Z"
   },
   {
    "duration": 41,
    "start_time": "2022-12-23T20:30:25.036Z"
   },
   {
    "duration": 167,
    "start_time": "2022-12-23T20:30:25.079Z"
   },
   {
    "duration": 8,
    "start_time": "2022-12-23T20:30:25.247Z"
   },
   {
    "duration": 154,
    "start_time": "2022-12-23T20:30:25.256Z"
   },
   {
    "duration": 6,
    "start_time": "2022-12-23T20:30:25.412Z"
   },
   {
    "duration": 1624,
    "start_time": "2022-12-23T20:30:25.420Z"
   },
   {
    "duration": 1648,
    "start_time": "2022-12-23T20:30:27.046Z"
   },
   {
    "duration": 17,
    "start_time": "2022-12-23T20:30:28.696Z"
   },
   {
    "duration": 11,
    "start_time": "2022-12-23T20:30:28.715Z"
   },
   {
    "duration": 419,
    "start_time": "2022-12-23T20:30:28.728Z"
   },
   {
    "duration": 11,
    "start_time": "2022-12-23T20:30:29.149Z"
   },
   {
    "duration": 12,
    "start_time": "2022-12-23T20:30:29.162Z"
   },
   {
    "duration": 13,
    "start_time": "2022-12-23T20:30:29.176Z"
   },
   {
    "duration": 11,
    "start_time": "2022-12-23T20:30:29.211Z"
   },
   {
    "duration": 13,
    "start_time": "2022-12-23T20:30:29.223Z"
   },
   {
    "duration": 15,
    "start_time": "2022-12-23T20:30:29.238Z"
   },
   {
    "duration": 135,
    "start_time": "2022-12-23T20:30:29.255Z"
   },
   {
    "duration": 121,
    "start_time": "2022-12-23T20:30:29.391Z"
   },
   {
    "duration": 114,
    "start_time": "2022-12-23T20:30:29.514Z"
   },
   {
    "duration": 7,
    "start_time": "2022-12-23T20:30:29.630Z"
   },
   {
    "duration": 12,
    "start_time": "2022-12-23T20:30:29.639Z"
   },
   {
    "duration": 14,
    "start_time": "2022-12-23T20:30:29.652Z"
   },
   {
    "duration": 7,
    "start_time": "2022-12-23T20:30:29.668Z"
   },
   {
    "duration": 20,
    "start_time": "2022-12-23T20:30:29.678Z"
   },
   {
    "duration": 4,
    "start_time": "2022-12-23T20:30:29.712Z"
   },
   {
    "duration": 7,
    "start_time": "2022-12-23T20:30:29.717Z"
   },
   {
    "duration": 1145,
    "start_time": "2022-12-23T20:31:11.623Z"
   },
   {
    "duration": 55,
    "start_time": "2022-12-23T20:31:12.769Z"
   },
   {
    "duration": 22,
    "start_time": "2022-12-23T20:31:12.826Z"
   },
   {
    "duration": 30,
    "start_time": "2022-12-23T20:31:12.849Z"
   },
   {
    "duration": 704,
    "start_time": "2022-12-23T20:31:12.881Z"
   },
   {
    "duration": 189,
    "start_time": "2022-12-23T20:31:13.587Z"
   },
   {
    "duration": 188,
    "start_time": "2022-12-23T20:31:13.779Z"
   },
   {
    "duration": 190,
    "start_time": "2022-12-23T20:31:13.969Z"
   },
   {
    "duration": 188,
    "start_time": "2022-12-23T20:31:14.161Z"
   },
   {
    "duration": 4,
    "start_time": "2022-12-23T20:31:14.351Z"
   },
   {
    "duration": 12,
    "start_time": "2022-12-23T20:31:14.357Z"
   },
   {
    "duration": 25,
    "start_time": "2022-12-23T20:31:14.371Z"
   },
   {
    "duration": 21,
    "start_time": "2022-12-23T20:31:14.398Z"
   },
   {
    "duration": 11,
    "start_time": "2022-12-23T20:31:14.423Z"
   },
   {
    "duration": 29,
    "start_time": "2022-12-23T20:31:14.436Z"
   },
   {
    "duration": 16,
    "start_time": "2022-12-23T20:31:14.466Z"
   },
   {
    "duration": 21,
    "start_time": "2022-12-23T20:31:14.484Z"
   },
   {
    "duration": 64,
    "start_time": "2022-12-23T20:31:14.507Z"
   },
   {
    "duration": 15,
    "start_time": "2022-12-23T20:31:14.573Z"
   },
   {
    "duration": 8,
    "start_time": "2022-12-23T20:31:14.590Z"
   },
   {
    "duration": 39,
    "start_time": "2022-12-23T20:31:14.600Z"
   },
   {
    "duration": 24,
    "start_time": "2022-12-23T20:31:14.641Z"
   },
   {
    "duration": 6,
    "start_time": "2022-12-23T20:31:14.667Z"
   },
   {
    "duration": 22,
    "start_time": "2022-12-23T20:31:14.675Z"
   },
   {
    "duration": 28,
    "start_time": "2022-12-23T20:31:14.699Z"
   },
   {
    "duration": 11,
    "start_time": "2022-12-23T20:31:14.729Z"
   },
   {
    "duration": 16,
    "start_time": "2022-12-23T20:31:14.742Z"
   },
   {
    "duration": 20,
    "start_time": "2022-12-23T20:31:14.759Z"
   },
   {
    "duration": 5,
    "start_time": "2022-12-23T20:31:14.780Z"
   },
   {
    "duration": 16,
    "start_time": "2022-12-23T20:31:14.787Z"
   },
   {
    "duration": 41,
    "start_time": "2022-12-23T20:31:14.805Z"
   },
   {
    "duration": 29,
    "start_time": "2022-12-23T20:31:14.847Z"
   },
   {
    "duration": 31,
    "start_time": "2022-12-23T20:31:14.878Z"
   },
   {
    "duration": 44,
    "start_time": "2022-12-23T20:31:14.911Z"
   },
   {
    "duration": 26,
    "start_time": "2022-12-23T20:31:14.956Z"
   },
   {
    "duration": 37,
    "start_time": "2022-12-23T20:31:14.984Z"
   },
   {
    "duration": 21,
    "start_time": "2022-12-23T20:31:15.022Z"
   },
   {
    "duration": 26,
    "start_time": "2022-12-23T20:31:15.044Z"
   },
   {
    "duration": 33,
    "start_time": "2022-12-23T20:31:15.071Z"
   },
   {
    "duration": 44,
    "start_time": "2022-12-23T20:31:15.105Z"
   },
   {
    "duration": 14,
    "start_time": "2022-12-23T20:31:15.153Z"
   },
   {
    "duration": 37,
    "start_time": "2022-12-23T20:31:15.168Z"
   },
   {
    "duration": 438,
    "start_time": "2022-12-23T20:31:15.207Z"
   },
   {
    "duration": 11,
    "start_time": "2022-12-23T20:31:15.647Z"
   },
   {
    "duration": 17,
    "start_time": "2022-12-23T20:31:15.660Z"
   },
   {
    "duration": 32,
    "start_time": "2022-12-23T20:31:15.679Z"
   },
   {
    "duration": 49,
    "start_time": "2022-12-23T20:31:15.713Z"
   },
   {
    "duration": 30,
    "start_time": "2022-12-23T20:31:15.764Z"
   },
   {
    "duration": 615,
    "start_time": "2022-12-23T20:31:15.795Z"
   },
   {
    "duration": 10,
    "start_time": "2022-12-23T20:31:16.413Z"
   },
   {
    "duration": 36,
    "start_time": "2022-12-23T20:31:16.425Z"
   },
   {
    "duration": 320,
    "start_time": "2022-12-23T20:31:16.464Z"
   },
   {
    "duration": 289,
    "start_time": "2022-12-23T20:31:16.786Z"
   },
   {
    "duration": 385,
    "start_time": "2022-12-23T20:31:17.077Z"
   },
   {
    "duration": 37,
    "start_time": "2022-12-23T20:31:17.464Z"
   },
   {
    "duration": 156,
    "start_time": "2022-12-23T20:31:17.503Z"
   },
   {
    "duration": 8,
    "start_time": "2022-12-23T20:31:17.661Z"
   },
   {
    "duration": 178,
    "start_time": "2022-12-23T20:31:17.671Z"
   },
   {
    "duration": 8,
    "start_time": "2022-12-23T20:31:17.851Z"
   },
   {
    "duration": 1621,
    "start_time": "2022-12-23T20:31:17.861Z"
   },
   {
    "duration": 1605,
    "start_time": "2022-12-23T20:31:19.483Z"
   },
   {
    "duration": 10,
    "start_time": "2022-12-23T20:31:21.089Z"
   },
   {
    "duration": 30,
    "start_time": "2022-12-23T20:31:21.101Z"
   },
   {
    "duration": 401,
    "start_time": "2022-12-23T20:31:21.132Z"
   },
   {
    "duration": 9,
    "start_time": "2022-12-23T20:31:21.535Z"
   },
   {
    "duration": 34,
    "start_time": "2022-12-23T20:31:21.546Z"
   },
   {
    "duration": 18,
    "start_time": "2022-12-23T20:31:21.582Z"
   },
   {
    "duration": 20,
    "start_time": "2022-12-23T20:31:21.602Z"
   },
   {
    "duration": 22,
    "start_time": "2022-12-23T20:31:21.623Z"
   },
   {
    "duration": 15,
    "start_time": "2022-12-23T20:31:21.647Z"
   },
   {
    "duration": 127,
    "start_time": "2022-12-23T20:31:21.663Z"
   },
   {
    "duration": 122,
    "start_time": "2022-12-23T20:31:21.792Z"
   },
   {
    "duration": 120,
    "start_time": "2022-12-23T20:31:21.916Z"
   },
   {
    "duration": 6,
    "start_time": "2022-12-23T20:31:22.038Z"
   },
   {
    "duration": 25,
    "start_time": "2022-12-23T20:31:22.046Z"
   },
   {
    "duration": 15,
    "start_time": "2022-12-23T20:31:22.073Z"
   },
   {
    "duration": 20,
    "start_time": "2022-12-23T20:31:22.090Z"
   },
   {
    "duration": 24,
    "start_time": "2022-12-23T20:31:22.111Z"
   },
   {
    "duration": 11,
    "start_time": "2022-12-23T20:31:22.137Z"
   },
   {
    "duration": 27,
    "start_time": "2022-12-23T20:31:22.150Z"
   },
   {
    "duration": 48,
    "start_time": "2022-12-24T07:36:36.037Z"
   },
   {
    "duration": 1322,
    "start_time": "2022-12-24T07:36:52.663Z"
   },
   {
    "duration": 187,
    "start_time": "2022-12-24T07:36:53.987Z"
   },
   {
    "duration": 28,
    "start_time": "2022-12-24T07:36:54.176Z"
   },
   {
    "duration": 18,
    "start_time": "2022-12-24T07:36:54.206Z"
   },
   {
    "duration": 637,
    "start_time": "2022-12-24T07:36:54.225Z"
   },
   {
    "duration": 194,
    "start_time": "2022-12-24T07:36:54.864Z"
   },
   {
    "duration": 190,
    "start_time": "2022-12-24T07:36:55.060Z"
   },
   {
    "duration": 182,
    "start_time": "2022-12-24T07:36:55.252Z"
   },
   {
    "duration": 195,
    "start_time": "2022-12-24T07:36:55.436Z"
   },
   {
    "duration": 3,
    "start_time": "2022-12-24T07:36:55.633Z"
   },
   {
    "duration": 14,
    "start_time": "2022-12-24T07:36:55.638Z"
   },
   {
    "duration": 7,
    "start_time": "2022-12-24T07:36:55.653Z"
   },
   {
    "duration": 6,
    "start_time": "2022-12-24T07:36:55.661Z"
   },
   {
    "duration": 6,
    "start_time": "2022-12-24T07:36:55.669Z"
   },
   {
    "duration": 10,
    "start_time": "2022-12-24T07:36:55.676Z"
   },
   {
    "duration": 7,
    "start_time": "2022-12-24T07:36:55.688Z"
   },
   {
    "duration": 12,
    "start_time": "2022-12-24T07:36:55.697Z"
   },
   {
    "duration": 82,
    "start_time": "2022-12-24T07:36:55.710Z"
   },
   {
    "duration": 16,
    "start_time": "2022-12-24T07:36:55.793Z"
   },
   {
    "duration": 8,
    "start_time": "2022-12-24T07:36:55.811Z"
   },
   {
    "duration": 6,
    "start_time": "2022-12-24T07:36:55.820Z"
   },
   {
    "duration": 18,
    "start_time": "2022-12-24T07:36:55.851Z"
   },
   {
    "duration": 6,
    "start_time": "2022-12-24T07:36:55.870Z"
   },
   {
    "duration": 8,
    "start_time": "2022-12-24T07:36:55.877Z"
   },
   {
    "duration": 20,
    "start_time": "2022-12-24T07:36:55.886Z"
   },
   {
    "duration": 5,
    "start_time": "2022-12-24T07:36:55.907Z"
   },
   {
    "duration": 40,
    "start_time": "2022-12-24T07:36:55.914Z"
   },
   {
    "duration": 20,
    "start_time": "2022-12-24T07:36:55.958Z"
   },
   {
    "duration": 8,
    "start_time": "2022-12-24T07:36:55.980Z"
   },
   {
    "duration": 6,
    "start_time": "2022-12-24T07:36:55.990Z"
   },
   {
    "duration": 18,
    "start_time": "2022-12-24T07:36:55.998Z"
   },
   {
    "duration": 42,
    "start_time": "2022-12-24T07:36:56.018Z"
   },
   {
    "duration": 13,
    "start_time": "2022-12-24T07:36:56.062Z"
   },
   {
    "duration": 17,
    "start_time": "2022-12-24T07:36:56.076Z"
   },
   {
    "duration": 12,
    "start_time": "2022-12-24T07:36:56.094Z"
   },
   {
    "duration": 10,
    "start_time": "2022-12-24T07:36:56.108Z"
   },
   {
    "duration": 118,
    "start_time": "2022-12-24T07:36:56.120Z"
   },
   {
    "duration": 14,
    "start_time": "2022-12-24T07:36:56.240Z"
   },
   {
    "duration": 15,
    "start_time": "2022-12-24T07:36:56.255Z"
   },
   {
    "duration": 26,
    "start_time": "2022-12-24T07:36:56.271Z"
   },
   {
    "duration": 4,
    "start_time": "2022-12-24T07:36:56.299Z"
   },
   {
    "duration": 20,
    "start_time": "2022-12-24T07:36:56.305Z"
   },
   {
    "duration": 387,
    "start_time": "2022-12-24T07:36:56.327Z"
   },
   {
    "duration": 12,
    "start_time": "2022-12-24T07:36:56.716Z"
   },
   {
    "duration": 2,
    "start_time": "2022-12-24T07:36:56.729Z"
   },
   {
    "duration": 21,
    "start_time": "2022-12-24T07:36:56.733Z"
   },
   {
    "duration": 25,
    "start_time": "2022-12-24T07:36:56.756Z"
   },
   {
    "duration": 10,
    "start_time": "2022-12-24T07:36:56.782Z"
   },
   {
    "duration": 594,
    "start_time": "2022-12-24T07:36:56.793Z"
   },
   {
    "duration": 7,
    "start_time": "2022-12-24T07:36:57.389Z"
   },
   {
    "duration": 24,
    "start_time": "2022-12-24T07:36:57.398Z"
   },
   {
    "duration": 316,
    "start_time": "2022-12-24T07:36:57.424Z"
   },
   {
    "duration": 283,
    "start_time": "2022-12-24T07:36:57.742Z"
   },
   {
    "duration": 384,
    "start_time": "2022-12-24T07:36:58.026Z"
   },
   {
    "duration": 47,
    "start_time": "2022-12-24T07:36:58.412Z"
   },
   {
    "duration": 186,
    "start_time": "2022-12-24T07:36:58.460Z"
   },
   {
    "duration": 9,
    "start_time": "2022-12-24T07:36:58.648Z"
   },
   {
    "duration": 172,
    "start_time": "2022-12-24T07:36:58.659Z"
   },
   {
    "duration": 19,
    "start_time": "2022-12-24T07:36:58.833Z"
   },
   {
    "duration": 1705,
    "start_time": "2022-12-24T07:36:58.854Z"
   },
   {
    "duration": 1748,
    "start_time": "2022-12-24T07:37:00.561Z"
   },
   {
    "duration": 12,
    "start_time": "2022-12-24T07:37:02.311Z"
   },
   {
    "duration": 29,
    "start_time": "2022-12-24T07:37:02.324Z"
   },
   {
    "duration": 402,
    "start_time": "2022-12-24T07:37:02.356Z"
   },
   {
    "duration": 12,
    "start_time": "2022-12-24T07:37:02.761Z"
   },
   {
    "duration": 163,
    "start_time": "2022-12-24T07:37:02.775Z"
   },
   {
    "duration": 16,
    "start_time": "2022-12-24T07:37:02.940Z"
   },
   {
    "duration": 17,
    "start_time": "2022-12-24T07:37:02.958Z"
   },
   {
    "duration": 12,
    "start_time": "2022-12-24T07:37:02.976Z"
   },
   {
    "duration": 16,
    "start_time": "2022-12-24T07:37:02.990Z"
   },
   {
    "duration": 14,
    "start_time": "2022-12-24T07:37:03.008Z"
   },
   {
    "duration": 135,
    "start_time": "2022-12-24T07:37:03.023Z"
   },
   {
    "duration": 122,
    "start_time": "2022-12-24T07:37:03.160Z"
   },
   {
    "duration": 121,
    "start_time": "2022-12-24T07:37:03.284Z"
   },
   {
    "duration": 6,
    "start_time": "2022-12-24T07:37:03.407Z"
   },
   {
    "duration": 29,
    "start_time": "2022-12-24T07:37:03.415Z"
   },
   {
    "duration": 11,
    "start_time": "2022-12-24T07:37:03.446Z"
   },
   {
    "duration": 9,
    "start_time": "2022-12-24T07:37:03.459Z"
   },
   {
    "duration": 15,
    "start_time": "2022-12-24T07:37:03.470Z"
   },
   {
    "duration": 16,
    "start_time": "2022-12-24T07:37:03.486Z"
   },
   {
    "duration": 6,
    "start_time": "2022-12-24T07:37:03.504Z"
   },
   {
    "duration": 6,
    "start_time": "2022-12-24T07:37:26.101Z"
   },
   {
    "duration": 143,
    "start_time": "2022-12-24T07:37:33.985Z"
   },
   {
    "duration": 144,
    "start_time": "2022-12-24T07:37:40.416Z"
   },
   {
    "duration": 103,
    "start_time": "2022-12-24T07:38:00.337Z"
   },
   {
    "duration": 143,
    "start_time": "2022-12-24T07:38:11.269Z"
   },
   {
    "duration": 10,
    "start_time": "2022-12-24T07:39:05.701Z"
   },
   {
    "duration": 8,
    "start_time": "2022-12-24T07:39:20.452Z"
   },
   {
    "duration": 891,
    "start_time": "2022-12-24T07:40:26.718Z"
   },
   {
    "duration": 106,
    "start_time": "2022-12-24T07:40:36.401Z"
   },
   {
    "duration": 142,
    "start_time": "2022-12-24T07:41:15.452Z"
   },
   {
    "duration": 12,
    "start_time": "2022-12-24T07:41:40.485Z"
   },
   {
    "duration": 15,
    "start_time": "2022-12-24T07:41:48.653Z"
   },
   {
    "duration": 128,
    "start_time": "2022-12-24T07:41:58.983Z"
   },
   {
    "duration": 10,
    "start_time": "2022-12-24T07:42:54.884Z"
   },
   {
    "duration": 11,
    "start_time": "2022-12-24T07:43:07.402Z"
   },
   {
    "duration": 215,
    "start_time": "2022-12-24T07:43:09.222Z"
   },
   {
    "duration": 11,
    "start_time": "2022-12-24T07:44:05.752Z"
   },
   {
    "duration": 131,
    "start_time": "2022-12-24T07:44:07.549Z"
   },
   {
    "duration": 12,
    "start_time": "2022-12-24T07:44:41.466Z"
   },
   {
    "duration": 139,
    "start_time": "2022-12-24T07:44:49.846Z"
   },
   {
    "duration": 12,
    "start_time": "2022-12-24T07:45:23.313Z"
   },
   {
    "duration": 14,
    "start_time": "2022-12-24T07:45:24.265Z"
   },
   {
    "duration": 131,
    "start_time": "2022-12-24T07:45:39.369Z"
   },
   {
    "duration": 11,
    "start_time": "2022-12-24T07:45:54.571Z"
   },
   {
    "duration": 127,
    "start_time": "2022-12-24T07:46:12.935Z"
   },
   {
    "duration": 9,
    "start_time": "2022-12-24T07:48:55.652Z"
   },
   {
    "duration": 3,
    "start_time": "2022-12-24T07:49:12.833Z"
   },
   {
    "duration": 142,
    "start_time": "2022-12-24T07:49:31.068Z"
   },
   {
    "duration": 211,
    "start_time": "2022-12-24T07:49:41.800Z"
   },
   {
    "duration": 334,
    "start_time": "2022-12-24T07:52:53.497Z"
   },
   {
    "duration": 128,
    "start_time": "2022-12-24T07:53:15.597Z"
   },
   {
    "duration": 1249,
    "start_time": "2022-12-24T07:57:15.935Z"
   },
   {
    "duration": 57,
    "start_time": "2022-12-24T07:57:17.186Z"
   },
   {
    "duration": 26,
    "start_time": "2022-12-24T07:57:17.245Z"
   },
   {
    "duration": 24,
    "start_time": "2022-12-24T07:57:17.273Z"
   },
   {
    "duration": 665,
    "start_time": "2022-12-24T07:57:17.299Z"
   },
   {
    "duration": 206,
    "start_time": "2022-12-24T07:57:17.966Z"
   },
   {
    "duration": 207,
    "start_time": "2022-12-24T07:57:18.174Z"
   },
   {
    "duration": 211,
    "start_time": "2022-12-24T07:57:18.383Z"
   },
   {
    "duration": 206,
    "start_time": "2022-12-24T07:57:18.596Z"
   },
   {
    "duration": 3,
    "start_time": "2022-12-24T07:57:18.805Z"
   },
   {
    "duration": 27,
    "start_time": "2022-12-24T07:57:18.810Z"
   },
   {
    "duration": 24,
    "start_time": "2022-12-24T07:57:18.839Z"
   },
   {
    "duration": 14,
    "start_time": "2022-12-24T07:57:18.865Z"
   },
   {
    "duration": 29,
    "start_time": "2022-12-24T07:57:18.881Z"
   },
   {
    "duration": 28,
    "start_time": "2022-12-24T07:57:18.912Z"
   },
   {
    "duration": 17,
    "start_time": "2022-12-24T07:57:18.942Z"
   },
   {
    "duration": 24,
    "start_time": "2022-12-24T07:57:18.961Z"
   },
   {
    "duration": 60,
    "start_time": "2022-12-24T07:57:18.987Z"
   },
   {
    "duration": 22,
    "start_time": "2022-12-24T07:57:19.051Z"
   },
   {
    "duration": 20,
    "start_time": "2022-12-24T07:57:19.074Z"
   },
   {
    "duration": 20,
    "start_time": "2022-12-24T07:57:19.095Z"
   },
   {
    "duration": 32,
    "start_time": "2022-12-24T07:57:19.117Z"
   },
   {
    "duration": 16,
    "start_time": "2022-12-24T07:57:19.152Z"
   },
   {
    "duration": 16,
    "start_time": "2022-12-24T07:57:19.170Z"
   },
   {
    "duration": 31,
    "start_time": "2022-12-24T07:57:19.191Z"
   },
   {
    "duration": 16,
    "start_time": "2022-12-24T07:57:19.224Z"
   },
   {
    "duration": 17,
    "start_time": "2022-12-24T07:57:19.242Z"
   },
   {
    "duration": 28,
    "start_time": "2022-12-24T07:57:19.263Z"
   },
   {
    "duration": 5,
    "start_time": "2022-12-24T07:57:19.293Z"
   },
   {
    "duration": 30,
    "start_time": "2022-12-24T07:57:19.300Z"
   },
   {
    "duration": 34,
    "start_time": "2022-12-24T07:57:19.332Z"
   },
   {
    "duration": 17,
    "start_time": "2022-12-24T07:57:19.368Z"
   },
   {
    "duration": 14,
    "start_time": "2022-12-24T07:57:19.386Z"
   },
   {
    "duration": 24,
    "start_time": "2022-12-24T07:57:19.402Z"
   },
   {
    "duration": 31,
    "start_time": "2022-12-24T07:57:19.428Z"
   },
   {
    "duration": 106,
    "start_time": "2022-12-24T07:57:19.461Z"
   },
   {
    "duration": 21,
    "start_time": "2022-12-24T07:57:19.568Z"
   },
   {
    "duration": 27,
    "start_time": "2022-12-24T07:57:19.591Z"
   },
   {
    "duration": 33,
    "start_time": "2022-12-24T07:57:19.621Z"
   },
   {
    "duration": 41,
    "start_time": "2022-12-24T07:57:19.656Z"
   },
   {
    "duration": 7,
    "start_time": "2022-12-24T07:57:19.699Z"
   },
   {
    "duration": 48,
    "start_time": "2022-12-24T07:57:19.708Z"
   },
   {
    "duration": 442,
    "start_time": "2022-12-24T07:57:19.758Z"
   },
   {
    "duration": 14,
    "start_time": "2022-12-24T07:57:20.202Z"
   },
   {
    "duration": 3,
    "start_time": "2022-12-24T07:57:20.218Z"
   },
   {
    "duration": 29,
    "start_time": "2022-12-24T07:57:20.222Z"
   },
   {
    "duration": 26,
    "start_time": "2022-12-24T07:57:20.253Z"
   },
   {
    "duration": 10,
    "start_time": "2022-12-24T07:57:20.281Z"
   },
   {
    "duration": 660,
    "start_time": "2022-12-24T07:57:20.293Z"
   },
   {
    "duration": 8,
    "start_time": "2022-12-24T07:57:20.954Z"
   },
   {
    "duration": 26,
    "start_time": "2022-12-24T07:57:20.963Z"
   },
   {
    "duration": 330,
    "start_time": "2022-12-24T07:57:20.990Z"
   },
   {
    "duration": 298,
    "start_time": "2022-12-24T07:57:21.321Z"
   },
   {
    "duration": 405,
    "start_time": "2022-12-24T07:57:21.620Z"
   },
   {
    "duration": 52,
    "start_time": "2022-12-24T07:57:22.027Z"
   },
   {
    "duration": 172,
    "start_time": "2022-12-24T07:57:22.081Z"
   },
   {
    "duration": 8,
    "start_time": "2022-12-24T07:57:22.255Z"
   },
   {
    "duration": 159,
    "start_time": "2022-12-24T07:57:22.264Z"
   },
   {
    "duration": 8,
    "start_time": "2022-12-24T07:57:22.425Z"
   },
   {
    "duration": 1646,
    "start_time": "2022-12-24T07:57:22.434Z"
   },
   {
    "duration": 1688,
    "start_time": "2022-12-24T07:57:24.082Z"
   },
   {
    "duration": 10,
    "start_time": "2022-12-24T07:57:25.772Z"
   },
   {
    "duration": 10,
    "start_time": "2022-12-24T07:57:25.784Z"
   },
   {
    "duration": 426,
    "start_time": "2022-12-24T07:57:25.796Z"
   },
   {
    "duration": 9,
    "start_time": "2022-12-24T07:57:26.224Z"
   },
   {
    "duration": 132,
    "start_time": "2022-12-24T07:57:26.234Z"
   },
   {
    "duration": 10,
    "start_time": "2022-12-24T07:57:26.367Z"
   },
   {
    "duration": 137,
    "start_time": "2022-12-24T07:57:26.379Z"
   },
   {
    "duration": 12,
    "start_time": "2022-12-24T07:57:26.518Z"
   },
   {
    "duration": 135,
    "start_time": "2022-12-24T07:57:26.531Z"
   },
   {
    "duration": 11,
    "start_time": "2022-12-24T07:57:26.668Z"
   },
   {
    "duration": 148,
    "start_time": "2022-12-24T07:57:26.681Z"
   },
   {
    "duration": 21,
    "start_time": "2022-12-24T07:57:26.831Z"
   },
   {
    "duration": 140,
    "start_time": "2022-12-24T07:57:26.853Z"
   },
   {
    "duration": 11,
    "start_time": "2022-12-24T07:57:26.995Z"
   },
   {
    "duration": 134,
    "start_time": "2022-12-24T07:57:27.009Z"
   },
   {
    "duration": 123,
    "start_time": "2022-12-24T07:57:27.145Z"
   },
   {
    "duration": 123,
    "start_time": "2022-12-24T07:57:27.270Z"
   },
   {
    "duration": 120,
    "start_time": "2022-12-24T07:57:27.395Z"
   },
   {
    "duration": 5,
    "start_time": "2022-12-24T07:57:27.517Z"
   },
   {
    "duration": 19,
    "start_time": "2022-12-24T07:57:27.524Z"
   },
   {
    "duration": 4,
    "start_time": "2022-12-24T07:57:27.554Z"
   },
   {
    "duration": 7,
    "start_time": "2022-12-24T07:57:27.560Z"
   },
   {
    "duration": 15,
    "start_time": "2022-12-24T07:57:27.569Z"
   },
   {
    "duration": 12,
    "start_time": "2022-12-24T07:57:27.585Z"
   },
   {
    "duration": 9,
    "start_time": "2022-12-24T07:57:27.599Z"
   },
   {
    "duration": 1157,
    "start_time": "2022-12-24T17:23:11.139Z"
   },
   {
    "duration": 47,
    "start_time": "2022-12-24T17:23:12.297Z"
   },
   {
    "duration": 22,
    "start_time": "2022-12-24T17:23:12.345Z"
   },
   {
    "duration": 37,
    "start_time": "2022-12-24T17:23:12.369Z"
   },
   {
    "duration": 569,
    "start_time": "2022-12-24T17:23:12.408Z"
   },
   {
    "duration": 174,
    "start_time": "2022-12-24T17:23:12.978Z"
   },
   {
    "duration": 166,
    "start_time": "2022-12-24T17:23:13.153Z"
   },
   {
    "duration": 166,
    "start_time": "2022-12-24T17:23:13.320Z"
   },
   {
    "duration": 166,
    "start_time": "2022-12-24T17:23:13.487Z"
   },
   {
    "duration": 3,
    "start_time": "2022-12-24T17:23:13.655Z"
   },
   {
    "duration": 7,
    "start_time": "2022-12-24T17:23:13.660Z"
   },
   {
    "duration": 17,
    "start_time": "2022-12-24T17:23:13.668Z"
   },
   {
    "duration": 26,
    "start_time": "2022-12-24T17:23:13.686Z"
   },
   {
    "duration": 18,
    "start_time": "2022-12-24T17:23:13.713Z"
   },
   {
    "duration": 26,
    "start_time": "2022-12-24T17:23:13.733Z"
   },
   {
    "duration": 18,
    "start_time": "2022-12-24T17:23:13.760Z"
   },
   {
    "duration": 27,
    "start_time": "2022-12-24T17:23:13.779Z"
   },
   {
    "duration": 71,
    "start_time": "2022-12-24T17:23:13.808Z"
   },
   {
    "duration": 12,
    "start_time": "2022-12-24T17:23:13.881Z"
   },
   {
    "duration": 30,
    "start_time": "2022-12-24T17:23:13.895Z"
   },
   {
    "duration": 7,
    "start_time": "2022-12-24T17:23:13.926Z"
   },
   {
    "duration": 19,
    "start_time": "2022-12-24T17:23:13.934Z"
   },
   {
    "duration": 3,
    "start_time": "2022-12-24T17:23:13.955Z"
   },
   {
    "duration": 24,
    "start_time": "2022-12-24T17:23:13.960Z"
   },
   {
    "duration": 29,
    "start_time": "2022-12-24T17:23:13.986Z"
   },
   {
    "duration": 11,
    "start_time": "2022-12-24T17:23:14.016Z"
   },
   {
    "duration": 24,
    "start_time": "2022-12-24T17:23:14.029Z"
   },
   {
    "duration": 20,
    "start_time": "2022-12-24T17:23:14.058Z"
   },
   {
    "duration": 5,
    "start_time": "2022-12-24T17:23:14.080Z"
   },
   {
    "duration": 23,
    "start_time": "2022-12-24T17:23:14.087Z"
   },
   {
    "duration": 33,
    "start_time": "2022-12-24T17:23:14.112Z"
   },
   {
    "duration": 22,
    "start_time": "2022-12-24T17:23:14.147Z"
   },
   {
    "duration": 11,
    "start_time": "2022-12-24T17:23:14.170Z"
   },
   {
    "duration": 22,
    "start_time": "2022-12-24T17:23:14.182Z"
   },
   {
    "duration": 18,
    "start_time": "2022-12-24T17:23:14.205Z"
   },
   {
    "duration": 82,
    "start_time": "2022-12-24T17:23:14.225Z"
   },
   {
    "duration": 9,
    "start_time": "2022-12-24T17:23:14.309Z"
   },
   {
    "duration": 4,
    "start_time": "2022-12-24T17:23:14.326Z"
   },
   {
    "duration": 23,
    "start_time": "2022-12-24T17:23:14.331Z"
   },
   {
    "duration": 27,
    "start_time": "2022-12-24T17:23:14.355Z"
   },
   {
    "duration": 5,
    "start_time": "2022-12-24T17:23:14.383Z"
   },
   {
    "duration": 38,
    "start_time": "2022-12-24T17:23:14.389Z"
   },
   {
    "duration": 332,
    "start_time": "2022-12-24T17:23:14.429Z"
   },
   {
    "duration": 11,
    "start_time": "2022-12-24T17:23:14.763Z"
   },
   {
    "duration": 5,
    "start_time": "2022-12-24T17:23:14.776Z"
   },
   {
    "duration": 7,
    "start_time": "2022-12-24T17:23:14.782Z"
   },
   {
    "duration": 40,
    "start_time": "2022-12-24T17:23:14.791Z"
   },
   {
    "duration": 9,
    "start_time": "2022-12-24T17:23:14.833Z"
   },
   {
    "duration": 528,
    "start_time": "2022-12-24T17:23:14.843Z"
   },
   {
    "duration": 8,
    "start_time": "2022-12-24T17:23:15.373Z"
   },
   {
    "duration": 26,
    "start_time": "2022-12-24T17:23:15.382Z"
   },
   {
    "duration": 305,
    "start_time": "2022-12-24T17:23:15.410Z"
   },
   {
    "duration": 301,
    "start_time": "2022-12-24T17:23:15.718Z"
   },
   {
    "duration": 343,
    "start_time": "2022-12-24T17:23:16.020Z"
   },
   {
    "duration": 40,
    "start_time": "2022-12-24T17:23:16.364Z"
   },
   {
    "duration": 161,
    "start_time": "2022-12-24T17:23:16.405Z"
   },
   {
    "duration": 6,
    "start_time": "2022-12-24T17:23:16.568Z"
   },
   {
    "duration": 137,
    "start_time": "2022-12-24T17:23:16.576Z"
   },
   {
    "duration": 14,
    "start_time": "2022-12-24T17:23:16.714Z"
   },
   {
    "duration": 1428,
    "start_time": "2022-12-24T17:23:16.729Z"
   },
   {
    "duration": 1474,
    "start_time": "2022-12-24T17:23:18.158Z"
   },
   {
    "duration": 9,
    "start_time": "2022-12-24T17:23:19.634Z"
   },
   {
    "duration": 17,
    "start_time": "2022-12-24T17:23:19.644Z"
   },
   {
    "duration": 396,
    "start_time": "2022-12-24T17:23:19.662Z"
   },
   {
    "duration": 9,
    "start_time": "2022-12-24T17:23:20.060Z"
   },
   {
    "duration": 118,
    "start_time": "2022-12-24T17:23:20.070Z"
   },
   {
    "duration": 10,
    "start_time": "2022-12-24T17:23:20.190Z"
   },
   {
    "duration": 125,
    "start_time": "2022-12-24T17:23:20.202Z"
   },
   {
    "duration": 10,
    "start_time": "2022-12-24T17:23:20.329Z"
   },
   {
    "duration": 127,
    "start_time": "2022-12-24T17:23:20.341Z"
   },
   {
    "duration": 10,
    "start_time": "2022-12-24T17:23:20.470Z"
   },
   {
    "duration": 128,
    "start_time": "2022-12-24T17:23:20.482Z"
   },
   {
    "duration": 18,
    "start_time": "2022-12-24T17:23:20.612Z"
   },
   {
    "duration": 120,
    "start_time": "2022-12-24T17:23:20.632Z"
   },
   {
    "duration": 10,
    "start_time": "2022-12-24T17:23:20.754Z"
   },
   {
    "duration": 127,
    "start_time": "2022-12-24T17:23:20.765Z"
   },
   {
    "duration": 106,
    "start_time": "2022-12-24T17:23:20.894Z"
   },
   {
    "duration": 107,
    "start_time": "2022-12-24T17:23:21.002Z"
   },
   {
    "duration": 101,
    "start_time": "2022-12-24T17:23:21.110Z"
   },
   {
    "duration": 15,
    "start_time": "2022-12-24T17:23:21.213Z"
   },
   {
    "duration": 13,
    "start_time": "2022-12-24T17:23:21.229Z"
   },
   {
    "duration": 4,
    "start_time": "2022-12-24T17:23:21.246Z"
   },
   {
    "duration": 7,
    "start_time": "2022-12-24T17:23:21.252Z"
   },
   {
    "duration": 10,
    "start_time": "2022-12-24T17:23:21.260Z"
   },
   {
    "duration": 7,
    "start_time": "2022-12-24T17:23:21.271Z"
   },
   {
    "duration": 7,
    "start_time": "2022-12-24T17:23:21.279Z"
   },
   {
    "duration": 304,
    "start_time": "2022-12-24T17:24:38.958Z"
   },
   {
    "duration": 386,
    "start_time": "2022-12-24T17:27:18.202Z"
   },
   {
    "duration": 297,
    "start_time": "2022-12-24T17:27:26.576Z"
   },
   {
    "duration": 1375,
    "start_time": "2022-12-24T17:27:36.833Z"
   },
   {
    "duration": 1316,
    "start_time": "2022-12-24T17:28:53.785Z"
   },
   {
    "duration": 242,
    "start_time": "2022-12-24T17:29:05.699Z"
   },
   {
    "duration": 12,
    "start_time": "2022-12-24T17:29:27.300Z"
   },
   {
    "duration": 1090,
    "start_time": "2022-12-24T17:29:39.443Z"
   },
   {
    "duration": 13,
    "start_time": "2022-12-24T17:29:48.599Z"
   },
   {
    "duration": 10,
    "start_time": "2022-12-24T17:29:56.545Z"
   },
   {
    "duration": 1144,
    "start_time": "2022-12-24T17:30:05.537Z"
   },
   {
    "duration": 11,
    "start_time": "2022-12-24T17:30:10.675Z"
   },
   {
    "duration": 213,
    "start_time": "2022-12-24T17:30:38.930Z"
   },
   {
    "duration": 12,
    "start_time": "2022-12-24T17:31:00.068Z"
   },
   {
    "duration": 329,
    "start_time": "2022-12-24T17:31:11.747Z"
   },
   {
    "duration": 230,
    "start_time": "2022-12-24T17:31:39.041Z"
   },
   {
    "duration": 217,
    "start_time": "2022-12-24T17:31:44.148Z"
   },
   {
    "duration": 225,
    "start_time": "2022-12-24T17:33:11.317Z"
   },
   {
    "duration": 256,
    "start_time": "2022-12-24T17:33:21.741Z"
   },
   {
    "duration": 225,
    "start_time": "2022-12-24T17:37:16.170Z"
   },
   {
    "duration": 242,
    "start_time": "2022-12-24T17:37:23.233Z"
   },
   {
    "duration": 301,
    "start_time": "2022-12-24T17:37:27.129Z"
   },
   {
    "duration": 228,
    "start_time": "2022-12-24T17:37:59.729Z"
   },
   {
    "duration": 323,
    "start_time": "2022-12-24T17:38:10.225Z"
   },
   {
    "duration": 291,
    "start_time": "2022-12-24T17:39:02.572Z"
   },
   {
    "duration": 285,
    "start_time": "2022-12-24T17:39:17.113Z"
   },
   {
    "duration": 301,
    "start_time": "2022-12-24T17:39:33.436Z"
   },
   {
    "duration": 416,
    "start_time": "2022-12-24T17:39:45.997Z"
   },
   {
    "duration": 14,
    "start_time": "2022-12-24T17:41:18.820Z"
   },
   {
    "duration": 4,
    "start_time": "2022-12-24T17:41:40.541Z"
   },
   {
    "duration": 434,
    "start_time": "2022-12-24T17:41:46.620Z"
   },
   {
    "duration": 10,
    "start_time": "2022-12-24T17:42:21.605Z"
   },
   {
    "duration": 251,
    "start_time": "2022-12-24T17:42:41.451Z"
   },
   {
    "duration": 7,
    "start_time": "2022-12-24T17:42:49.395Z"
   },
   {
    "duration": 16,
    "start_time": "2022-12-24T17:43:37.100Z"
   },
   {
    "duration": 11,
    "start_time": "2022-12-24T17:43:58.869Z"
   },
   {
    "duration": 9,
    "start_time": "2022-12-24T17:44:06.321Z"
   },
   {
    "duration": 3,
    "start_time": "2022-12-24T17:44:19.289Z"
   },
   {
    "duration": 46,
    "start_time": "2022-12-24T17:44:19.296Z"
   },
   {
    "duration": 17,
    "start_time": "2022-12-24T17:44:19.344Z"
   },
   {
    "duration": 16,
    "start_time": "2022-12-24T17:44:19.362Z"
   },
   {
    "duration": 601,
    "start_time": "2022-12-24T17:44:19.379Z"
   },
   {
    "duration": 189,
    "start_time": "2022-12-24T17:44:19.981Z"
   },
   {
    "duration": 154,
    "start_time": "2022-12-24T17:44:20.172Z"
   },
   {
    "duration": 268,
    "start_time": "2022-12-24T17:44:20.328Z"
   },
   {
    "duration": 169,
    "start_time": "2022-12-24T17:44:20.598Z"
   },
   {
    "duration": 3,
    "start_time": "2022-12-24T17:44:20.769Z"
   },
   {
    "duration": 8,
    "start_time": "2022-12-24T17:44:20.775Z"
   },
   {
    "duration": 10,
    "start_time": "2022-12-24T17:44:20.785Z"
   },
   {
    "duration": 8,
    "start_time": "2022-12-24T17:44:20.796Z"
   },
   {
    "duration": 7,
    "start_time": "2022-12-24T17:44:20.805Z"
   },
   {
    "duration": 20,
    "start_time": "2022-12-24T17:44:20.814Z"
   },
   {
    "duration": 8,
    "start_time": "2022-12-24T17:44:20.835Z"
   },
   {
    "duration": 13,
    "start_time": "2022-12-24T17:44:20.845Z"
   },
   {
    "duration": 18,
    "start_time": "2022-12-24T17:44:20.859Z"
   },
   {
    "duration": 13,
    "start_time": "2022-12-24T17:44:20.879Z"
   },
   {
    "duration": 7,
    "start_time": "2022-12-24T17:44:20.893Z"
   },
   {
    "duration": 4,
    "start_time": "2022-12-24T17:44:20.927Z"
   },
   {
    "duration": 20,
    "start_time": "2022-12-24T17:44:20.932Z"
   },
   {
    "duration": 11,
    "start_time": "2022-12-24T17:44:20.954Z"
   },
   {
    "duration": 6,
    "start_time": "2022-12-24T17:44:20.967Z"
   },
   {
    "duration": 16,
    "start_time": "2022-12-24T17:44:20.975Z"
   },
   {
    "duration": 4,
    "start_time": "2022-12-24T17:44:20.992Z"
   },
   {
    "duration": 14,
    "start_time": "2022-12-24T17:44:20.998Z"
   },
   {
    "duration": 20,
    "start_time": "2022-12-24T17:44:21.027Z"
   },
   {
    "duration": 6,
    "start_time": "2022-12-24T17:44:21.049Z"
   },
   {
    "duration": 10,
    "start_time": "2022-12-24T17:44:21.057Z"
   },
   {
    "duration": 20,
    "start_time": "2022-12-24T17:44:21.069Z"
   },
   {
    "duration": 37,
    "start_time": "2022-12-24T17:44:21.090Z"
   },
   {
    "duration": 10,
    "start_time": "2022-12-24T17:44:21.129Z"
   },
   {
    "duration": 17,
    "start_time": "2022-12-24T17:44:21.141Z"
   },
   {
    "duration": 16,
    "start_time": "2022-12-24T17:44:21.159Z"
   },
   {
    "duration": 6,
    "start_time": "2022-12-24T17:44:21.176Z"
   },
   {
    "duration": 8,
    "start_time": "2022-12-24T17:44:21.183Z"
   },
   {
    "duration": 5,
    "start_time": "2022-12-24T17:44:21.192Z"
   },
   {
    "duration": 35,
    "start_time": "2022-12-24T17:44:21.198Z"
   },
   {
    "duration": 22,
    "start_time": "2022-12-24T17:44:21.234Z"
   },
   {
    "duration": 4,
    "start_time": "2022-12-24T17:44:21.258Z"
   },
   {
    "duration": 20,
    "start_time": "2022-12-24T17:44:21.264Z"
   },
   {
    "duration": 359,
    "start_time": "2022-12-24T17:44:21.286Z"
   },
   {
    "duration": 11,
    "start_time": "2022-12-24T17:44:21.647Z"
   },
   {
    "duration": 7,
    "start_time": "2022-12-24T17:44:21.659Z"
   },
   {
    "duration": 9,
    "start_time": "2022-12-24T17:44:21.668Z"
   },
   {
    "duration": 26,
    "start_time": "2022-12-24T17:44:21.678Z"
   },
   {
    "duration": 22,
    "start_time": "2022-12-24T17:44:21.705Z"
   },
   {
    "duration": 540,
    "start_time": "2022-12-24T17:44:21.728Z"
   },
   {
    "duration": 5,
    "start_time": "2022-12-24T17:44:22.270Z"
   },
   {
    "duration": 20,
    "start_time": "2022-12-24T17:44:22.277Z"
   },
   {
    "duration": 261,
    "start_time": "2022-12-24T17:44:22.298Z"
   },
   {
    "duration": 340,
    "start_time": "2022-12-24T17:44:22.561Z"
   },
   {
    "duration": 265,
    "start_time": "2022-12-24T17:44:22.902Z"
   },
   {
    "duration": 33,
    "start_time": "2022-12-24T17:44:23.169Z"
   },
   {
    "duration": 140,
    "start_time": "2022-12-24T17:44:23.207Z"
   },
   {
    "duration": 7,
    "start_time": "2022-12-24T17:44:23.348Z"
   },
   {
    "duration": 137,
    "start_time": "2022-12-24T17:44:23.356Z"
   },
   {
    "duration": 6,
    "start_time": "2022-12-24T17:44:23.495Z"
   },
   {
    "duration": 1462,
    "start_time": "2022-12-24T17:44:23.503Z"
   },
   {
    "duration": 1492,
    "start_time": "2022-12-24T17:44:24.967Z"
   },
   {
    "duration": 9,
    "start_time": "2022-12-24T17:44:26.461Z"
   },
   {
    "duration": 13,
    "start_time": "2022-12-24T17:44:26.471Z"
   },
   {
    "duration": 361,
    "start_time": "2022-12-24T17:44:26.486Z"
   },
   {
    "duration": 8,
    "start_time": "2022-12-24T17:44:26.849Z"
   },
   {
    "duration": 110,
    "start_time": "2022-12-24T17:44:26.859Z"
   },
   {
    "duration": 10,
    "start_time": "2022-12-24T17:44:26.970Z"
   },
   {
    "duration": 123,
    "start_time": "2022-12-24T17:44:26.981Z"
   },
   {
    "duration": 10,
    "start_time": "2022-12-24T17:44:27.105Z"
   },
   {
    "duration": 112,
    "start_time": "2022-12-24T17:44:27.116Z"
   },
   {
    "duration": 9,
    "start_time": "2022-12-24T17:44:27.230Z"
   },
   {
    "duration": 123,
    "start_time": "2022-12-24T17:44:27.241Z"
   },
   {
    "duration": 9,
    "start_time": "2022-12-24T17:44:27.366Z"
   },
   {
    "duration": 122,
    "start_time": "2022-12-24T17:44:27.376Z"
   },
   {
    "duration": 9,
    "start_time": "2022-12-24T17:44:27.499Z"
   },
   {
    "duration": 117,
    "start_time": "2022-12-24T17:44:27.509Z"
   },
   {
    "duration": 103,
    "start_time": "2022-12-24T17:44:27.628Z"
   },
   {
    "duration": 108,
    "start_time": "2022-12-24T17:44:27.733Z"
   },
   {
    "duration": 108,
    "start_time": "2022-12-24T17:44:27.846Z"
   },
   {
    "duration": 10,
    "start_time": "2022-12-24T17:44:27.956Z"
   },
   {
    "duration": 13,
    "start_time": "2022-12-24T17:44:27.968Z"
   },
   {
    "duration": 322,
    "start_time": "2022-12-24T17:44:39.424Z"
   },
   {
    "duration": 262,
    "start_time": "2022-12-24T17:45:03.854Z"
   },
   {
    "duration": 240,
    "start_time": "2022-12-24T17:45:32.271Z"
   },
   {
    "duration": 249,
    "start_time": "2022-12-24T17:45:40.953Z"
   },
   {
    "duration": 1070,
    "start_time": "2022-12-24T17:46:59.042Z"
   },
   {
    "duration": 46,
    "start_time": "2022-12-24T17:47:00.114Z"
   },
   {
    "duration": 22,
    "start_time": "2022-12-24T17:47:00.162Z"
   },
   {
    "duration": 21,
    "start_time": "2022-12-24T17:47:00.186Z"
   },
   {
    "duration": 557,
    "start_time": "2022-12-24T17:47:00.209Z"
   },
   {
    "duration": 168,
    "start_time": "2022-12-24T17:47:00.768Z"
   },
   {
    "duration": 164,
    "start_time": "2022-12-24T17:47:00.938Z"
   },
   {
    "duration": 175,
    "start_time": "2022-12-24T17:47:01.104Z"
   },
   {
    "duration": 185,
    "start_time": "2022-12-24T17:47:01.281Z"
   },
   {
    "duration": 4,
    "start_time": "2022-12-24T17:47:01.469Z"
   },
   {
    "duration": 31,
    "start_time": "2022-12-24T17:47:01.474Z"
   },
   {
    "duration": 40,
    "start_time": "2022-12-24T17:47:01.507Z"
   },
   {
    "duration": 43,
    "start_time": "2022-12-24T17:47:01.548Z"
   },
   {
    "duration": 51,
    "start_time": "2022-12-24T17:47:01.593Z"
   },
   {
    "duration": 44,
    "start_time": "2022-12-24T17:47:01.646Z"
   },
   {
    "duration": 34,
    "start_time": "2022-12-24T17:47:01.692Z"
   },
   {
    "duration": 31,
    "start_time": "2022-12-24T17:47:01.727Z"
   },
   {
    "duration": 86,
    "start_time": "2022-12-24T17:47:01.760Z"
   },
   {
    "duration": 15,
    "start_time": "2022-12-24T17:47:01.848Z"
   },
   {
    "duration": 23,
    "start_time": "2022-12-24T17:47:01.864Z"
   },
   {
    "duration": 33,
    "start_time": "2022-12-24T17:47:01.889Z"
   },
   {
    "duration": 31,
    "start_time": "2022-12-24T17:47:01.923Z"
   },
   {
    "duration": 17,
    "start_time": "2022-12-24T17:47:01.955Z"
   },
   {
    "duration": 38,
    "start_time": "2022-12-24T17:47:01.973Z"
   },
   {
    "duration": 34,
    "start_time": "2022-12-24T17:47:02.013Z"
   },
   {
    "duration": 40,
    "start_time": "2022-12-24T17:47:02.048Z"
   },
   {
    "duration": 62,
    "start_time": "2022-12-24T17:47:02.090Z"
   },
   {
    "duration": 73,
    "start_time": "2022-12-24T17:47:02.156Z"
   },
   {
    "duration": 37,
    "start_time": "2022-12-24T17:47:02.230Z"
   },
   {
    "duration": 31,
    "start_time": "2022-12-24T17:47:02.269Z"
   },
   {
    "duration": 31,
    "start_time": "2022-12-24T17:47:02.301Z"
   },
   {
    "duration": 27,
    "start_time": "2022-12-24T17:47:02.334Z"
   },
   {
    "duration": 31,
    "start_time": "2022-12-24T17:47:02.363Z"
   },
   {
    "duration": 26,
    "start_time": "2022-12-24T17:47:02.395Z"
   },
   {
    "duration": 34,
    "start_time": "2022-12-24T17:47:02.422Z"
   },
   {
    "duration": 45,
    "start_time": "2022-12-24T17:47:02.458Z"
   },
   {
    "duration": 108,
    "start_time": "2022-12-24T17:47:02.505Z"
   },
   {
    "duration": 45,
    "start_time": "2022-12-24T17:47:02.615Z"
   },
   {
    "duration": 36,
    "start_time": "2022-12-24T17:47:02.662Z"
   },
   {
    "duration": 56,
    "start_time": "2022-12-24T17:47:02.700Z"
   },
   {
    "duration": 7,
    "start_time": "2022-12-24T17:47:02.758Z"
   },
   {
    "duration": 28,
    "start_time": "2022-12-24T17:47:02.767Z"
   },
   {
    "duration": 352,
    "start_time": "2022-12-24T17:47:02.796Z"
   },
   {
    "duration": 13,
    "start_time": "2022-12-24T17:47:03.150Z"
   },
   {
    "duration": 16,
    "start_time": "2022-12-24T17:47:03.164Z"
   },
   {
    "duration": 30,
    "start_time": "2022-12-24T17:47:03.181Z"
   },
   {
    "duration": 34,
    "start_time": "2022-12-24T17:47:03.212Z"
   },
   {
    "duration": 17,
    "start_time": "2022-12-24T17:47:03.248Z"
   },
   {
    "duration": 504,
    "start_time": "2022-12-24T17:47:03.266Z"
   },
   {
    "duration": 7,
    "start_time": "2022-12-24T17:47:03.772Z"
   },
   {
    "duration": 26,
    "start_time": "2022-12-24T17:47:03.781Z"
   },
   {
    "duration": 273,
    "start_time": "2022-12-24T17:47:03.808Z"
   },
   {
    "duration": 250,
    "start_time": "2022-12-24T17:47:04.082Z"
   },
   {
    "duration": 341,
    "start_time": "2022-12-24T17:47:04.333Z"
   },
   {
    "duration": 34,
    "start_time": "2022-12-24T17:47:04.675Z"
   },
   {
    "duration": 142,
    "start_time": "2022-12-24T17:47:04.710Z"
   },
   {
    "duration": 7,
    "start_time": "2022-12-24T17:47:04.853Z"
   },
   {
    "duration": 144,
    "start_time": "2022-12-24T17:47:04.862Z"
   },
   {
    "duration": 8,
    "start_time": "2022-12-24T17:47:05.017Z"
   },
   {
    "duration": 1494,
    "start_time": "2022-12-24T17:47:05.027Z"
   },
   {
    "duration": 1580,
    "start_time": "2022-12-24T17:47:06.526Z"
   },
   {
    "duration": 19,
    "start_time": "2022-12-24T17:47:08.108Z"
   },
   {
    "duration": 20,
    "start_time": "2022-12-24T17:47:08.129Z"
   },
   {
    "duration": 372,
    "start_time": "2022-12-24T17:47:08.150Z"
   },
   {
    "duration": 9,
    "start_time": "2022-12-24T17:47:08.523Z"
   },
   {
    "duration": 118,
    "start_time": "2022-12-24T17:47:08.533Z"
   },
   {
    "duration": 11,
    "start_time": "2022-12-24T17:47:08.653Z"
   },
   {
    "duration": 129,
    "start_time": "2022-12-24T17:47:08.665Z"
   },
   {
    "duration": 10,
    "start_time": "2022-12-24T17:47:08.796Z"
   },
   {
    "duration": 125,
    "start_time": "2022-12-24T17:47:08.807Z"
   },
   {
    "duration": 10,
    "start_time": "2022-12-24T17:47:08.933Z"
   },
   {
    "duration": 125,
    "start_time": "2022-12-24T17:47:08.944Z"
   },
   {
    "duration": 9,
    "start_time": "2022-12-24T17:47:09.071Z"
   },
   {
    "duration": 133,
    "start_time": "2022-12-24T17:47:09.081Z"
   },
   {
    "duration": 15,
    "start_time": "2022-12-24T17:47:09.216Z"
   },
   {
    "duration": 123,
    "start_time": "2022-12-24T17:47:09.232Z"
   },
   {
    "duration": 102,
    "start_time": "2022-12-24T17:47:09.356Z"
   },
   {
    "duration": 111,
    "start_time": "2022-12-24T17:47:09.460Z"
   },
   {
    "duration": 104,
    "start_time": "2022-12-24T17:47:09.573Z"
   },
   {
    "duration": 5,
    "start_time": "2022-12-24T17:47:09.679Z"
   },
   {
    "duration": 25,
    "start_time": "2022-12-24T17:47:09.686Z"
   },
   {
    "duration": 17,
    "start_time": "2022-12-24T17:47:09.715Z"
   },
   {
    "duration": 13,
    "start_time": "2022-12-24T17:47:09.734Z"
   },
   {
    "duration": 30,
    "start_time": "2022-12-24T17:47:09.749Z"
   },
   {
    "duration": 9,
    "start_time": "2022-12-24T17:47:09.780Z"
   },
   {
    "duration": 19,
    "start_time": "2022-12-24T17:47:09.791Z"
   }
  ],
  "kernelspec": {
   "display_name": "Python 3 (ipykernel)",
   "language": "python",
   "name": "python3"
  },
  "language_info": {
   "codemirror_mode": {
    "name": "ipython",
    "version": 3
   },
   "file_extension": ".py",
   "mimetype": "text/x-python",
   "name": "python",
   "nbconvert_exporter": "python",
   "pygments_lexer": "ipython3",
   "version": "3.9.5"
  },
  "toc": {
   "base_numbering": 1,
   "nav_menu": {},
   "number_sections": true,
   "sideBar": true,
   "skip_h1_title": true,
   "title_cell": "Table of Contents",
   "title_sidebar": "Contents",
   "toc_cell": false,
   "toc_position": {
    "height": "calc(100% - 180px)",
    "left": "10px",
    "top": "150px",
    "width": "302.195px"
   },
   "toc_section_display": true,
   "toc_window_display": true
  }
 },
 "nbformat": 4,
 "nbformat_minor": 2
}
